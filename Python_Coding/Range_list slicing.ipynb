{
 "cells": [
  {
   "cell_type": "markdown",
   "id": "03d56e48-6683-438e-b348-95bb9ce04789",
   "metadata": {},
   "source": [
    "RANGE"
   ]
  },
  {
   "cell_type": "code",
   "execution_count": 1,
   "id": "d9158bf8-0f87-4096-8fe0-17c2d03c5059",
   "metadata": {},
   "outputs": [
    {
     "data": {
      "text/plain": [
       "range(0, 5)"
      ]
     },
     "execution_count": 1,
     "metadata": {},
     "output_type": "execute_result"
    }
   ],
   "source": [
    "range(5) # the range defines the numbers or integers that are between 0 up to the given number."
   ]
  },
  {
   "cell_type": "code",
   "execution_count": 2,
   "id": "aeeb3336-f6f9-40a6-a53b-d93f88cee7d1",
   "metadata": {},
   "outputs": [
    {
     "data": {
      "text/plain": [
       "[0, 1, 2, 3, 4]"
      ]
     },
     "execution_count": 2,
     "metadata": {},
     "output_type": "execute_result"
    }
   ],
   "source": [
    "list(range(0,5)) # list function lists the the variables."
   ]
  },
  {
   "cell_type": "code",
   "execution_count": 3,
   "id": "141a6de9-df91-43bc-8a4b-0dc9a247ecd6",
   "metadata": {},
   "outputs": [
    {
     "data": {
      "text/plain": [
       "range(10, 20)"
      ]
     },
     "execution_count": 3,
     "metadata": {},
     "output_type": "execute_result"
    }
   ],
   "source": [
    "range(10,20)"
   ]
  },
  {
   "cell_type": "code",
   "execution_count": 4,
   "id": "6f375ed6-8f58-444c-80cd-8b9f1ecef07e",
   "metadata": {},
   "outputs": [
    {
     "data": {
      "text/plain": [
       "[10, 11, 12, 13, 14, 15, 16, 17, 18, 19]"
      ]
     },
     "execution_count": 4,
     "metadata": {},
     "output_type": "execute_result"
    }
   ],
   "source": [
    "list(range(10,20))"
   ]
  },
  {
   "cell_type": "code",
   "execution_count": 7,
   "id": "11eb3495-f88e-45d7-aed7-a68f90a25bbe",
   "metadata": {},
   "outputs": [
    {
     "data": {
      "text/plain": [
       "range(10, 20, 3)"
      ]
     },
     "execution_count": 7,
     "metadata": {},
     "output_type": "execute_result"
    }
   ],
   "source": [
    "range(10,20,3)"
   ]
  },
  {
   "cell_type": "code",
   "execution_count": 9,
   "id": "0155ddbe-08fa-47a3-b2a8-0200d042b72a",
   "metadata": {},
   "outputs": [
    {
     "data": {
      "text/plain": [
       "[10, 13, 16, 19]"
      ]
     },
     "execution_count": 9,
     "metadata": {},
     "output_type": "execute_result"
    }
   ],
   "source": [
    "list(range(10,20,3)) # considers the last variable as step size between the range of first and the second elements."
   ]
  },
  {
   "cell_type": "code",
   "execution_count": 10,
   "id": "23e269a2-daca-481b-9dd1-83bc325b391c",
   "metadata": {},
   "outputs": [
    {
     "ename": "TypeError",
     "evalue": "range expected at most 3 arguments, got 4",
     "output_type": "error",
     "traceback": [
      "\u001b[1;31m---------------------------------------------------------------------------\u001b[0m",
      "\u001b[1;31mTypeError\u001b[0m                                 Traceback (most recent call last)",
      "Cell \u001b[1;32mIn[10], line 1\u001b[0m\n\u001b[1;32m----> 1\u001b[0m \u001b[38;5;28mrange\u001b[39m(\u001b[38;5;241m10\u001b[39m,\u001b[38;5;241m20\u001b[39m,\u001b[38;5;241m3\u001b[39m,\u001b[38;5;241m4\u001b[39m)\n",
      "\u001b[1;31mTypeError\u001b[0m: range expected at most 3 arguments, got 4"
     ]
    }
   ],
   "source": [
    "range(10,20,3,4) # range function will only accept upto 3 arguments not more than that."
   ]
  },
  {
   "cell_type": "raw",
   "id": "66f5abc3-10f1-433f-8dcd-0336d7546a7f",
   "metadata": {},
   "source": [
    "range with variable"
   ]
  },
  {
   "cell_type": "code",
   "execution_count": 11,
   "id": "339d5ee8-1f1f-43e7-ab6b-4ab7ed4c055f",
   "metadata": {},
   "outputs": [
    {
     "data": {
      "text/plain": [
       "range(0, 11, 5)"
      ]
     },
     "execution_count": 11,
     "metadata": {},
     "output_type": "execute_result"
    }
   ],
   "source": [
    "r = range(0,11,5)\n",
    "r"
   ]
  },
  {
   "cell_type": "code",
   "execution_count": 12,
   "id": "a7e5669e-7c86-43fc-82c8-d7d3d5528b7f",
   "metadata": {},
   "outputs": [
    {
     "name": "stdout",
     "output_type": "stream",
     "text": [
      "0\n",
      "5\n",
      "10\n"
     ]
    }
   ],
   "source": [
    "for i in r:\n",
    "    print(i)"
   ]
  },
  {
   "cell_type": "code",
   "execution_count": 13,
   "id": "0b68fc10-6e56-4525-8ff7-68066f076d50",
   "metadata": {},
   "outputs": [
    {
     "data": {
      "text/plain": [
       "[0, 5, 10]"
      ]
     },
     "execution_count": 13,
     "metadata": {},
     "output_type": "execute_result"
    }
   ],
   "source": [
    "list(r)"
   ]
  },
  {
   "cell_type": "markdown",
   "id": "8840dfae-beed-4b02-86b0-f767c4167e6d",
   "metadata": {},
   "source": [
    "LIST SLICING"
   ]
  },
  {
   "cell_type": "code",
   "execution_count": 14,
   "id": "72d284dd-621a-4854-914e-1d1bbc4b4792",
   "metadata": {},
   "outputs": [],
   "source": [
    "l = ['a', 'b', 'c', 1, 2.3, 45, True, 1+2j]"
   ]
  },
  {
   "cell_type": "code",
   "execution_count": 15,
   "id": "bd4becab-7231-4dd2-b65a-2eb8ee2ea918",
   "metadata": {},
   "outputs": [
    {
     "data": {
      "text/plain": [
       "['a', 'b', 'c', 1, 2.3, 45, True, (1+2j)]"
      ]
     },
     "execution_count": 15,
     "metadata": {},
     "output_type": "execute_result"
    }
   ],
   "source": [
    "l"
   ]
  },
  {
   "cell_type": "code",
   "execution_count": 18,
   "id": "dc5cdf05-db9f-4b91-97bf-f011d414b079",
   "metadata": {},
   "outputs": [
    {
     "data": {
      "text/plain": [
       "['a', 'b', 'c', 1, 2.3, 45, True, (1+2j)]"
      ]
     },
     "execution_count": 18,
     "metadata": {},
     "output_type": "execute_result"
    }
   ],
   "source": [
    "l[:] # slicing is something that works on indexing."
   ]
  },
  {
   "cell_type": "code",
   "execution_count": 19,
   "id": "db98545a-5af6-4b25-8f05-eba9ab5d57a8",
   "metadata": {},
   "outputs": [
    {
     "data": {
      "text/plain": [
       "[1, 2.3, 45, True, (1+2j)]"
      ]
     },
     "execution_count": 19,
     "metadata": {},
     "output_type": "execute_result"
    }
   ],
   "source": [
    "l[3:] # forward slicing-this uses positive indexing."
   ]
  },
  {
   "cell_type": "code",
   "execution_count": 20,
   "id": "0b553d49-e12c-40b0-96fb-da4733582276",
   "metadata": {},
   "outputs": [
    {
     "data": {
      "text/plain": [
       "[1, 2.3, 45, True, (1+2j)]"
      ]
     },
     "execution_count": 20,
     "metadata": {},
     "output_type": "execute_result"
    }
   ],
   "source": [
    "l[-5:] # backward slicing-this uses negative indexing."
   ]
  },
  {
   "cell_type": "code",
   "execution_count": 21,
   "id": "e462093f-f075-4af3-9a91-99f7d731a18d",
   "metadata": {},
   "outputs": [
    {
     "data": {
      "text/plain": [
       "45"
      ]
     },
     "execution_count": 21,
     "metadata": {},
     "output_type": "execute_result"
    }
   ],
   "source": [
    "l[5]"
   ]
  },
  {
   "cell_type": "code",
   "execution_count": 22,
   "id": "b9411322-d766-454c-be8e-b5022a68a387",
   "metadata": {},
   "outputs": [
    {
     "data": {
      "text/plain": [
       "1"
      ]
     },
     "execution_count": 22,
     "metadata": {},
     "output_type": "execute_result"
    }
   ],
   "source": [
    "l[-5]"
   ]
  },
  {
   "cell_type": "code",
   "execution_count": 23,
   "id": "d5559a3f-7508-459f-8777-324e4c663041",
   "metadata": {},
   "outputs": [
    {
     "data": {
      "text/plain": [
       "['c', 1, 2.3, 45, True]"
      ]
     },
     "execution_count": 23,
     "metadata": {},
     "output_type": "execute_result"
    }
   ],
   "source": [
    "l[2:7]"
   ]
  },
  {
   "cell_type": "code",
   "execution_count": 24,
   "id": "761ff6f4-ea24-4bf2-8e8f-05294621e4ca",
   "metadata": {},
   "outputs": [
    {
     "data": {
      "text/plain": [
       "['a', 'b', 'c', 1, 2.3, 45, True, (1+2j)]"
      ]
     },
     "execution_count": 24,
     "metadata": {},
     "output_type": "execute_result"
    }
   ],
   "source": [
    "l"
   ]
  },
  {
   "cell_type": "code",
   "execution_count": 25,
   "id": "e05dba1c-7776-4c28-ac63-2c69ac04a67d",
   "metadata": {},
   "outputs": [
    {
     "data": {
      "text/plain": [
       "['c', 1, 2.3, 45, True, (1+2j)]"
      ]
     },
     "execution_count": 25,
     "metadata": {},
     "output_type": "execute_result"
    }
   ],
   "source": [
    "l[2:9]"
   ]
  },
  {
   "cell_type": "code",
   "execution_count": 26,
   "id": "85adce4d-f0a2-4c69-82f7-af3bc75ec49a",
   "metadata": {},
   "outputs": [
    {
     "data": {
      "text/plain": [
       "['c', 2.3, True]"
      ]
     },
     "execution_count": 26,
     "metadata": {},
     "output_type": "execute_result"
    }
   ],
   "source": [
    "l[2:9:2] # step slicing."
   ]
  },
  {
   "cell_type": "code",
   "execution_count": 27,
   "id": "768b7027-4033-4258-a855-bc970d5d36b3",
   "metadata": {},
   "outputs": [
    {
     "data": {
      "text/plain": [
       "['a', 45]"
      ]
     },
     "execution_count": 27,
     "metadata": {},
     "output_type": "execute_result"
    }
   ],
   "source": [
    "l[0:9:5]"
   ]
  },
  {
   "cell_type": "code",
   "execution_count": 28,
   "id": "18204467-35a8-41e9-90f3-f4100025c183",
   "metadata": {},
   "outputs": [
    {
     "data": {
      "text/plain": [
       "[]"
      ]
     },
     "execution_count": 28,
     "metadata": {},
     "output_type": "execute_result"
    }
   ],
   "source": [
    "l[-5:3] # slicing will never ever start from backward."
   ]
  },
  {
   "cell_type": "code",
   "execution_count": 29,
   "id": "3c20302e-d98e-4743-ab12-51124bc1381d",
   "metadata": {},
   "outputs": [
    {
     "data": {
      "text/plain": [
       "[1, 2.3]"
      ]
     },
     "execution_count": 29,
     "metadata": {},
     "output_type": "execute_result"
    }
   ],
   "source": [
    "l[-5:-3] # we will get output cuz the operation is working in backward indexing."
   ]
  },
  {
   "cell_type": "code",
   "execution_count": null,
   "id": "6b292c43-1d72-40ce-9416-1884dd1dec5e",
   "metadata": {},
   "outputs": [],
   "source": []
  },
  {
   "cell_type": "code",
   "execution_count": null,
   "id": "5e0c2fdd-1d40-4955-a4c9-3c9015aaf979",
   "metadata": {},
   "outputs": [],
   "source": []
  },
  {
   "cell_type": "code",
   "execution_count": null,
   "id": "f216e7d5-1057-4c2f-bc68-fad9bbdcc769",
   "metadata": {},
   "outputs": [],
   "source": []
  },
  {
   "cell_type": "code",
   "execution_count": null,
   "id": "c2e601c9-3d86-470d-b5e0-64e4f0f54ed5",
   "metadata": {},
   "outputs": [],
   "source": []
  }
 ],
 "metadata": {
  "kernelspec": {
   "display_name": "Python 3 (ipykernel)",
   "language": "python",
   "name": "python3"
  },
  "language_info": {
   "codemirror_mode": {
    "name": "ipython",
    "version": 3
   },
   "file_extension": ".py",
   "mimetype": "text/x-python",
   "name": "python",
   "nbconvert_exporter": "python",
   "pygments_lexer": "ipython3",
   "version": "3.12.7"
  }
 },
 "nbformat": 4,
 "nbformat_minor": 5
}
