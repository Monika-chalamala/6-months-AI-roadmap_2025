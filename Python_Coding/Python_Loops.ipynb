{
 "cells": [
  {
   "cell_type": "markdown",
   "id": "45cba9db-d6a2-47e7-b47f-8ead3efb1ad0",
   "metadata": {},
   "source": [
    "- WHILE LOOP\n",
    "- FOR LOOP"
   ]
  },
  {
   "cell_type": "code",
   "execution_count": 2,
   "id": "5f2b11b0-4226-4c49-86dc-f48c49cebdbc",
   "metadata": {},
   "outputs": [
    {
     "name": "stdout",
     "output_type": "stream",
     "text": [
      "Data Science\n",
      "Data Science\n",
      "Data Science\n",
      "Data Science\n",
      "Data Science\n"
     ]
    }
   ],
   "source": [
    "i = 1\n",
    "\n",
    "while i<=5:\n",
    "    print(\"Data Science\")\n",
    "    i = i + 1 # incremental"
   ]
  },
  {
   "cell_type": "code",
   "execution_count": 3,
   "id": "48c33363-8983-4a65-8021-c2ff61c5e4e0",
   "metadata": {},
   "outputs": [
    {
     "name": "stdout",
     "output_type": "stream",
     "text": [
      "Data Science\n",
      "Data Science\n",
      "Data Science\n",
      "Data Science\n",
      "Data Science\n"
     ]
    }
   ],
   "source": [
    "i = 5\n",
    "\n",
    "while i>=1:\n",
    "    print(\"Data Science\")\n",
    "    i = i - 1  # decremental"
   ]
  },
  {
   "cell_type": "code",
   "execution_count": 4,
   "id": "007fec81-891f-4ab1-be8a-5fea9328ad6c",
   "metadata": {},
   "outputs": [
    {
     "name": "stdout",
     "output_type": "stream",
     "text": [
      "Data Science: 1\n",
      "Data Science: 2\n",
      "Data Science: 3\n",
      "Data Science: 4\n",
      "Data Science: 5\n"
     ]
    }
   ],
   "source": [
    "i = 1\n",
    "\n",
    "while i<=5:\n",
    "    print(\"Data Science:\",i)\n",
    "    i = i + 1 # incremental"
   ]
  },
  {
   "cell_type": "code",
   "execution_count": 5,
   "id": "5647500c-e29f-491b-b849-a2236bee3947",
   "metadata": {},
   "outputs": [
    {
     "name": "stdout",
     "output_type": "stream",
     "text": [
      "Data Science: 5\n",
      "Data Science: 4\n",
      "Data Science: 3\n",
      "Data Science: 2\n",
      "Data Science: 1\n"
     ]
    }
   ],
   "source": [
    "i = 5\n",
    "\n",
    "while i>=1:\n",
    "    print(\"Data Science:\", i)\n",
    "    i = i - 1  # decremental"
   ]
  },
  {
   "cell_type": "code",
   "execution_count": 6,
   "id": "58784510-9e69-4458-bd7b-02cb82dbec58",
   "metadata": {},
   "outputs": [
    {
     "name": "stdout",
     "output_type": "stream",
     "text": [
      "Data Science\n",
      " Technology\n",
      " Technology\n",
      " Technology\n",
      " Technology\n",
      "\n",
      "Data Science\n",
      " Technology\n",
      " Technology\n",
      " Technology\n",
      " Technology\n",
      "\n",
      "Data Science\n",
      " Technology\n",
      " Technology\n",
      " Technology\n",
      " Technology\n",
      "\n",
      "Data Science\n",
      " Technology\n",
      " Technology\n",
      " Technology\n",
      " Technology\n",
      "\n",
      "Data Science\n",
      " Technology\n",
      " Technology\n",
      " Technology\n",
      " Technology\n",
      "\n"
     ]
    }
   ],
   "source": [
    "i = 1\n",
    "\n",
    "while i<=5:\n",
    "    print(\"Data Science\")\n",
    "    j = 1\n",
    "\n",
    "    while j<=4:\n",
    "        print(\" Technology\")\n",
    "        j = j + 1\n",
    "        \n",
    "    i = i+1\n",
    "    print()"
   ]
  },
  {
   "cell_type": "code",
   "execution_count": 7,
   "id": "f565fd78-4766-4ef4-82e6-4b8aa9aedc64",
   "metadata": {},
   "outputs": [
    {
     "name": "stdout",
     "output_type": "stream",
     "text": [
      "Data Science Technology Technology Technology Technology\n",
      "Data Science Technology Technology Technology Technology\n",
      "Data Science Technology Technology Technology Technology\n",
      "Data Science Technology Technology Technology Technology\n",
      "Data Science Technology Technology Technology Technology\n"
     ]
    }
   ],
   "source": [
    "i = 1\n",
    "\n",
    "while i<=5:\n",
    "    print(\"Data Science\", end=\"\")\n",
    "    j = 1\n",
    "\n",
    "    while j<=4:\n",
    "        print(\" Technology\", end=\"\")\n",
    "        j = j + 1\n",
    "        \n",
    "    i = i+1\n",
    "    print()"
   ]
  },
  {
   "cell_type": "code",
   "execution_count": 8,
   "id": "21bf7bfa-d5aa-43fe-ae7b-83f10fd49320",
   "metadata": {},
   "outputs": [
    {
     "name": "stdout",
     "output_type": "stream",
     "text": [
      "012\n",
      "024\n"
     ]
    }
   ],
   "source": [
    "i = 1\n",
    "\n",
    "while i <= 2:\n",
    "    j=0\n",
    "    while j <= 2:\n",
    "        print(i*j, end=\"\")\n",
    "        j += 1\n",
    "    print()\n",
    "    i += 1"
   ]
  },
  {
   "cell_type": "code",
   "execution_count": 9,
   "id": "21799f7f-8677-4ccf-a3ea-9fd234d77e73",
   "metadata": {},
   "outputs": [
    {
     "name": "stdout",
     "output_type": "stream",
     "text": [
      "0123\n",
      "0246\n",
      "0369\n",
      "04812\n"
     ]
    }
   ],
   "source": [
    "i = 1\n",
    "\n",
    "while i <= 4:\n",
    "    j=0\n",
    "    while j <= 3:\n",
    "        print(i*j, end=\"\")\n",
    "        j += 1\n",
    "    print()\n",
    "    i += 1"
   ]
  },
  {
   "cell_type": "code",
   "execution_count": 10,
   "id": "dead3180-2964-4bac-92bf-ca3666869fcb",
   "metadata": {},
   "outputs": [
    {
     "name": "stdout",
     "output_type": "stream",
     "text": [
      "n\n",
      "i\n",
      "t\n"
     ]
    }
   ],
   "source": [
    "name = \"nit\"\n",
    "\n",
    "for i in name:\n",
    "    print(i)"
   ]
  },
  {
   "cell_type": "code",
   "execution_count": 11,
   "id": "f65f62cc-c263-4fc0-bd75-dca5f415b05a",
   "metadata": {},
   "outputs": [
    {
     "name": "stdout",
     "output_type": "stream",
     "text": [
      "5\n",
      "10\n",
      "15\n",
      "20\n",
      "25\n",
      "30\n",
      "35\n",
      "40\n",
      "45\n",
      "50\n"
     ]
    }
   ],
   "source": [
    "for i in range(1,51):\n",
    "\n",
    "    if i%5==0:\n",
    "        print(i)"
   ]
  },
  {
   "cell_type": "code",
   "execution_count": 12,
   "id": "82be2585-bc86-471c-b802-36888806578a",
   "metadata": {},
   "outputs": [
    {
     "name": "stdout",
     "output_type": "stream",
     "text": [
      "1\n",
      "2\n",
      "3\n",
      "4\n",
      "6\n",
      "7\n",
      "8\n",
      "9\n",
      "11\n",
      "12\n",
      "13\n",
      "14\n",
      "16\n",
      "17\n",
      "18\n",
      "19\n",
      "21\n",
      "22\n",
      "23\n",
      "24\n",
      "26\n",
      "27\n",
      "28\n",
      "29\n",
      "31\n",
      "32\n",
      "33\n",
      "34\n",
      "36\n",
      "37\n",
      "38\n",
      "39\n",
      "41\n",
      "42\n",
      "43\n",
      "44\n",
      "46\n",
      "47\n",
      "48\n",
      "49\n"
     ]
    }
   ],
   "source": [
    "for i in range(1,51):\n",
    "\n",
    "    if i%5!=0:\n",
    "        print(i)"
   ]
  },
  {
   "cell_type": "markdown",
   "id": "62f31519-609d-4da4-aee7-2d235c5beebc",
   "metadata": {},
   "source": [
    "- break\n",
    "- continue\n",
    "- pass"
   ]
  },
  {
   "cell_type": "code",
   "execution_count": 15,
   "id": "e385ef20-5b4b-4d6a-8449-5f84e92c5bd7",
   "metadata": {},
   "outputs": [
    {
     "name": "stdout",
     "output_type": "stream",
     "text": [
      "1\n",
      "2\n",
      "3\n",
      "4\n",
      "5\n"
     ]
    }
   ],
   "source": [
    "for i in range(1,11):\n",
    "\n",
    "    if i == 6:\n",
    "        break\n",
    "        \n",
    "    print(i)"
   ]
  },
  {
   "cell_type": "code",
   "execution_count": 19,
   "id": "ed5cce1a-9685-441b-9c17-7e2a25558911",
   "metadata": {},
   "outputs": [
    {
     "name": "stdout",
     "output_type": "stream",
     "text": [
      "1\n",
      "2\n",
      "3\n",
      "4\n",
      "5\n",
      "7\n",
      "8\n",
      "9\n",
      "10\n"
     ]
    }
   ],
   "source": [
    "for i in range(1,11):\n",
    "\n",
    "    if i == 6:\n",
    "        continue\n",
    "        \n",
    "    print(i)"
   ]
  },
  {
   "cell_type": "code",
   "execution_count": 22,
   "id": "ef817df5-9c7a-432c-97e0-ec45b1928aa2",
   "metadata": {},
   "outputs": [
    {
     "ename": "_IncompleteInputError",
     "evalue": "incomplete input (1334445784.py, line 1)",
     "output_type": "error",
     "traceback": [
      "\u001b[1;36m  Cell \u001b[1;32mIn[22], line 1\u001b[1;36m\u001b[0m\n\u001b[1;33m    for i in range(1,11):\u001b[0m\n\u001b[1;37m                         ^\u001b[0m\n\u001b[1;31m_IncompleteInputError\u001b[0m\u001b[1;31m:\u001b[0m incomplete input\n"
     ]
    }
   ],
   "source": [
    "for i in range(1,11):"
   ]
  },
  {
   "cell_type": "code",
   "execution_count": 23,
   "id": "85815640-af52-4d39-bd16-1b32e29688eb",
   "metadata": {},
   "outputs": [],
   "source": [
    "for i in range(1,11):\n",
    "    pass\n",
    "   \n",
    "       \n"
   ]
  },
  {
   "cell_type": "code",
   "execution_count": null,
   "id": "2cd9c9d7-e988-4f16-bbff-e22f304089d6",
   "metadata": {},
   "outputs": [],
   "source": []
  },
  {
   "cell_type": "code",
   "execution_count": null,
   "id": "c78c2c9b-261d-4a14-9872-ebbf8eb94dc5",
   "metadata": {},
   "outputs": [],
   "source": []
  },
  {
   "cell_type": "code",
   "execution_count": null,
   "id": "21960e65-9c3c-4bd0-97a8-359659d45e03",
   "metadata": {},
   "outputs": [],
   "source": []
  }
 ],
 "metadata": {
  "kernelspec": {
   "display_name": "Python [conda env:base] *",
   "language": "python",
   "name": "conda-base-py"
  },
  "language_info": {
   "codemirror_mode": {
    "name": "ipython",
    "version": 3
   },
   "file_extension": ".py",
   "mimetype": "text/x-python",
   "name": "python",
   "nbconvert_exporter": "python",
   "pygments_lexer": "ipython3",
   "version": "3.13.5"
  }
 },
 "nbformat": 4,
 "nbformat_minor": 5
}
