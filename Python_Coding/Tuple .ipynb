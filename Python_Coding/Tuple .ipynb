{
 "cells": [
  {
   "cell_type": "markdown",
   "id": "8e511a2d-d80b-4273-a4c3-bdb1d636cdc5",
   "metadata": {},
   "source": [
    "TUPLE CREATION"
   ]
  },
  {
   "cell_type": "code",
   "execution_count": 1,
   "id": "929025e7-1351-4236-ac79-a3ead78ab0e9",
   "metadata": {},
   "outputs": [],
   "source": [
    "tup1 = () #empty tuple"
   ]
  },
  {
   "cell_type": "code",
   "execution_count": 2,
   "id": "a7565f41-909c-487a-a78b-87fff9a2d331",
   "metadata": {},
   "outputs": [],
   "source": [
    "tup2 = (10,20,30) # tuple of int datatype elements"
   ]
  },
  {
   "cell_type": "code",
   "execution_count": 4,
   "id": "7d61c716-3abf-41cb-8511-110217462e23",
   "metadata": {},
   "outputs": [],
   "source": [
    "tup3 = (11.02, 21.30, 31.53 ) # tuple of float datatype elements"
   ]
  },
  {
   "cell_type": "code",
   "execution_count": 5,
   "id": "8db3826d-7795-4dfb-95cd-1b9b931c4886",
   "metadata": {},
   "outputs": [],
   "source": [
    "tup4 = ('Monika', 'Siri', 'monu') # tuple of strings. "
   ]
  },
  {
   "cell_type": "code",
   "execution_count": 6,
   "id": "06b804b1-5842-47ac-ab5c-90c230e94ce3",
   "metadata": {},
   "outputs": [],
   "source": [
    "tup5 = ( 'Monu', 22, 34.3 ) # tuple of mixed datatypes."
   ]
  },
  {
   "cell_type": "code",
   "execution_count": 7,
   "id": "ae5a2746-bd9c-4db3-a90a-2d00c8743680",
   "metadata": {},
   "outputs": [],
   "source": [
    "tup6 = (\"Monu\", 21, [10,50], [13.42, 35.46]) #nested tuple."
   ]
  },
  {
   "cell_type": "code",
   "execution_count": 8,
   "id": "8416ae3f-aef5-42b1-9ac5-b2c5c0dbfd15",
   "metadata": {},
   "outputs": [
    {
     "data": {
      "text/plain": [
       "4"
      ]
     },
     "execution_count": 8,
     "metadata": {},
     "output_type": "execute_result"
    }
   ],
   "source": [
    "len(tup6)"
   ]
  },
  {
   "cell_type": "markdown",
   "id": "5b2fac26-3fe5-4a3c-9cf9-510446fb197e",
   "metadata": {},
   "source": [
    "TUPLE INDEXING"
   ]
  },
  {
   "cell_type": "code",
   "execution_count": 9,
   "id": "ab1c9bd3-27b1-415a-813f-41170fb1ae29",
   "metadata": {},
   "outputs": [
    {
     "data": {
      "text/plain": [
       "10"
      ]
     },
     "execution_count": 9,
     "metadata": {},
     "output_type": "execute_result"
    }
   ],
   "source": [
    "tup2[0]"
   ]
  },
  {
   "cell_type": "code",
   "execution_count": 11,
   "id": "59481843-6585-46f8-b63f-bb1dde6822aa",
   "metadata": {},
   "outputs": [
    {
     "data": {
      "text/plain": [
       "30"
      ]
     },
     "execution_count": 11,
     "metadata": {},
     "output_type": "execute_result"
    }
   ],
   "source": [
    "tup2[2]"
   ]
  },
  {
   "cell_type": "code",
   "execution_count": 12,
   "id": "f2dd7d2e-995d-4037-b605-eafac5e36c94",
   "metadata": {},
   "outputs": [
    {
     "data": {
      "text/plain": [
       "35.46"
      ]
     },
     "execution_count": 12,
     "metadata": {},
     "output_type": "execute_result"
    }
   ],
   "source": [
    "tup6[3][1] # the first index is for whole tuple and the second one is for the internal one "
   ]
  },
  {
   "cell_type": "code",
   "execution_count": 13,
   "id": "e3266522-5aaf-4754-b93b-4f3741013bcd",
   "metadata": {},
   "outputs": [
    {
     "data": {
      "text/plain": [
       "'monu'"
      ]
     },
     "execution_count": 13,
     "metadata": {},
     "output_type": "execute_result"
    }
   ],
   "source": [
    "tup4[-1]"
   ]
  },
  {
   "cell_type": "markdown",
   "id": "0383393c-1a3e-4be4-98f5-3d1b4ef0a20d",
   "metadata": {},
   "source": [
    "TUPLE SLICING"
   ]
  },
  {
   "cell_type": "code",
   "execution_count": 14,
   "id": "5ca2d2f3-bde0-4686-b2d8-5d95782fa9ce",
   "metadata": {},
   "outputs": [],
   "source": [
    "mytuple = ('one', 'two', 'three', 'four', 'five', 'six', 'seven', 'eight')"
   ]
  },
  {
   "cell_type": "code",
   "execution_count": 15,
   "id": "f2957acc-9a8a-4133-b168-80bdd6375509",
   "metadata": {},
   "outputs": [
    {
     "data": {
      "text/plain": [
       "('three', 'four')"
      ]
     },
     "execution_count": 15,
     "metadata": {},
     "output_type": "execute_result"
    }
   ],
   "source": [
    "mytuple[2:4]"
   ]
  },
  {
   "cell_type": "code",
   "execution_count": 18,
   "id": "a27eabb9-871e-4cce-a8a3-6bdfdaf11314",
   "metadata": {},
   "outputs": [
    {
     "data": {
      "text/plain": [
       "()"
      ]
     },
     "execution_count": 18,
     "metadata": {},
     "output_type": "execute_result"
    }
   ],
   "source": [
    "mytuple[3:-5] # the output is a empty tuple because both the forward and backward indexing have pointed out the same element."
   ]
  },
  {
   "cell_type": "code",
   "execution_count": 20,
   "id": "354609de-8bad-4069-bcff-536f6c42944e",
   "metadata": {},
   "outputs": [
    {
     "data": {
      "text/plain": [
       "('six', 'seven', 'eight')"
      ]
     },
     "execution_count": 20,
     "metadata": {},
     "output_type": "execute_result"
    }
   ],
   "source": [
    "mytuple[-3:]"
   ]
  },
  {
   "cell_type": "code",
   "execution_count": 21,
   "id": "42abc050-11ed-4da8-9d5c-cbf8b73ddbd0",
   "metadata": {},
   "outputs": [
    {
     "data": {
      "text/plain": [
       "('one', 'two', 'three', 'four', 'five', 'six', 'seven', 'eight')"
      ]
     },
     "execution_count": 21,
     "metadata": {},
     "output_type": "execute_result"
    }
   ],
   "source": [
    "mytuple[:]"
   ]
  },
  {
   "cell_type": "raw",
   "id": "f3797b73-b054-4e1f-bcc2-8cd6e1bd3476",
   "metadata": {},
   "source": [
    "REMOVE & CHANGE ELEMENTS"
   ]
  },
  {
   "cell_type": "code",
   "execution_count": 22,
   "id": "bdfe84c4-c5eb-42b1-8ee7-c1dc1a6f2f30",
   "metadata": {},
   "outputs": [
    {
     "data": {
      "text/plain": [
       "('one', 'two', 'three', 'four', 'five', 'six', 'seven', 'eight')"
      ]
     },
     "execution_count": 22,
     "metadata": {},
     "output_type": "execute_result"
    }
   ],
   "source": [
    "mytuple"
   ]
  },
  {
   "cell_type": "code",
   "execution_count": 24,
   "id": "189fa858-7165-49a5-b955-7ddfa1ea9172",
   "metadata": {},
   "outputs": [
    {
     "ename": "TypeError",
     "evalue": "'tuple' object doesn't support item deletion",
     "output_type": "error",
     "traceback": [
      "\u001b[1;31m---------------------------------------------------------------------------\u001b[0m",
      "\u001b[1;31mTypeError\u001b[0m                                 Traceback (most recent call last)",
      "Cell \u001b[1;32mIn[24], line 1\u001b[0m\n\u001b[1;32m----> 1\u001b[0m \u001b[38;5;28;01mdel\u001b[39;00m mytuple[\u001b[38;5;241m0\u001b[39m]\n",
      "\u001b[1;31mTypeError\u001b[0m: 'tuple' object doesn't support item deletion"
     ]
    }
   ],
   "source": [
    "del mytuple[0] #we can't delete elements in tuple because they can't be deleted hence they are immutable."
   ]
  },
  {
   "cell_type": "code",
   "execution_count": 26,
   "id": "3e170b9a-122c-4877-b87c-82a3fa4a600f",
   "metadata": {},
   "outputs": [
    {
     "ename": "TypeError",
     "evalue": "'tuple' object does not support item assignment",
     "output_type": "error",
     "traceback": [
      "\u001b[1;31m---------------------------------------------------------------------------\u001b[0m",
      "\u001b[1;31mTypeError\u001b[0m                                 Traceback (most recent call last)",
      "Cell \u001b[1;32mIn[26], line 1\u001b[0m\n\u001b[1;32m----> 1\u001b[0m mytuple[\u001b[38;5;241m0\u001b[39m] \u001b[38;5;241m=\u001b[39m \u001b[38;5;241m1\u001b[39m\n",
      "\u001b[1;31mTypeError\u001b[0m: 'tuple' object does not support item assignment"
     ]
    }
   ],
   "source": [
    "mytuple[0] = 1 #the same goes for changing too"
   ]
  },
  {
   "cell_type": "code",
   "execution_count": 27,
   "id": "a8aa43e0-f1ed-4636-a69f-1e33d9af219e",
   "metadata": {},
   "outputs": [],
   "source": [
    "del mytuple # but we can delete the entire tuple"
   ]
  },
  {
   "cell_type": "code",
   "execution_count": 28,
   "id": "cdc19254-7417-4105-9c90-be4bf2a7fc69",
   "metadata": {},
   "outputs": [
    {
     "ename": "NameError",
     "evalue": "name 'mytuple' is not defined",
     "output_type": "error",
     "traceback": [
      "\u001b[1;31m---------------------------------------------------------------------------\u001b[0m",
      "\u001b[1;31mNameError\u001b[0m                                 Traceback (most recent call last)",
      "Cell \u001b[1;32mIn[28], line 1\u001b[0m\n\u001b[1;32m----> 1\u001b[0m mytuple\n",
      "\u001b[1;31mNameError\u001b[0m: name 'mytuple' is not defined"
     ]
    }
   ],
   "source": [
    "mytuple"
   ]
  },
  {
   "cell_type": "markdown",
   "id": "04533ee2-a8fc-4b16-96f1-71994c80662f",
   "metadata": {},
   "source": [
    "LOOP THROUGH A TUPLE"
   ]
  },
  {
   "cell_type": "code",
   "execution_count": 2,
   "id": "c9aa0a96-a964-4078-84dd-2feeb4806c27",
   "metadata": {},
   "outputs": [],
   "source": [
    "mytuple = ('one', 'two', 'three', 'four', 'five', 'six', 'seven', 'eight')"
   ]
  },
  {
   "cell_type": "code",
   "execution_count": 3,
   "id": "2870e133-d773-4c4b-b113-fd7a74bc07a1",
   "metadata": {},
   "outputs": [
    {
     "name": "stdout",
     "output_type": "stream",
     "text": [
      "one\n",
      "two\n",
      "three\n",
      "four\n",
      "five\n",
      "six\n",
      "seven\n",
      "eight\n"
     ]
    }
   ],
   "source": [
    "for i in mytuple:\n",
    "    print(i)"
   ]
  },
  {
   "cell_type": "code",
   "execution_count": 5,
   "id": "eb3d672b-ec1d-480a-95ed-9ddfb2b5ed9e",
   "metadata": {},
   "outputs": [
    {
     "name": "stdout",
     "output_type": "stream",
     "text": [
      "(0, 'one')\n",
      "(1, 'two')\n",
      "(2, 'three')\n",
      "(3, 'four')\n",
      "(4, 'five')\n",
      "(5, 'six')\n",
      "(6, 'seven')\n",
      "(7, 'eight')\n"
     ]
    }
   ],
   "source": [
    "for i in enumerate(mytuple):\n",
    "    print(i)"
   ]
  },
  {
   "cell_type": "markdown",
   "id": "b34ad1f4-7bea-44e8-bfe5-8780ef6e0e98",
   "metadata": {},
   "source": [
    "TUPLE MEMBERSHIP"
   ]
  },
  {
   "cell_type": "code",
   "execution_count": 6,
   "id": "f9153ee9-845f-4f18-b3cd-9587d625a996",
   "metadata": {},
   "outputs": [
    {
     "data": {
      "text/plain": [
       "('one', 'two', 'three', 'four', 'five', 'six', 'seven', 'eight')"
      ]
     },
     "execution_count": 6,
     "metadata": {},
     "output_type": "execute_result"
    }
   ],
   "source": [
    "mytuple"
   ]
  },
  {
   "cell_type": "code",
   "execution_count": 7,
   "id": "9838175a-25d9-4434-a1b9-d6beeb45e39a",
   "metadata": {},
   "outputs": [
    {
     "data": {
      "text/plain": [
       "True"
      ]
     },
     "execution_count": 7,
     "metadata": {},
     "output_type": "execute_result"
    }
   ],
   "source": [
    "'one' in mytuple #checks whether one is there in mytuple if yes it returns True or else it returns False."
   ]
  },
  {
   "cell_type": "code",
   "execution_count": 8,
   "id": "da6cdd02-4d6b-446e-bc6c-83e66a40b854",
   "metadata": {},
   "outputs": [
    {
     "data": {
      "text/plain": [
       "False"
      ]
     },
     "execution_count": 8,
     "metadata": {},
     "output_type": "execute_result"
    }
   ],
   "source": [
    "'nine' in mytuple"
   ]
  },
  {
   "cell_type": "code",
   "execution_count": 9,
   "id": "25866b59-03f8-4f92-896f-d24c97829dc6",
   "metadata": {},
   "outputs": [
    {
     "name": "stdout",
     "output_type": "stream",
     "text": [
      "three is present in the tuple\n"
     ]
    }
   ],
   "source": [
    "if 'three' in mytuple:\n",
    "    print('three is present in the tuple')\n",
    "else:\n",
    "    print('three is not present in the tuple')"
   ]
  },
  {
   "cell_type": "code",
   "execution_count": 10,
   "id": "dfd25af2-79a6-4b92-9d93-9da6ff9ecc7e",
   "metadata": {},
   "outputs": [
    {
     "name": "stdout",
     "output_type": "stream",
     "text": [
      "ten is not present in the tuple\n"
     ]
    }
   ],
   "source": [
    "if 'ten' in mytuple:\n",
    "    print('ten is present in the tuple')\n",
    "else:\n",
    "    print('ten is not present in the tuple')"
   ]
  },
  {
   "cell_type": "markdown",
   "id": "1882ed51-f3ce-45d1-ae11-653225f0fba0",
   "metadata": {},
   "source": [
    "INDEX POSITION"
   ]
  },
  {
   "cell_type": "code",
   "execution_count": 11,
   "id": "a408f2b3-c5fc-4a3c-91a0-556197697f49",
   "metadata": {},
   "outputs": [
    {
     "data": {
      "text/plain": [
       "('one', 'two', 'three', 'four', 'five', 'six', 'seven', 'eight')"
      ]
     },
     "execution_count": 11,
     "metadata": {},
     "output_type": "execute_result"
    }
   ],
   "source": [
    "mytuple"
   ]
  },
  {
   "cell_type": "code",
   "execution_count": 12,
   "id": "d71be9e0-2265-4a7f-8e45-76ca681796a6",
   "metadata": {},
   "outputs": [
    {
     "data": {
      "text/plain": [
       "0"
      ]
     },
     "execution_count": 12,
     "metadata": {},
     "output_type": "execute_result"
    }
   ],
   "source": [
    "mytuple.index('one')"
   ]
  },
  {
   "cell_type": "code",
   "execution_count": 13,
   "id": "b677ea72-0d4b-403d-b070-1ba37b7bfd48",
   "metadata": {},
   "outputs": [
    {
     "data": {
      "text/plain": [
       "4"
      ]
     },
     "execution_count": 13,
     "metadata": {},
     "output_type": "execute_result"
    }
   ],
   "source": [
    "mytuple.index('five')"
   ]
  },
  {
   "cell_type": "markdown",
   "id": "4b5dc232-c5d0-4bde-af15-139a307b8a4e",
   "metadata": {},
   "source": [
    "SORTING"
   ]
  },
  {
   "cell_type": "code",
   "execution_count": 15,
   "id": "8c70c289-109c-4c94-ad9f-7e5671eb7da1",
   "metadata": {},
   "outputs": [],
   "source": [
    "mytuple2 = (43, 67, 99, 12, 6, 90, 67)"
   ]
  },
  {
   "cell_type": "code",
   "execution_count": 16,
   "id": "738151c9-a5d0-4a0a-8f8a-f8ec119f0249",
   "metadata": {},
   "outputs": [
    {
     "data": {
      "text/plain": [
       "[6, 12, 43, 67, 67, 90, 99]"
      ]
     },
     "execution_count": 16,
     "metadata": {},
     "output_type": "execute_result"
    }
   ],
   "source": [
    "sorted(mytuple2)"
   ]
  },
  {
   "cell_type": "code",
   "execution_count": 19,
   "id": "aac4a13c-8791-4559-922e-232cde668718",
   "metadata": {},
   "outputs": [
    {
     "data": {
      "text/plain": [
       "[99, 90, 67, 67, 43, 12, 6]"
      ]
     },
     "execution_count": 19,
     "metadata": {},
     "output_type": "execute_result"
    }
   ],
   "source": [
    "sorted(mytuple2,reverse=True)"
   ]
  }
 ],
 "metadata": {
  "kernelspec": {
   "display_name": "Python 3 (ipykernel)",
   "language": "python",
   "name": "python3"
  },
  "language_info": {
   "codemirror_mode": {
    "name": "ipython",
    "version": 3
   },
   "file_extension": ".py",
   "mimetype": "text/x-python",
   "name": "python",
   "nbconvert_exporter": "python",
   "pygments_lexer": "ipython3",
   "version": "3.12.7"
  }
 },
 "nbformat": 4,
 "nbformat_minor": 5
}
