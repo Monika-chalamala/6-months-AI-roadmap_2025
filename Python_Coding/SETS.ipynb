{
 "cells": [
  {
   "cell_type": "code",
   "execution_count": 1,
   "id": "dddac681-6c52-40bc-9eb1-1176c39c8617",
   "metadata": {},
   "outputs": [],
   "source": [
    "s = {}"
   ]
  },
  {
   "cell_type": "code",
   "execution_count": 2,
   "id": "99b77548-33a9-406a-99d5-710276e36522",
   "metadata": {},
   "outputs": [
    {
     "data": {
      "text/plain": [
       "dict"
      ]
     },
     "execution_count": 2,
     "metadata": {},
     "output_type": "execute_result"
    }
   ],
   "source": [
    "type(s)"
   ]
  },
  {
   "cell_type": "code",
   "execution_count": 3,
   "id": "e469ab64-c840-46f6-9a06-f17c662933d7",
   "metadata": {},
   "outputs": [
    {
     "data": {
      "text/plain": [
       "set()"
      ]
     },
     "execution_count": 3,
     "metadata": {},
     "output_type": "execute_result"
    }
   ],
   "source": [
    "s = set()\n",
    "s"
   ]
  },
  {
   "cell_type": "code",
   "execution_count": 4,
   "id": "dbfdc999-3d20-4ef4-9c8c-c3eade76d2ef",
   "metadata": {},
   "outputs": [
    {
     "data": {
      "text/plain": [
       "set"
      ]
     },
     "execution_count": 4,
     "metadata": {},
     "output_type": "execute_result"
    }
   ],
   "source": [
    "type(s)"
   ]
  },
  {
   "cell_type": "code",
   "execution_count": 5,
   "id": "91a6c6ab-78f6-40ed-a8d8-a53a50ea5326",
   "metadata": {},
   "outputs": [],
   "source": [
    "s1 = {90, 80, 3, 13, 47, 100, 1}"
   ]
  },
  {
   "cell_type": "code",
   "execution_count": 6,
   "id": "1e949bc4-3a13-4285-af61-c547ee83539b",
   "metadata": {},
   "outputs": [
    {
     "data": {
      "text/plain": [
       "{1, 3, 13, 47, 80, 90, 100}"
      ]
     },
     "execution_count": 6,
     "metadata": {},
     "output_type": "execute_result"
    }
   ],
   "source": [
    "s1"
   ]
  },
  {
   "cell_type": "code",
   "execution_count": 7,
   "id": "e15a6ac6-99f4-429c-8a89-6d4218bd5787",
   "metadata": {},
   "outputs": [],
   "source": [
    "s2 = {4, 'nit', 2.3, True, 1+2j}"
   ]
  },
  {
   "cell_type": "code",
   "execution_count": 8,
   "id": "02ace9b5-e71e-4362-8d3f-0400c1b25339",
   "metadata": {},
   "outputs": [
    {
     "data": {
      "text/plain": [
       "{(1+2j), 2.3, 4, True, 'nit'}"
      ]
     },
     "execution_count": 8,
     "metadata": {},
     "output_type": "execute_result"
    }
   ],
   "source": [
    "s2"
   ]
  },
  {
   "cell_type": "code",
   "execution_count": 9,
   "id": "fdafaefd-bb7d-4bb1-b43c-64cae5557ea9",
   "metadata": {},
   "outputs": [
    {
     "data": {
      "text/plain": [
       "{1, 3, 13, 47, 80, 90, 100}"
      ]
     },
     "execution_count": 9,
     "metadata": {},
     "output_type": "execute_result"
    }
   ],
   "source": [
    "s1"
   ]
  },
  {
   "cell_type": "code",
   "execution_count": 10,
   "id": "c0f7cb17-6777-43fd-a7b1-cad19d626221",
   "metadata": {},
   "outputs": [],
   "source": [
    "# sets have a special property when we call them the elements will be set in ascending order."
   ]
  },
  {
   "cell_type": "code",
   "execution_count": 11,
   "id": "d12285ee-fc8b-4e2f-b6b2-d3fd42031d3f",
   "metadata": {},
   "outputs": [],
   "source": [
    "s1.add(200)"
   ]
  },
  {
   "cell_type": "code",
   "execution_count": 12,
   "id": "39e38e24-f309-4da0-8d84-58b62d2c8038",
   "metadata": {},
   "outputs": [
    {
     "data": {
      "text/plain": [
       "{1, 3, 13, 47, 80, 90, 100, 200}"
      ]
     },
     "execution_count": 12,
     "metadata": {},
     "output_type": "execute_result"
    }
   ],
   "source": [
    "s1"
   ]
  },
  {
   "cell_type": "code",
   "execution_count": 13,
   "id": "239c6b70-5de9-499c-a5b0-b8ee6a0df0f0",
   "metadata": {},
   "outputs": [],
   "source": [
    "s1.add(2)"
   ]
  },
  {
   "cell_type": "code",
   "execution_count": 14,
   "id": "992ce5cd-c7fb-4e6a-9d44-a32a2ff067a9",
   "metadata": {},
   "outputs": [
    {
     "data": {
      "text/plain": [
       "{1, 2, 3, 13, 47, 80, 90, 100, 200}"
      ]
     },
     "execution_count": 14,
     "metadata": {},
     "output_type": "execute_result"
    }
   ],
   "source": [
    "s1 # as 2 comes between 1 & 3 the output will already be segregated and it comes in the form of ascending order."
   ]
  },
  {
   "cell_type": "code",
   "execution_count": 15,
   "id": "7ddf7a8e-4f02-4fc8-b522-939c7cc92d61",
   "metadata": {},
   "outputs": [],
   "source": [
    "s1.add(100) # duplicates are not allowed in sets"
   ]
  },
  {
   "cell_type": "code",
   "execution_count": 16,
   "id": "16f39410-6d94-44d8-8094-b8b41e1145a0",
   "metadata": {},
   "outputs": [
    {
     "data": {
      "text/plain": [
       "{1, 2, 3, 13, 47, 80, 90, 100, 200}"
      ]
     },
     "execution_count": 16,
     "metadata": {},
     "output_type": "execute_result"
    }
   ],
   "source": [
    "s1"
   ]
  },
  {
   "cell_type": "code",
   "execution_count": 17,
   "id": "575d422b-1f1e-4d6e-b6dd-0641bdd8b9a8",
   "metadata": {},
   "outputs": [],
   "source": [
    "s3 = s1.copy()"
   ]
  },
  {
   "cell_type": "code",
   "execution_count": 18,
   "id": "880068e7-3d43-43fe-895b-441b810451f2",
   "metadata": {},
   "outputs": [
    {
     "data": {
      "text/plain": [
       "{1, 2, 3, 13, 47, 80, 90, 100, 200}"
      ]
     },
     "execution_count": 18,
     "metadata": {},
     "output_type": "execute_result"
    }
   ],
   "source": [
    "s3"
   ]
  },
  {
   "cell_type": "code",
   "execution_count": 19,
   "id": "d1a87534-22c9-457b-960b-d3ec09a8f216",
   "metadata": {},
   "outputs": [
    {
     "data": {
      "text/plain": [
       "True"
      ]
     },
     "execution_count": 19,
     "metadata": {},
     "output_type": "execute_result"
    }
   ],
   "source": [
    "s1 == s3"
   ]
  },
  {
   "cell_type": "code",
   "execution_count": 20,
   "id": "9fd08c20-e96a-41f6-8baa-137f591ec89e",
   "metadata": {},
   "outputs": [
    {
     "data": {
      "text/plain": [
       "9"
      ]
     },
     "execution_count": 20,
     "metadata": {},
     "output_type": "execute_result"
    }
   ],
   "source": [
    "len(s3)"
   ]
  },
  {
   "cell_type": "code",
   "execution_count": 21,
   "id": "3052e5b6-5162-4860-8fd7-b304676a5128",
   "metadata": {},
   "outputs": [
    {
     "data": {
      "text/plain": [
       "set()"
      ]
     },
     "execution_count": 21,
     "metadata": {},
     "output_type": "execute_result"
    }
   ],
   "source": [
    "s3.clear()\n",
    "s3"
   ]
  },
  {
   "cell_type": "code",
   "execution_count": 22,
   "id": "3154c854-2237-4c69-a7c0-1543b9a43bd2",
   "metadata": {},
   "outputs": [
    {
     "data": {
      "text/plain": [
       "0"
      ]
     },
     "execution_count": 22,
     "metadata": {},
     "output_type": "execute_result"
    }
   ],
   "source": [
    "len(s3) # will be 0 because we used clear function before"
   ]
  },
  {
   "cell_type": "code",
   "execution_count": 23,
   "id": "2164cce0-ae56-46eb-a480-29714295d3f5",
   "metadata": {},
   "outputs": [
    {
     "data": {
      "text/plain": [
       "{1, 2, 3, 13, 47, 80, 90, 100, 200}"
      ]
     },
     "execution_count": 23,
     "metadata": {},
     "output_type": "execute_result"
    }
   ],
   "source": [
    "s1"
   ]
  },
  {
   "cell_type": "code",
   "execution_count": 24,
   "id": "0fbf470e-4cf7-4a8c-8cb0-6f8735ee6aeb",
   "metadata": {},
   "outputs": [
    {
     "ename": "TypeError",
     "evalue": "'set' object is not subscriptable",
     "output_type": "error",
     "traceback": [
      "\u001b[1;31m----------------------------------------------------------------\u001b[0m",
      "\u001b[1;31mTypeError\u001b[0m                      Traceback (most recent call last)",
      "Cell \u001b[1;32mIn[24], line 1\u001b[0m\n\u001b[1;32m----> 1\u001b[0m s1[:]\n",
      "\u001b[1;31mTypeError\u001b[0m: 'set' object is not subscriptable"
     ]
    }
   ],
   "source": [
    "s1[:] "
   ]
  },
  {
   "cell_type": "code",
   "execution_count": 25,
   "id": "19441b24-c1b2-48de-9ae2-bf85911ed500",
   "metadata": {},
   "outputs": [],
   "source": [
    "#sets doesnot support slicing."
   ]
  },
  {
   "cell_type": "code",
   "execution_count": 26,
   "id": "45dc85c5-2cfc-4356-993b-c155653a9646",
   "metadata": {},
   "outputs": [
    {
     "data": {
      "text/plain": [
       "1"
      ]
     },
     "execution_count": 26,
     "metadata": {},
     "output_type": "execute_result"
    }
   ],
   "source": [
    "s1.pop()"
   ]
  },
  {
   "cell_type": "code",
   "execution_count": 27,
   "id": "611e65cc-df07-45cf-ac13-8fefadb00d65",
   "metadata": {},
   "outputs": [
    {
     "data": {
      "text/plain": [
       "{2, 3, 13, 47, 80, 90, 100, 200}"
      ]
     },
     "execution_count": 27,
     "metadata": {},
     "output_type": "execute_result"
    }
   ],
   "source": [
    "s1"
   ]
  },
  {
   "cell_type": "code",
   "execution_count": 28,
   "id": "83d68d1e-a078-4de1-b752-6f5927a84f6e",
   "metadata": {},
   "outputs": [
    {
     "data": {
      "text/plain": [
       "2"
      ]
     },
     "execution_count": 28,
     "metadata": {},
     "output_type": "execute_result"
    }
   ],
   "source": [
    "s1.pop()"
   ]
  },
  {
   "cell_type": "code",
   "execution_count": 29,
   "id": "e40ef3d1-0538-40e2-8617-81c21ada2084",
   "metadata": {},
   "outputs": [
    {
     "data": {
      "text/plain": [
       "{13, 47, 80, 90, 100, 200}"
      ]
     },
     "execution_count": 29,
     "metadata": {},
     "output_type": "execute_result"
    }
   ],
   "source": [
    "s1.pop()\n",
    "s1"
   ]
  },
  {
   "cell_type": "code",
   "execution_count": 30,
   "id": "d0f98b1f-b841-4d2a-b81b-77e5f49e8f8e",
   "metadata": {},
   "outputs": [
    {
     "data": {
      "text/plain": [
       "{13, 47, 80, 90, 100}"
      ]
     },
     "execution_count": 30,
     "metadata": {},
     "output_type": "execute_result"
    }
   ],
   "source": [
    "s1.pop()\n",
    "s1"
   ]
  },
  {
   "cell_type": "raw",
   "id": "7f28f415-0752-4abd-ad1c-4f749a5c79b3",
   "metadata": {},
   "source": [
    "pop removes random values"
   ]
  },
  {
   "cell_type": "code",
   "execution_count": 31,
   "id": "9b1fc8fe-e69e-44f0-957a-82a89ebcf8ff",
   "metadata": {},
   "outputs": [
    {
     "ename": "KeyError",
     "evalue": "4",
     "output_type": "error",
     "traceback": [
      "\u001b[1;31m----------------------------------------------------------------\u001b[0m",
      "\u001b[1;31mKeyError\u001b[0m                       Traceback (most recent call last)",
      "Cell \u001b[1;32mIn[31], line 1\u001b[0m\n\u001b[1;32m----> 1\u001b[0m s1\u001b[38;5;241m.\u001b[39mremove(\u001b[38;5;241m4\u001b[39m)\n",
      "\u001b[1;31mKeyError\u001b[0m: 4"
     ]
    }
   ],
   "source": [
    "s1.remove(4)"
   ]
  },
  {
   "cell_type": "code",
   "execution_count": 32,
   "id": "af90cc24-fe41-4c08-b0ac-b68d96f48c22",
   "metadata": {},
   "outputs": [],
   "source": [
    "s1.discard(4)"
   ]
  },
  {
   "cell_type": "code",
   "execution_count": 33,
   "id": "f3e1d385-e17f-4e48-98cc-371b67444d83",
   "metadata": {},
   "outputs": [
    {
     "data": {
      "text/plain": [
       "{13, 47, 80, 90, 100}"
      ]
     },
     "execution_count": 33,
     "metadata": {},
     "output_type": "execute_result"
    }
   ],
   "source": [
    "s1"
   ]
  },
  {
   "cell_type": "raw",
   "id": "4963d043-8a6c-4775-904b-847f0cdef6a8",
   "metadata": {},
   "source": [
    "sets doesn't accept remove, discard, because they are not supporting indexing"
   ]
  },
  {
   "cell_type": "code",
   "execution_count": 34,
   "id": "9748a587-1407-4084-8e6b-51c36539e631",
   "metadata": {},
   "outputs": [
    {
     "name": "stdout",
     "output_type": "stream",
     "text": [
      "13\n",
      "80\n",
      "90\n",
      "100\n",
      "47\n"
     ]
    }
   ],
   "source": [
    "for i in s1:\n",
    "    print(i)"
   ]
  },
  {
   "cell_type": "code",
   "execution_count": null,
   "id": "536f4463-4b6b-4ba1-9074-7e1e9710dd79",
   "metadata": {},
   "outputs": [],
   "source": [
    "fir "
   ]
  }
 ],
 "metadata": {
  "kernelspec": {
   "display_name": "Python 3 (ipykernel)",
   "language": "python",
   "name": "python3"
  },
  "language_info": {
   "codemirror_mode": {
    "name": "ipython",
    "version": 3
   },
   "file_extension": ".py",
   "mimetype": "text/x-python",
   "name": "python",
   "nbconvert_exporter": "python",
   "pygments_lexer": "ipython3",
   "version": "3.12.7"
  }
 },
 "nbformat": 4,
 "nbformat_minor": 5
}
