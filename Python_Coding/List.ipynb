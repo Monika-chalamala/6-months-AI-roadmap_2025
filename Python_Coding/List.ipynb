{
 "cells": [
  {
   "cell_type": "markdown",
   "id": "0f2dfe03-0508-4aa1-9abd-099b20a45664",
   "metadata": {},
   "source": [
    "LIST"
   ]
  },
  {
   "cell_type": "code",
   "execution_count": 1,
   "id": "8282ac4a-05ed-46e9-be18-6014eee8e2c1",
   "metadata": {},
   "outputs": [],
   "source": [
    "list1 = [] # empty list"
   ]
  },
  {
   "cell_type": "code",
   "execution_count": 2,
   "id": "d1c01667-504f-4e76-af77-a571ec3136f5",
   "metadata": {},
   "outputs": [
    {
     "name": "stdout",
     "output_type": "stream",
     "text": [
      "<class 'list'>\n"
     ]
    }
   ],
   "source": [
    "print(type(list1))"
   ]
  },
  {
   "cell_type": "code",
   "execution_count": 4,
   "id": "3e3033ea-850b-4b5f-8c7c-e0f89dba1181",
   "metadata": {},
   "outputs": [],
   "source": [
    "list2 = [10, 20, 30] #this is the list of integer numbers."
   ]
  },
  {
   "cell_type": "code",
   "execution_count": 5,
   "id": "0666b11b-d3df-4e39-ad60-5c226634503e",
   "metadata": {},
   "outputs": [],
   "source": [
    "list3 = [10.25, 20.35, 35.21] #this is the list of float numbers."
   ]
  },
  {
   "cell_type": "code",
   "execution_count": 8,
   "id": "afe3f752-90d7-47d8-a441-bc63c8286140",
   "metadata": {},
   "outputs": [],
   "source": [
    "list4 = ['one', 'three', 'eight'] #this is the list of strings."
   ]
  },
  {
   "cell_type": "code",
   "execution_count": 9,
   "id": "51b0b9f6-5a81-46ac-8e45-d227d4dedb8f",
   "metadata": {},
   "outputs": [],
   "source": [
    "list5 = ['Monu', 21, [721, 6711], [23.43, 66]] #there are two lists in one list so this is known as linked lists."
   ]
  },
  {
   "cell_type": "code",
   "execution_count": 10,
   "id": "9cf55612-aae0-49ed-88af-3d8043df52b9",
   "metadata": {},
   "outputs": [],
   "source": [
    "list6 = ['Monu', 21, 54.0] # lists that consists of different datatypes."
   ]
  },
  {
   "cell_type": "code",
   "execution_count": 11,
   "id": "e672c255-51ec-4183-aa20-d8dcb0439158",
   "metadata": {},
   "outputs": [
    {
     "data": {
      "text/plain": [
       "3"
      ]
     },
     "execution_count": 11,
     "metadata": {},
     "output_type": "execute_result"
    }
   ],
   "source": [
    "len(list6)"
   ]
  },
  {
   "cell_type": "markdown",
   "id": "05b0915b-7f6f-4528-ab56-be22c2810443",
   "metadata": {},
   "source": [
    "LIST INDEXING"
   ]
  },
  {
   "cell_type": "code",
   "execution_count": 12,
   "id": "b6c8f150-5477-4bc6-af13-642511746eba",
   "metadata": {},
   "outputs": [
    {
     "data": {
      "text/plain": [
       "10"
      ]
     },
     "execution_count": 12,
     "metadata": {},
     "output_type": "execute_result"
    }
   ],
   "source": [
    "list2[0] #retrieving first element from the list using forward indexing."
   ]
  },
  {
   "cell_type": "code",
   "execution_count": 13,
   "id": "89f692ec-f4d5-4fc7-b0d2-26aeef848b88",
   "metadata": {},
   "outputs": [
    {
     "data": {
      "text/plain": [
       "'one'"
      ]
     },
     "execution_count": 13,
     "metadata": {},
     "output_type": "execute_result"
    }
   ],
   "source": [
    "list4[0]"
   ]
  },
  {
   "cell_type": "code",
   "execution_count": 14,
   "id": "90ba9609-a840-4567-9f72-525a090d7a71",
   "metadata": {},
   "outputs": [
    {
     "data": {
      "text/plain": [
       "'o'"
      ]
     },
     "execution_count": 14,
     "metadata": {},
     "output_type": "execute_result"
    }
   ],
   "source": [
    "list4[0][0] # nested indexing here first 0 is for the list itself and second 0 is for the first string or linked list element."
   ]
  },
  {
   "cell_type": "code",
   "execution_count": 15,
   "id": "49f80e32-415a-45b8-8801-ef53c92b8d92",
   "metadata": {},
   "outputs": [
    {
     "data": {
      "text/plain": [
       "30"
      ]
     },
     "execution_count": 15,
     "metadata": {},
     "output_type": "execute_result"
    }
   ],
   "source": [
    "list2[-1] # retrieveing last element using backward indexing."
   ]
  },
  {
   "cell_type": "code",
   "execution_count": 16,
   "id": "8ad74de5-2c69-4c48-8338-475079ffdb6c",
   "metadata": {},
   "outputs": [
    {
     "data": {
      "text/plain": [
       "54.0"
      ]
     },
     "execution_count": 16,
     "metadata": {},
     "output_type": "execute_result"
    }
   ],
   "source": [
    "list6[-1]"
   ]
  },
  {
   "cell_type": "markdown",
   "id": "92859570-2cc0-4744-b90e-e425e15525aa",
   "metadata": {},
   "source": [
    "LIST SLICING"
   ]
  },
  {
   "cell_type": "code",
   "execution_count": 17,
   "id": "a12bcab0-0ddc-4f97-9401-16cae6716436",
   "metadata": {},
   "outputs": [],
   "source": [
    "mylist = ['one', 'two', 'three', 'four', 'five', 'six', 'seven', 'eight']"
   ]
  },
  {
   "cell_type": "code",
   "execution_count": 19,
   "id": "610f4ccc-ff1e-496d-94a6-d92a49b3cd1c",
   "metadata": {},
   "outputs": [
    {
     "data": {
      "text/plain": [
       "['one', 'two', 'three']"
      ]
     },
     "execution_count": 19,
     "metadata": {},
     "output_type": "execute_result"
    }
   ],
   "source": [
    "mylist[0:3] # gives you the elements that are indexed from zero to two because the second element in slicing has the \"n-1\" rule to follow."
   ]
  },
  {
   "cell_type": "code",
   "execution_count": 20,
   "id": "37487fe6-f77c-472f-bc62-7d695701f41d",
   "metadata": {},
   "outputs": [
    {
     "data": {
      "text/plain": [
       "['three', 'four', 'five']"
      ]
     },
     "execution_count": 20,
     "metadata": {},
     "output_type": "execute_result"
    }
   ],
   "source": [
    "mylist[2:5]"
   ]
  },
  {
   "cell_type": "code",
   "execution_count": 21,
   "id": "27cac9f9-c099-49cc-a67e-7784c8140d0c",
   "metadata": {},
   "outputs": [
    {
     "data": {
      "text/plain": [
       "['one', 'two', 'three']"
      ]
     },
     "execution_count": 21,
     "metadata": {},
     "output_type": "execute_result"
    }
   ],
   "source": [
    "mylist[:3] # if there is no element on the right side of the slicing then it means the start of the index."
   ]
  },
  {
   "cell_type": "code",
   "execution_count": 22,
   "id": "257273d6-77e9-43e9-a8b0-e9e12682e518",
   "metadata": {},
   "outputs": [
    {
     "data": {
      "text/plain": [
       "['one', 'two', 'three', 'four', 'five', 'six']"
      ]
     },
     "execution_count": 22,
     "metadata": {},
     "output_type": "execute_result"
    }
   ],
   "source": [
    "mylist[:6]"
   ]
  },
  {
   "cell_type": "code",
   "execution_count": 23,
   "id": "eda269c4-cc87-4658-af2e-f109ceff699d",
   "metadata": {},
   "outputs": [
    {
     "data": {
      "text/plain": [
       "['one', 'two', 'three', 'four', 'five', 'six']"
      ]
     },
     "execution_count": 23,
     "metadata": {},
     "output_type": "execute_result"
    }
   ],
   "source": [
    "mylist[:-2] #slicing using backward indexing here also the \"n-1\" rule is followed."
   ]
  },
  {
   "cell_type": "code",
   "execution_count": 24,
   "id": "d85ead8c-19f9-4796-b5b7-9c531ad2ae21",
   "metadata": {},
   "outputs": [
    {
     "data": {
      "text/plain": [
       "['seven', 'eight']"
      ]
     },
     "execution_count": 24,
     "metadata": {},
     "output_type": "execute_result"
    }
   ],
   "source": [
    "mylist[-2:]"
   ]
  },
  {
   "cell_type": "code",
   "execution_count": 25,
   "id": "7cc2ffa5-71e2-48d6-beb8-00028f730518",
   "metadata": {},
   "outputs": [
    {
     "data": {
      "text/plain": [
       "['one', 'two', 'three', 'four', 'five', 'six', 'seven', 'eight']"
      ]
     },
     "execution_count": 25,
     "metadata": {},
     "output_type": "execute_result"
    }
   ],
   "source": [
    "mylist[:]"
   ]
  },
  {
   "cell_type": "markdown",
   "id": "b1ea7615-f8c9-420b-9c3f-ddf944afd0af",
   "metadata": {},
   "source": [
    "ADD, REMOVE & CHANGE THE ELEMENTS"
   ]
  },
  {
   "cell_type": "code",
   "execution_count": 26,
   "id": "ee2209f6-174d-4901-9428-449249a5e6c4",
   "metadata": {},
   "outputs": [
    {
     "data": {
      "text/plain": [
       "['one', 'two', 'three', 'four', 'five', 'six', 'seven', 'eight']"
      ]
     },
     "execution_count": 26,
     "metadata": {},
     "output_type": "execute_result"
    }
   ],
   "source": [
    "mylist"
   ]
  },
  {
   "cell_type": "code",
   "execution_count": 38,
   "id": "3c8f148e-f43f-40d9-865c-4a9745e6bbba",
   "metadata": {},
   "outputs": [
    {
     "data": {
      "text/plain": [
       "['one', 'two', 'three', 'four', 'five', 'six', 'seven', 'eight', 'nine']"
      ]
     },
     "execution_count": 38,
     "metadata": {},
     "output_type": "execute_result"
    }
   ],
   "source": [
    "mylist.append('nine')\n",
    "mylist"
   ]
  },
  {
   "cell_type": "code",
   "execution_count": 39,
   "id": "697c0237-78d4-4323-83fa-7fbf98f65c8f",
   "metadata": {},
   "outputs": [
    {
     "data": {
      "text/plain": [
       "['one', 'two', 'three', 'four', 'five', 'six', 'seven', 'eight', 'nine', 'ten']"
      ]
     },
     "execution_count": 39,
     "metadata": {},
     "output_type": "execute_result"
    }
   ],
   "source": [
    "mylist.insert(9,'ten') #here insert() function adds given element in the given index.\n",
    "mylist"
   ]
  },
  {
   "cell_type": "code",
   "execution_count": 40,
   "id": "9e8a5345-e47e-4c5b-bb65-93f71257b713",
   "metadata": {},
   "outputs": [],
   "source": [
    "mylist.insert(1,'ONE')"
   ]
  },
  {
   "cell_type": "code",
   "execution_count": 41,
   "id": "5f6dac84-0c71-4628-971d-637a1a0b2a72",
   "metadata": {},
   "outputs": [
    {
     "data": {
      "text/plain": [
       "['one',\n",
       " 'ONE',\n",
       " 'two',\n",
       " 'three',\n",
       " 'four',\n",
       " 'five',\n",
       " 'six',\n",
       " 'seven',\n",
       " 'eight',\n",
       " 'nine',\n",
       " 'ten']"
      ]
     },
     "execution_count": 41,
     "metadata": {},
     "output_type": "execute_result"
    }
   ],
   "source": [
    "mylist"
   ]
  },
  {
   "cell_type": "code",
   "execution_count": 42,
   "id": "7d479ae0-9f6f-4c8e-ac53-ddd25b2760ad",
   "metadata": {},
   "outputs": [],
   "source": [
    "mylist.remove('ONE')"
   ]
  },
  {
   "cell_type": "code",
   "execution_count": 43,
   "id": "a98c17e0-1854-4172-a15b-c3ecbb4d04eb",
   "metadata": {},
   "outputs": [
    {
     "data": {
      "text/plain": [
       "['one', 'two', 'three', 'four', 'five', 'six', 'seven', 'eight', 'nine', 'ten']"
      ]
     },
     "execution_count": 43,
     "metadata": {},
     "output_type": "execute_result"
    }
   ],
   "source": [
    "mylist"
   ]
  },
  {
   "cell_type": "code",
   "execution_count": 44,
   "id": "d6d8c508-80ff-441c-bb2f-7538683aee42",
   "metadata": {},
   "outputs": [
    {
     "data": {
      "text/plain": [
       "'ten'"
      ]
     },
     "execution_count": 44,
     "metadata": {},
     "output_type": "execute_result"
    }
   ],
   "source": [
    "mylist.pop()"
   ]
  },
  {
   "cell_type": "code",
   "execution_count": 45,
   "id": "3f7b593f-b2a7-41b6-b410-75d058eff58a",
   "metadata": {},
   "outputs": [
    {
     "data": {
      "text/plain": [
       "'nine'"
      ]
     },
     "execution_count": 45,
     "metadata": {},
     "output_type": "execute_result"
    }
   ],
   "source": [
    "mylist.pop(8)"
   ]
  },
  {
   "cell_type": "code",
   "execution_count": 48,
   "id": "4131191d-d9e2-459f-a590-8b0542ee01ea",
   "metadata": {},
   "outputs": [],
   "source": [
    "del mylist[7]"
   ]
  },
  {
   "cell_type": "code",
   "execution_count": 49,
   "id": "d8bef34e-964d-424e-a0f1-f00b0ba7a984",
   "metadata": {},
   "outputs": [
    {
     "data": {
      "text/plain": [
       "['one', 'two', 'three', 'four', 'five', 'six', 'seven']"
      ]
     },
     "execution_count": 49,
     "metadata": {},
     "output_type": "execute_result"
    }
   ],
   "source": [
    "mylist"
   ]
  },
  {
   "cell_type": "raw",
   "id": "8cc167c3-0afb-4e1e-93ac-71f62d26c11c",
   "metadata": {},
   "source": [
    "Change values of the string"
   ]
  },
  {
   "cell_type": "code",
   "execution_count": 50,
   "id": "e9a3129c-7feb-4406-8f75-ec7645734fae",
   "metadata": {},
   "outputs": [
    {
     "data": {
      "text/plain": [
       "[1, 2, 3, 'four', 'five', 'six', 'seven']"
      ]
     },
     "execution_count": 50,
     "metadata": {},
     "output_type": "execute_result"
    }
   ],
   "source": [
    "mylist[0] = 1 \n",
    "mylist[1] = 2 \n",
    "mylist[2] = 3 \n",
    "mylist "
   ]
  },
  {
   "cell_type": "code",
   "execution_count": 51,
   "id": "42b651fb-49af-42ff-86f0-90bd91f52e09",
   "metadata": {},
   "outputs": [],
   "source": [
    "mylist.clear()"
   ]
  },
  {
   "cell_type": "code",
   "execution_count": 53,
   "id": "c352715d-2e65-45ac-87b8-15729fec21e6",
   "metadata": {},
   "outputs": [
    {
     "data": {
      "text/plain": [
       "[]"
      ]
     },
     "execution_count": 53,
     "metadata": {},
     "output_type": "execute_result"
    }
   ],
   "source": [
    "mylist"
   ]
  },
  {
   "cell_type": "code",
   "execution_count": 55,
   "id": "4893eba1-5354-4fba-a7f8-7773035d0454",
   "metadata": {},
   "outputs": [],
   "source": [
    "del mylist"
   ]
  },
  {
   "cell_type": "code",
   "execution_count": 56,
   "id": "98016ef0-c83f-4796-9a15-b17285dbd73b",
   "metadata": {},
   "outputs": [
    {
     "ename": "NameError",
     "evalue": "name 'mylist' is not defined",
     "output_type": "error",
     "traceback": [
      "\u001b[1;31m---------------------------------------------------------------------------\u001b[0m",
      "\u001b[1;31mNameError\u001b[0m                                 Traceback (most recent call last)",
      "Cell \u001b[1;32mIn[56], line 1\u001b[0m\n\u001b[1;32m----> 1\u001b[0m mylist\n",
      "\u001b[1;31mNameError\u001b[0m: name 'mylist' is not defined"
     ]
    }
   ],
   "source": [
    "mylist"
   ]
  },
  {
   "cell_type": "markdown",
   "id": "02f9ff96-ca70-4670-b7ec-f273dbe89fde",
   "metadata": {},
   "source": [
    "COPY LIST"
   ]
  },
  {
   "cell_type": "code",
   "execution_count": 58,
   "id": "d5d46ea0-481f-489c-881f-829dc06e8199",
   "metadata": {},
   "outputs": [],
   "source": [
    "mylist = ['one', 'two', 'three', 'four', 'five', 'six', 'seven', 'eight','nine' ]"
   ]
  },
  {
   "cell_type": "code",
   "execution_count": 60,
   "id": "af554f54-b27f-463d-b819-d89114ea83de",
   "metadata": {},
   "outputs": [],
   "source": [
    "mylist1 = mylist"
   ]
  },
  {
   "cell_type": "code",
   "execution_count": 61,
   "id": "e23e4360-39d0-45f9-9132-01de7539df49",
   "metadata": {},
   "outputs": [
    {
     "data": {
      "text/plain": [
       "(2532154282688, 2532154282688)"
      ]
     },
     "execution_count": 61,
     "metadata": {},
     "output_type": "execute_result"
    }
   ],
   "source": [
    "id(mylist), id(mylist1)"
   ]
  },
  {
   "cell_type": "code",
   "execution_count": 62,
   "id": "0e82421d-6852-435e-8c6f-a3ad934d738e",
   "metadata": {},
   "outputs": [],
   "source": [
    "mylist2 = mylist.copy() # before we created just the reference but here we are copying mylist to mylist2"
   ]
  },
  {
   "cell_type": "code",
   "execution_count": 63,
   "id": "31cc710a-9ea8-4079-af5c-070b97a36573",
   "metadata": {},
   "outputs": [
    {
     "data": {
      "text/plain": [
       "2532153984832"
      ]
     },
     "execution_count": 63,
     "metadata": {},
     "output_type": "execute_result"
    }
   ],
   "source": [
    "id(mylist2) #so the id will be different from the previous ones."
   ]
  },
  {
   "cell_type": "code",
   "execution_count": 64,
   "id": "acea9f28-bc18-47f1-ac25-af48c7b43e55",
   "metadata": {},
   "outputs": [],
   "source": [
    "mylist[0] = 1"
   ]
  },
  {
   "cell_type": "code",
   "execution_count": 65,
   "id": "b5d7ec4d-2307-4b4b-808e-43ec67ab1998",
   "metadata": {},
   "outputs": [
    {
     "data": {
      "text/plain": [
       "[1, 'two', 'three', 'four', 'five', 'six', 'seven', 'eight', 'nine']"
      ]
     },
     "execution_count": 65,
     "metadata": {},
     "output_type": "execute_result"
    }
   ],
   "source": [
    "mylist"
   ]
  },
  {
   "cell_type": "code",
   "execution_count": 67,
   "id": "b04f0889-1bc1-466f-a360-123332157695",
   "metadata": {},
   "outputs": [
    {
     "data": {
      "text/plain": [
       "[1, 'two', 'three', 'four', 'five', 'six', 'seven', 'eight', 'nine']"
      ]
     },
     "execution_count": 67,
     "metadata": {},
     "output_type": "execute_result"
    }
   ],
   "source": [
    "mylist1 #this list will also change because its just a reference i.e; it is pointing to the OG mylist."
   ]
  },
  {
   "cell_type": "code",
   "execution_count": 68,
   "id": "101c543c-fedd-4a3c-8eae-dc2f9959d04b",
   "metadata": {},
   "outputs": [
    {
     "data": {
      "text/plain": [
       "['one', 'two', 'three', 'four', 'five', 'six', 'seven', 'eight', 'nine']"
      ]
     },
     "execution_count": 68,
     "metadata": {},
     "output_type": "execute_result"
    }
   ],
   "source": [
    "mylist2 #doesnt change because we copied the OG to this list."
   ]
  },
  {
   "cell_type": "markdown",
   "id": "c1a1b25b-3e6f-49ff-b7df-87ab71000541",
   "metadata": {},
   "source": [
    "JOIN LISTS"
   ]
  },
  {
   "cell_type": "code",
   "execution_count": 69,
   "id": "0c77b61b-8b76-4e2a-9f3b-0a144f4711a2",
   "metadata": {},
   "outputs": [],
   "source": [
    "list1 = ['one', 'two', 'three']\n",
    "list2 = ['four', 'five', 'six']"
   ]
  },
  {
   "cell_type": "code",
   "execution_count": 70,
   "id": "f2e05178-1871-4438-b732-a2ac6c0562c8",
   "metadata": {},
   "outputs": [],
   "source": [
    "list3 = list1 + list2 # here we are using the add operator to join lists and storing the result in list3."
   ]
  },
  {
   "cell_type": "code",
   "execution_count": 71,
   "id": "3beba7ad-6a4e-44dc-b9d7-3ca218f234f6",
   "metadata": {},
   "outputs": [
    {
     "data": {
      "text/plain": [
       "['one', 'two', 'three', 'four', 'five', 'six']"
      ]
     },
     "execution_count": 71,
     "metadata": {},
     "output_type": "execute_result"
    }
   ],
   "source": [
    "list3"
   ]
  },
  {
   "cell_type": "code",
   "execution_count": 72,
   "id": "752ceba9-0e7f-49e6-903e-47f64924303e",
   "metadata": {},
   "outputs": [],
   "source": [
    "list1.extend(list2) # extend() joins secnd list with first list."
   ]
  },
  {
   "cell_type": "code",
   "execution_count": 73,
   "id": "3e0cd7be-c2a9-4724-b89d-264abb369cb1",
   "metadata": {},
   "outputs": [
    {
     "data": {
      "text/plain": [
       "['one', 'two', 'three', 'four', 'five', 'six']"
      ]
     },
     "execution_count": 73,
     "metadata": {},
     "output_type": "execute_result"
    }
   ],
   "source": [
    "list1"
   ]
  },
  {
   "cell_type": "markdown",
   "id": "c7b8334a-e237-4caa-8760-2e2d7d391ab0",
   "metadata": {},
   "source": [
    "LIST MEMBERSHIP"
   ]
  },
  {
   "cell_type": "code",
   "execution_count": 74,
   "id": "01e33f87-7d6a-4d9f-9754-07e55feef3eb",
   "metadata": {},
   "outputs": [
    {
     "data": {
      "text/plain": [
       "['one', 'two', 'three', 'four', 'five', 'six']"
      ]
     },
     "execution_count": 74,
     "metadata": {},
     "output_type": "execute_result"
    }
   ],
   "source": [
    "list1"
   ]
  },
  {
   "cell_type": "code",
   "execution_count": 75,
   "id": "65f382fe-0b9d-4f2a-83f5-02d3f00799ad",
   "metadata": {},
   "outputs": [
    {
     "data": {
      "text/plain": [
       "True"
      ]
     },
     "execution_count": 75,
     "metadata": {},
     "output_type": "execute_result"
    }
   ],
   "source": [
    "'one' in list1 # checks if list1 contains 'one' or not."
   ]
  },
  {
   "cell_type": "code",
   "execution_count": 76,
   "id": "58e3fb1c-fab8-4496-9bf0-918c87f01e15",
   "metadata": {},
   "outputs": [
    {
     "data": {
      "text/plain": [
       "False"
      ]
     },
     "execution_count": 76,
     "metadata": {},
     "output_type": "execute_result"
    }
   ],
   "source": [
    "'eight' in list1"
   ]
  },
  {
   "cell_type": "code",
   "execution_count": 79,
   "id": "4eab544d-b989-41d5-a7de-6a7a3220c29b",
   "metadata": {},
   "outputs": [
    {
     "name": "stdout",
     "output_type": "stream",
     "text": [
      "two is present in list1\n"
     ]
    }
   ],
   "source": [
    "if 'two' in list1:\n",
    "    print(\"two is present in list1\")\n",
    "else:\n",
    "    print(\"two is not present in list1\")"
   ]
  },
  {
   "cell_type": "markdown",
   "id": "c9ea1d1d-e94a-4ef0-9f70-05c21aa4027b",
   "metadata": {},
   "source": [
    "REVERSE AND SORT LIST"
   ]
  },
  {
   "cell_type": "code",
   "execution_count": 80,
   "id": "98653ab9-ca21-4d7a-bab7-f8be579bb54c",
   "metadata": {},
   "outputs": [
    {
     "data": {
      "text/plain": [
       "['one', 'two', 'three', 'four', 'five', 'six']"
      ]
     },
     "execution_count": 80,
     "metadata": {},
     "output_type": "execute_result"
    }
   ],
   "source": [
    "list1"
   ]
  },
  {
   "cell_type": "code",
   "execution_count": 81,
   "id": "e15b9062-c34c-47b9-abe4-ada2615b7720",
   "metadata": {},
   "outputs": [
    {
     "data": {
      "text/plain": [
       "['six', 'five', 'four', 'three', 'two', 'one']"
      ]
     },
     "execution_count": 81,
     "metadata": {},
     "output_type": "execute_result"
    }
   ],
   "source": [
    "list1.reverse()\n",
    "list1"
   ]
  },
  {
   "cell_type": "code",
   "execution_count": 84,
   "id": "bc11726a-2cad-463f-89ec-50f3b06d5de4",
   "metadata": {},
   "outputs": [
    {
     "data": {
      "text/plain": [
       "['one', 'two', 'three', 'four', 'five', 'six']"
      ]
     },
     "execution_count": 84,
     "metadata": {},
     "output_type": "execute_result"
    }
   ],
   "source": [
    "list1[::-1]"
   ]
  },
  {
   "cell_type": "code",
   "execution_count": 85,
   "id": "91209b8c-3bee-4e06-b7ef-fed8352e3a81",
   "metadata": {},
   "outputs": [
    {
     "data": {
      "text/plain": [
       "[2, 5, 9, 12, 34, 88, 99]"
      ]
     },
     "execution_count": 85,
     "metadata": {},
     "output_type": "execute_result"
    }
   ],
   "source": [
    "mylist3 = [9,5,2,99,12,88,34] \n",
    "mylist3.sort() # Sort list in ascending order \n",
    "mylist3 "
   ]
  },
  {
   "cell_type": "code",
   "execution_count": 88,
   "id": "1ac58c71-d886-4e4b-a03d-f02b9bc640e1",
   "metadata": {},
   "outputs": [
    {
     "data": {
      "text/plain": [
       "[99, 88, 34, 12, 9, 5, 2]"
      ]
     },
     "execution_count": 88,
     "metadata": {},
     "output_type": "execute_result"
    }
   ],
   "source": [
    "mylist3 = [9,5,2,99,12,88,34] \n",
    "mylist3.sort(reverse=True) # Sort list in descending order \n",
    "mylist3 "
   ]
  },
  {
   "cell_type": "code",
   "execution_count": 90,
   "id": "f60af9f2-bf4c-47e4-bec2-7f16b406c166",
   "metadata": {},
   "outputs": [
    {
     "data": {
      "text/plain": [
       "[1, 17, 20, 35, 40, 90]"
      ]
     },
     "execution_count": 90,
     "metadata": {},
     "output_type": "execute_result"
    }
   ],
   "source": [
    "mylist4 = [20,35,17,90,1,40]\n",
    "sorted(mylist4)"
   ]
  },
  {
   "cell_type": "markdown",
   "id": "4bd62c15-292e-46d9-be20-42cba46978af",
   "metadata": {},
   "source": [
    "LOOP THROUGH A LIST"
   ]
  },
  {
   "cell_type": "code",
   "execution_count": 91,
   "id": "693c0789-a7a7-447d-9c48-8544fb3529b6",
   "metadata": {},
   "outputs": [
    {
     "data": {
      "text/plain": [
       "['six', 'five', 'four', 'three', 'two', 'one']"
      ]
     },
     "execution_count": 91,
     "metadata": {},
     "output_type": "execute_result"
    }
   ],
   "source": [
    "list1"
   ]
  },
  {
   "cell_type": "code",
   "execution_count": 92,
   "id": "bcf0275a-54e0-49b9-af99-3dfdf01e6fc6",
   "metadata": {},
   "outputs": [
    {
     "name": "stdout",
     "output_type": "stream",
     "text": [
      "six\n",
      "five\n",
      "four\n",
      "three\n",
      "two\n",
      "one\n"
     ]
    }
   ],
   "source": [
    "for i in list1:\n",
    "    print(i)"
   ]
  },
  {
   "cell_type": "code",
   "execution_count": 94,
   "id": "c4066ac7-1ddc-42b1-ad66-26b041421cd6",
   "metadata": {},
   "outputs": [
    {
     "name": "stdout",
     "output_type": "stream",
     "text": [
      "(0, 'six')\n",
      "(1, 'five')\n",
      "(2, 'four')\n",
      "(3, 'three')\n",
      "(4, 'two')\n",
      "(5, 'one')\n"
     ]
    }
   ],
   "source": [
    "for i in enumerate (list1):\n",
    "    print(i)"
   ]
  },
  {
   "cell_type": "markdown",
   "id": "ad248401-9986-4e8a-bce3-0fd26e744775",
   "metadata": {},
   "source": [
    "COUNT"
   ]
  },
  {
   "cell_type": "code",
   "execution_count": 95,
   "id": "b64b45a7-6249-4aa6-a666-bdaeb2555522",
   "metadata": {},
   "outputs": [],
   "source": [
    "list10 = ['one', 'two', 'three', 'four', 'one', 'one', 'two', 'three']"
   ]
  },
  {
   "cell_type": "code",
   "execution_count": 96,
   "id": "a04a6c7e-7c5f-4387-aa16-0c5d65941229",
   "metadata": {},
   "outputs": [
    {
     "data": {
      "text/plain": [
       "3"
      ]
     },
     "execution_count": 96,
     "metadata": {},
     "output_type": "execute_result"
    }
   ],
   "source": [
    "list10.count('one')"
   ]
  },
  {
   "cell_type": "code",
   "execution_count": 98,
   "id": "2fb2d0e9-9553-4cbe-8088-588f28287e83",
   "metadata": {},
   "outputs": [
    {
     "data": {
      "text/plain": [
       "2"
      ]
     },
     "execution_count": 98,
     "metadata": {},
     "output_type": "execute_result"
    }
   ],
   "source": [
    "list10.count('three')"
   ]
  },
  {
   "cell_type": "markdown",
   "id": "6232b127-47a9-4df4-b5e5-a1bbf5d32b01",
   "metadata": {},
   "source": [
    "ALL/ANY "
   ]
  },
  {
   "cell_type": "code",
   "execution_count": 99,
   "id": "e2b9bfc0-694a-43b7-bf05-9c5602c30049",
   "metadata": {},
   "outputs": [],
   "source": [
    "L1 = [1,2,3,4,5,0]"
   ]
  },
  {
   "cell_type": "code",
   "execution_count": 100,
   "id": "6a30058a-e91c-44c3-b3f2-6f303fa25662",
   "metadata": {},
   "outputs": [
    {
     "data": {
      "text/plain": [
       "False"
      ]
     },
     "execution_count": 100,
     "metadata": {},
     "output_type": "execute_result"
    }
   ],
   "source": [
    "all(L1)"
   ]
  },
  {
   "cell_type": "code",
   "execution_count": 101,
   "id": "48bc9f64-deb2-43bc-a392-3a5dd29c3d40",
   "metadata": {},
   "outputs": [
    {
     "data": {
      "text/plain": [
       "True"
      ]
     },
     "execution_count": 101,
     "metadata": {},
     "output_type": "execute_result"
    }
   ],
   "source": [
    "any(L1)"
   ]
  },
  {
   "cell_type": "code",
   "execution_count": null,
   "id": "7cad93f3-4e45-4e13-bfde-6d65a54d9b88",
   "metadata": {},
   "outputs": [],
   "source": []
  }
 ],
 "metadata": {
  "kernelspec": {
   "display_name": "Python 3 (ipykernel)",
   "language": "python",
   "name": "python3"
  },
  "language_info": {
   "codemirror_mode": {
    "name": "ipython",
    "version": 3
   },
   "file_extension": ".py",
   "mimetype": "text/x-python",
   "name": "python",
   "nbconvert_exporter": "python",
   "pygments_lexer": "ipython3",
   "version": "3.12.7"
  }
 },
 "nbformat": 4,
 "nbformat_minor": 5
}
