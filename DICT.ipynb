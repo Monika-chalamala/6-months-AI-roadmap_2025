{
 "cells": [
  {
   "cell_type": "code",
   "execution_count": 1,
   "id": "a25e98fb-68ad-4d82-8a9b-2b221f2e403d",
   "metadata": {},
   "outputs": [
    {
     "data": {
      "text/plain": [
       "{}"
      ]
     },
     "execution_count": 1,
     "metadata": {},
     "output_type": "execute_result"
    }
   ],
   "source": [
    "mydict = dict() # creation of dictionary named mydict.\n",
    "mydict "
   ]
  },
  {
   "cell_type": "raw",
   "id": "91588e18-ad20-499e-8d89-f23cd3187107",
   "metadata": {},
   "source": [
    "{} is the output because we didnt give any input values to store."
   ]
  },
  {
   "cell_type": "code",
   "execution_count": 3,
   "id": "6a24d387-c345-4e86-ab66-4e22f3df01f8",
   "metadata": {},
   "outputs": [
    {
     "data": {
      "text/plain": [
       "{1: 'one', 2: 'two', 3: 'three'}"
      ]
     },
     "execution_count": 3,
     "metadata": {},
     "output_type": "execute_result"
    }
   ],
   "source": [
    "mydict = { 1:'one' , 2:'two' , 3:'three' } # the values in dictionary should always be store in key value format .\n",
    "mydict"
   ]
  },
  {
   "cell_type": "code",
   "execution_count": 4,
   "id": "783e671f-0991-4238-a2fe-ee24c52446eb",
   "metadata": {},
   "outputs": [
    {
     "data": {
      "text/plain": [
       "{1: 'one', 2: 'two', 3: 'three'}"
      ]
     },
     "execution_count": 4,
     "metadata": {},
     "output_type": "execute_result"
    }
   ],
   "source": [
    "mydict = dict( { 1:'one' , 2:'two' , 3:'three' } ) # other way to create dictionary is dict().\n",
    "mydict"
   ]
  },
  {
   "cell_type": "code",
   "execution_count": 6,
   "id": "e4cacd6e-43c9-4833-a57c-2eddb96130b9",
   "metadata": {},
   "outputs": [
    {
     "data": {
      "text/plain": [
       "{'A': 'one', 'B': 'two', 'C': 'three'}"
      ]
     },
     "execution_count": 6,
     "metadata": {},
     "output_type": "execute_result"
    }
   ],
   "source": [
    "mydict1 = { 'A':'one' , 'B':'two' , 'C':'three' } # key can be of any data type.\n",
    "mydict1"
   ]
  },
  {
   "cell_type": "code",
   "execution_count": 7,
   "id": "0e6d136d-c462-4d09-bf60-89b348c2f588",
   "metadata": {},
   "outputs": [
    {
     "data": {
      "text/plain": [
       "{1.1: 'one', 1.2: 'two', 1.3: 'three'}"
      ]
     },
     "execution_count": 7,
     "metadata": {},
     "output_type": "execute_result"
    }
   ],
   "source": [
    "mydict2 = { 1.1 :'one' , 1.2 :'two' , 1.3 :'three' }\n",
    "mydict2"
   ]
  },
  {
   "cell_type": "code",
   "execution_count": 9,
   "id": "b03d0567-3396-4787-91ac-0cd3a8448923",
   "metadata": {},
   "outputs": [
    {
     "data": {
      "text/plain": [
       "dict_keys([1, 2, 3])"
      ]
     },
     "execution_count": 9,
     "metadata": {},
     "output_type": "execute_result"
    }
   ],
   "source": [
    "mydict.keys() # will return the key values in that dictionary"
   ]
  },
  {
   "cell_type": "code",
   "execution_count": 10,
   "id": "762d012c-3d21-4cac-966c-a07e9a407a6d",
   "metadata": {},
   "outputs": [
    {
     "data": {
      "text/plain": [
       "dict_values(['one', 'two', 'three'])"
      ]
     },
     "execution_count": 10,
     "metadata": {},
     "output_type": "execute_result"
    }
   ],
   "source": [
    "mydict.values() # will return the values in that dictionary"
   ]
  },
  {
   "cell_type": "code",
   "execution_count": 11,
   "id": "c5464c16-7193-4603-a5dd-5732d79793a7",
   "metadata": {},
   "outputs": [
    {
     "data": {
      "text/plain": [
       "dict_items([(1, 'one'), (2, 'two'), (3, 'three')])"
      ]
     },
     "execution_count": 11,
     "metadata": {},
     "output_type": "execute_result"
    }
   ],
   "source": [
    "mydict.items() # will return the key-value pairs stored in that dictionary."
   ]
  },
  {
   "cell_type": "code",
   "execution_count": 16,
   "id": "297ab8eb-aacd-44fb-b4a9-3baa6fd41ffd",
   "metadata": {},
   "outputs": [
    {
     "data": {
      "text/plain": [
       "{1: 'one', 'A': 3, 1.3: ['monu', 'siri', 'monika']}"
      ]
     },
     "execution_count": 16,
     "metadata": {},
     "output_type": "execute_result"
    }
   ],
   "source": [
    "mydict3 = {1:'one','A':3,1.3 : ['monu','siri','monika']} # with a list\n",
    "mydict3"
   ]
  },
  {
   "cell_type": "code",
   "execution_count": 13,
   "id": "e92821ba-0162-4db0-98e7-eedc8d1bcfb3",
   "metadata": {},
   "outputs": [
    {
     "data": {
      "text/plain": [
       "{'d': None, 'b': None, 'c': None, 'a': None}"
      ]
     },
     "execution_count": 13,
     "metadata": {},
     "output_type": "execute_result"
    }
   ],
   "source": [
    " \n",
    "keys = {'a' , 'b' , 'c' , 'd'} \n",
    "mydict4 = dict.fromkeys(keys) # Create a dictionary from a sequence of keys \n",
    "mydict4"
   ]
  },
  {
   "cell_type": "code",
   "execution_count": 19,
   "id": "b6ac8fea-c160-4448-b970-d1c58ff245f8",
   "metadata": {},
   "outputs": [
    {
     "data": {
      "text/plain": [
       "{'d': [10, 20, 30], 'b': [10, 20, 30], 'c': [10, 20, 30], 'a': [10, 20, 30]}"
      ]
     },
     "execution_count": 19,
     "metadata": {},
     "output_type": "execute_result"
    }
   ],
   "source": [
    " \n",
    "keys = {'a' , 'b' , 'c' , 'd'} \n",
    "value = [10,20,30]\n",
    "mydict5 = dict.fromkeys(keys , value) # Create a dictionary from a sequence of keys and values\n",
    "mydict5"
   ]
  },
  {
   "cell_type": "code",
   "execution_count": 20,
   "id": "b96e679c-ecf2-4a87-96b8-1e8061739420",
   "metadata": {},
   "outputs": [
    {
     "data": {
      "text/plain": [
       "{'d': [10, 20, 30, 40],\n",
       " 'b': [10, 20, 30, 40],\n",
       " 'c': [10, 20, 30, 40],\n",
       " 'a': [10, 20, 30, 40]}"
      ]
     },
     "execution_count": 20,
     "metadata": {},
     "output_type": "execute_result"
    }
   ],
   "source": [
    "value.append(40)\n",
    "mydict5"
   ]
  },
  {
   "cell_type": "markdown",
   "id": "55e31fcc-a2ec-4472-9027-a5667d9caebb",
   "metadata": {},
   "source": [
    "Accessing items"
   ]
  },
  {
   "cell_type": "code",
   "execution_count": 2,
   "id": "89549511-e1fe-44fd-a50b-2ec57c7eda52",
   "metadata": {},
   "outputs": [
    {
     "data": {
      "text/plain": [
       "{1: 'one', 2: 'two', 3: 'three'}"
      ]
     },
     "execution_count": 2,
     "metadata": {},
     "output_type": "execute_result"
    }
   ],
   "source": [
    "mydict = { 1:'one' , 2:'two' , 3:'three' } \n",
    "mydict"
   ]
  },
  {
   "cell_type": "code",
   "execution_count": 4,
   "id": "ac2ebb41-a82d-4c31-82b0-97b615303f6f",
   "metadata": {},
   "outputs": [
    {
     "data": {
      "text/plain": [
       "'one'"
      ]
     },
     "execution_count": 4,
     "metadata": {},
     "output_type": "execute_result"
    }
   ],
   "source": [
    "mydict[1] # we can access values using keys."
   ]
  },
  {
   "cell_type": "code",
   "execution_count": 6,
   "id": "ca419efb-21ef-4910-9cc6-1c8e08ef5677",
   "metadata": {},
   "outputs": [
    {
     "data": {
      "text/plain": [
       "'one'"
      ]
     },
     "execution_count": 6,
     "metadata": {},
     "output_type": "execute_result"
    }
   ],
   "source": [
    "mydict.get(1) # using get() function."
   ]
  },
  {
   "cell_type": "code",
   "execution_count": 8,
   "id": "774b3914-28fa-41c2-b387-9254418a4169",
   "metadata": {},
   "outputs": [
    {
     "data": {
      "text/plain": [
       "{'A': 'one', 'B': 'two', 'C': 'three'}"
      ]
     },
     "execution_count": 8,
     "metadata": {},
     "output_type": "execute_result"
    }
   ],
   "source": [
    "mydict1 = { 'A':'one' , 'B':'two' , 'C':'three' }\n",
    "mydict1"
   ]
  },
  {
   "cell_type": "code",
   "execution_count": 9,
   "id": "6a442be2-03f7-41e7-b8dd-2b6e6bad0821",
   "metadata": {},
   "outputs": [
    {
     "data": {
      "text/plain": [
       "'one'"
      ]
     },
     "execution_count": 9,
     "metadata": {},
     "output_type": "execute_result"
    }
   ],
   "source": [
    "mydict1['A']"
   ]
  },
  {
   "cell_type": "code",
   "execution_count": 12,
   "id": "67781976-914c-4066-aefc-3ac2759e38a9",
   "metadata": {},
   "outputs": [
    {
     "data": {
      "text/plain": [
       "'three'"
      ]
     },
     "execution_count": 12,
     "metadata": {},
     "output_type": "execute_result"
    }
   ],
   "source": [
    "mydict1.get('C')"
   ]
  },
  {
   "cell_type": "markdown",
   "id": "ea641f97-d351-43a7-9df2-893e8ce07e6a",
   "metadata": {},
   "source": [
    "Add , Remove and Change Items."
   ]
  },
  {
   "cell_type": "code",
   "execution_count": 30,
   "id": "82d723bb-22a0-441b-a299-5ab26bcb613b",
   "metadata": {},
   "outputs": [
    {
     "data": {
      "text/plain": [
       "{'Name': 'Monika', 'ID': 12345, 'DOB': 2003, 'Address': 'India'}"
      ]
     },
     "execution_count": 30,
     "metadata": {},
     "output_type": "execute_result"
    }
   ],
   "source": [
    " mydict1 = {'Name':'Monika' , 'ID': 12345 , 'DOB': 2003 , 'Address' : 'India'} \n",
    "mydict1"
   ]
  },
  {
   "cell_type": "code",
   "execution_count": 31,
   "id": "91f8036c-acf7-41ae-ba12-c98554b29329",
   "metadata": {},
   "outputs": [
    {
     "data": {
      "text/plain": [
       "{'Name': 'Monika', 'ID': 721, 'DOB': 2003, 'Address': 'India'}"
      ]
     },
     "execution_count": 31,
     "metadata": {},
     "output_type": "execute_result"
    }
   ],
   "source": [
    "mydict1['ID']=721 # changing dictionary items.\n",
    "mydict1"
   ]
  },
  {
   "cell_type": "code",
   "execution_count": 32,
   "id": "96558449-bdea-4f4c-8265-98f2f4728721",
   "metadata": {},
   "outputs": [
    {
     "data": {
      "text/plain": [
       "{'Name': 'Monika', 'ID': 12345, 'DOB': 2003, 'Address': 'India'}"
      ]
     },
     "execution_count": 32,
     "metadata": {},
     "output_type": "execute_result"
    }
   ],
   "source": [
    " \n",
    "dict1 = {'ID':12345} \n",
    "mydict1.update(dict1) \n",
    "mydict1"
   ]
  },
  {
   "cell_type": "code",
   "execution_count": 33,
   "id": "9324cda9-7ce7-4738-ab1e-9d10e71e7b0f",
   "metadata": {},
   "outputs": [
    {
     "data": {
      "text/plain": [
       "{'Name': 'Monika',\n",
       " 'ID': 12345,\n",
       " 'DOB': 2003,\n",
       " 'Address': 'India',\n",
       " 'Job': 'Student'}"
      ]
     },
     "execution_count": 33,
     "metadata": {},
     "output_type": "execute_result"
    }
   ],
   "source": [
    "mydict1['Job']='Student' #Adding items in the dictionary.\n",
    "mydict1"
   ]
  },
  {
   "cell_type": "code",
   "execution_count": 34,
   "id": "ffd2a382-42b9-41a9-8275-8d763533d828",
   "metadata": {},
   "outputs": [
    {
     "data": {
      "text/plain": [
       "{'Name': 'Monika', 'ID': 12345, 'DOB': 2003, 'Address': 'India'}"
      ]
     },
     "execution_count": 34,
     "metadata": {},
     "output_type": "execute_result"
    }
   ],
   "source": [
    "mydict1.pop('Job') #removing items from dictionaru mydict1 using pop() function.\n",
    "mydict1"
   ]
  },
  {
   "cell_type": "code",
   "execution_count": 36,
   "id": "16a897fa-06e4-4580-9ff2-4e611dad5a76",
   "metadata": {},
   "outputs": [
    {
     "data": {
      "text/plain": [
       "('Address', 'India')"
      ]
     },
     "execution_count": 36,
     "metadata": {},
     "output_type": "execute_result"
    }
   ],
   "source": [
    "mydict1.popitem()"
   ]
  },
  {
   "cell_type": "code",
   "execution_count": 37,
   "id": "46ee891a-388c-473f-bd5f-25a1c9d57830",
   "metadata": {},
   "outputs": [
    {
     "data": {
      "text/plain": [
       "{'Name': 'Monika', 'ID': 12345, 'DOB': 2003}"
      ]
     },
     "execution_count": 37,
     "metadata": {},
     "output_type": "execute_result"
    }
   ],
   "source": [
    "mydict1"
   ]
  },
  {
   "cell_type": "code",
   "execution_count": 38,
   "id": "e9f1817c-e5a4-4dc2-b39e-6cdd9830bd23",
   "metadata": {},
   "outputs": [
    {
     "data": {
      "text/plain": [
       "{'Name': 'Monika', 'DOB': 2003}"
      ]
     },
     "execution_count": 38,
     "metadata": {},
     "output_type": "execute_result"
    }
   ],
   "source": [
    "del[mydict1['ID']] #removing items using del() function.\n",
    "mydict1"
   ]
  },
  {
   "cell_type": "code",
   "execution_count": 39,
   "id": "2af0769d-0293-49cd-a1ce-af99ce7449ba",
   "metadata": {},
   "outputs": [
    {
     "data": {
      "text/plain": [
       "{}"
      ]
     },
     "execution_count": 39,
     "metadata": {},
     "output_type": "execute_result"
    }
   ],
   "source": [
    "mydict1.clear()\n",
    "mydict1"
   ]
  },
  {
   "cell_type": "code",
   "execution_count": 40,
   "id": "87eaf871-f07d-4ed7-ad97-1f618854042b",
   "metadata": {},
   "outputs": [
    {
     "ename": "NameError",
     "evalue": "name 'mydict1' is not defined",
     "output_type": "error",
     "traceback": [
      "\u001b[1;31m---------------------------------------------------------------------------\u001b[0m",
      "\u001b[1;31mNameError\u001b[0m                                 Traceback (most recent call last)",
      "Cell \u001b[1;32mIn[40], line 2\u001b[0m\n\u001b[0;32m      1\u001b[0m \u001b[38;5;28;01mdel\u001b[39;00m mydict1 \u001b[38;5;66;03m# Deleting the dictionary.\u001b[39;00m\n\u001b[1;32m----> 2\u001b[0m mydict1\n",
      "\u001b[1;31mNameError\u001b[0m: name 'mydict1' is not defined"
     ]
    }
   ],
   "source": [
    "del mydict1 # Deleting the dictionary.\n",
    "mydict1"
   ]
  },
  {
   "cell_type": "markdown",
   "id": "175b9783-940a-4ebc-afef-39d3067e14ae",
   "metadata": {},
   "source": [
    "Copy Dictionary"
   ]
  },
  {
   "cell_type": "code",
   "execution_count": 41,
   "id": "7c50e734-4fed-44f7-a77d-c7feed299e6f",
   "metadata": {},
   "outputs": [
    {
     "data": {
      "text/plain": [
       "{1: 'one', 2: 'two', 3: 'three'}"
      ]
     },
     "execution_count": 41,
     "metadata": {},
     "output_type": "execute_result"
    }
   ],
   "source": [
    "mydict"
   ]
  },
  {
   "cell_type": "code",
   "execution_count": 43,
   "id": "f3df404f-5787-449a-9f0e-4dcea91af84c",
   "metadata": {},
   "outputs": [],
   "source": [
    "mydict2 = mydict # this is not copying we are just creating a reference."
   ]
  },
  {
   "cell_type": "code",
   "execution_count": 44,
   "id": "f86500d8-ad19-4736-9ffb-5132cda4c3e2",
   "metadata": {},
   "outputs": [
    {
     "data": {
      "text/plain": [
       "(2497110566720, 2497110566720)"
      ]
     },
     "execution_count": 44,
     "metadata": {},
     "output_type": "execute_result"
    }
   ],
   "source": [
    "id(mydict), id(mydict2) # the address of both mydict & mydict2 will be the same."
   ]
  },
  {
   "cell_type": "code",
   "execution_count": 45,
   "id": "7031294c-ae33-486f-824e-31319ccf1283",
   "metadata": {},
   "outputs": [],
   "source": [
    "mydict3 = mydict.copy() #  Creating the copy of the dictionary using copy() funtion."
   ]
  },
  {
   "cell_type": "code",
   "execution_count": 47,
   "id": "020a6cc9-f5af-4034-ba51-e7048bbb3d01",
   "metadata": {},
   "outputs": [
    {
     "data": {
      "text/plain": [
       "2497111485568"
      ]
     },
     "execution_count": 47,
     "metadata": {},
     "output_type": "execute_result"
    }
   ],
   "source": [
    "id(mydict3) # will be different from mydict because we are copying the items from mydict to another dict named mydict3 in another place of memory."
   ]
  },
  {
   "cell_type": "code",
   "execution_count": 48,
   "id": "0271655a-4f92-46d5-a1b4-a5ee3b74343e",
   "metadata": {},
   "outputs": [
    {
     "data": {
      "text/plain": [
       "{1: 'one', 2: 'two', 3: 'three', '2': 'TWO'}"
      ]
     },
     "execution_count": 48,
     "metadata": {},
     "output_type": "execute_result"
    }
   ],
   "source": [
    "mydict['2'] ='TWO'\n",
    "mydict"
   ]
  },
  {
   "cell_type": "code",
   "execution_count": 49,
   "id": "e268c116-2c70-40b2-8d92-ce23aed3e9a2",
   "metadata": {},
   "outputs": [
    {
     "data": {
      "text/plain": [
       "{1: 'one', 2: 'two', 3: 'three', '2': 'TWO'}"
      ]
     },
     "execution_count": 49,
     "metadata": {},
     "output_type": "execute_result"
    }
   ],
   "source": [
    "mydict2 # will also be impacted because we did'nt copy but we created a reference. "
   ]
  },
  {
   "cell_type": "code",
   "execution_count": 50,
   "id": "8e45ad4d-70f0-434b-a0dc-f086d82aa432",
   "metadata": {},
   "outputs": [
    {
     "data": {
      "text/plain": [
       "{1: 'one', 2: 'two', 3: 'three'}"
      ]
     },
     "execution_count": 50,
     "metadata": {},
     "output_type": "execute_result"
    }
   ],
   "source": [
    "mydict3 # will not be impacted"
   ]
  },
  {
   "cell_type": "markdown",
   "id": "6daf22d7-33b5-4e16-a7b1-75c5c344e5d8",
   "metadata": {},
   "source": [
    "Looping through a Dictionary"
   ]
  },
  {
   "cell_type": "code",
   "execution_count": 52,
   "id": "f26135ac-2519-49ac-b98b-efd97e1abc7b",
   "metadata": {},
   "outputs": [
    {
     "data": {
      "text/plain": [
       "{'Name': 'Monika', 'ID': 12345, 'DOB': 2003, 'Address': 'India'}"
      ]
     },
     "execution_count": 52,
     "metadata": {},
     "output_type": "execute_result"
    }
   ],
   "source": [
    "mydict1 = {'Name':'Monika' , 'ID': 12345 , 'DOB': 2003 , 'Address' : 'India'} \n",
    "mydict1"
   ]
  },
  {
   "cell_type": "code",
   "execution_count": 53,
   "id": "c43990c5-16b5-434e-bc67-9dd26776d7bd",
   "metadata": {},
   "outputs": [
    {
     "name": "stdout",
     "output_type": "stream",
     "text": [
      "Name : Monika\n",
      "ID : 12345\n",
      "DOB : 2003\n",
      "Address : India\n"
     ]
    }
   ],
   "source": [
    "for i in mydict1:\n",
    "    print(i , ':' , mydict1[i]) # key-value pair"
   ]
  },
  {
   "cell_type": "code",
   "execution_count": 54,
   "id": "878b7bcd-11fd-4b86-b6f8-9bed86909f29",
   "metadata": {},
   "outputs": [
    {
     "name": "stdout",
     "output_type": "stream",
     "text": [
      "Monika\n",
      "12345\n",
      "2003\n",
      "India\n"
     ]
    }
   ],
   "source": [
    "for i in mydict1:\n",
    "    print(mydict1[i]) # Dictionary items"
   ]
  },
  {
   "cell_type": "markdown",
   "id": "b1d7326a-1549-40f6-a022-b22344f49203",
   "metadata": {},
   "source": [
    "Dictionary membership"
   ]
  },
  {
   "cell_type": "code",
   "execution_count": 55,
   "id": "48fb23ee-b3ea-4f2a-8be4-b6b5c54dd978",
   "metadata": {},
   "outputs": [
    {
     "data": {
      "text/plain": [
       "{'Name': 'Monika', 'ID': 12345, 'DOB': 2003, 'Address': 'India'}"
      ]
     },
     "execution_count": 55,
     "metadata": {},
     "output_type": "execute_result"
    }
   ],
   "source": [
    "mydict1"
   ]
  },
  {
   "cell_type": "code",
   "execution_count": 56,
   "id": "c633782c-9bd2-4d52-9c4d-a351c00d3d23",
   "metadata": {},
   "outputs": [
    {
     "data": {
      "text/plain": [
       "True"
      ]
     },
     "execution_count": 56,
     "metadata": {},
     "output_type": "execute_result"
    }
   ],
   "source": [
    "'Name' in mydict1 # Test if a key is in a dictionary or not."
   ]
  },
  {
   "cell_type": "code",
   "execution_count": 57,
   "id": "fbf2cdb2-95f8-4d5f-8dc8-61e57eb51501",
   "metadata": {},
   "outputs": [
    {
     "data": {
      "text/plain": [
       "False"
      ]
     },
     "execution_count": 57,
     "metadata": {},
     "output_type": "execute_result"
    }
   ],
   "source": [
    "'Monika' in mydict1 # membership test can only done on keys."
   ]
  },
  {
   "cell_type": "markdown",
   "id": "ff145378-a60e-4ffe-9e60-4c195d3d22e6",
   "metadata": {},
   "source": [
    "All / Any"
   ]
  },
  {
   "cell_type": "code",
   "execution_count": 58,
   "id": "14f8ff78-f751-4892-8ffb-c7ab7808727f",
   "metadata": {},
   "outputs": [
    {
     "data": {
      "text/plain": [
       "{'Name': 'Monika', 'ID': 12345, 'DOB': 2003, 'Address': 'India'}"
      ]
     },
     "execution_count": 58,
     "metadata": {},
     "output_type": "execute_result"
    }
   ],
   "source": [
    "mydict1"
   ]
  },
  {
   "cell_type": "code",
   "execution_count": 60,
   "id": "dc152b5e-f767-4f15-8026-6f8250dfd060",
   "metadata": {},
   "outputs": [
    {
     "data": {
      "text/plain": [
       "True"
      ]
     },
     "execution_count": 60,
     "metadata": {},
     "output_type": "execute_result"
    }
   ],
   "source": [
    "all(mydict1) # Will return true as none of the values in false (Value 0)"
   ]
  }
 ],
 "metadata": {
  "kernelspec": {
   "display_name": "Python 3 (ipykernel)",
   "language": "python",
   "name": "python3"
  },
  "language_info": {
   "codemirror_mode": {
    "name": "ipython",
    "version": 3
   },
   "file_extension": ".py",
   "mimetype": "text/x-python",
   "name": "python",
   "nbconvert_exporter": "python",
   "pygments_lexer": "ipython3",
   "version": "3.12.7"
  }
 },
 "nbformat": 4,
 "nbformat_minor": 5
}
