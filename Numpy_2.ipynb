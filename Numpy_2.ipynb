{
 "cells": [
  {
   "cell_type": "code",
   "execution_count": 2,
   "id": "2001afa8-0eb2-4c5d-b07a-4ced92677ce7",
   "metadata": {},
   "outputs": [],
   "source": [
    "import numpy as np"
   ]
  },
  {
   "cell_type": "code",
   "execution_count": 3,
   "id": "99d413ec-7487-437e-8414-df76352ac723",
   "metadata": {},
   "outputs": [
    {
     "data": {
      "text/plain": [
       "array([[0, 0, 0, 0, 0, 0, 0, 0, 0, 0],\n",
       "       [0, 0, 0, 0, 0, 0, 0, 0, 0, 0],\n",
       "       [0, 0, 0, 0, 0, 0, 0, 0, 0, 0],\n",
       "       [0, 0, 0, 0, 0, 0, 0, 0, 0, 0],\n",
       "       [0, 0, 0, 0, 0, 0, 0, 0, 0, 0],\n",
       "       [0, 0, 0, 0, 0, 0, 0, 0, 0, 0],\n",
       "       [0, 0, 0, 0, 0, 0, 0, 0, 0, 0],\n",
       "       [0, 0, 0, 0, 0, 0, 0, 0, 0, 0],\n",
       "       [0, 0, 0, 0, 0, 0, 0, 0, 0, 0],\n",
       "       [0, 0, 0, 0, 0, 0, 0, 0, 0, 0]])"
      ]
     },
     "execution_count": 3,
     "metadata": {},
     "output_type": "execute_result"
    }
   ],
   "source": [
    "np.zeros((10,10), dtype=int)"
   ]
  },
  {
   "cell_type": "code",
   "execution_count": 4,
   "id": "dc14d847-2e81-4335-8c1f-201572fc0a76",
   "metadata": {},
   "outputs": [
    {
     "data": {
      "text/plain": [
       "array([1., 1., 1., 1., 1., 1., 1., 1., 1., 1.])"
      ]
     },
     "execution_count": 4,
     "metadata": {},
     "output_type": "execute_result"
    }
   ],
   "source": [
    "np.ones(10)"
   ]
  },
  {
   "cell_type": "code",
   "execution_count": 5,
   "id": "7fe54fc4-58c1-4bef-ab1b-f546e07febe5",
   "metadata": {},
   "outputs": [
    {
     "data": {
      "text/plain": [
       "array([[1, 1, 1, 1, 1, 1, 1, 1, 1, 1],\n",
       "       [1, 1, 1, 1, 1, 1, 1, 1, 1, 1],\n",
       "       [1, 1, 1, 1, 1, 1, 1, 1, 1, 1],\n",
       "       [1, 1, 1, 1, 1, 1, 1, 1, 1, 1],\n",
       "       [1, 1, 1, 1, 1, 1, 1, 1, 1, 1],\n",
       "       [1, 1, 1, 1, 1, 1, 1, 1, 1, 1],\n",
       "       [1, 1, 1, 1, 1, 1, 1, 1, 1, 1],\n",
       "       [1, 1, 1, 1, 1, 1, 1, 1, 1, 1],\n",
       "       [1, 1, 1, 1, 1, 1, 1, 1, 1, 1],\n",
       "       [1, 1, 1, 1, 1, 1, 1, 1, 1, 1]])"
      ]
     },
     "execution_count": 5,
     "metadata": {},
     "output_type": "execute_result"
    }
   ],
   "source": [
    "np.ones((10,10), dtype=int)"
   ]
  },
  {
   "cell_type": "code",
   "execution_count": 6,
   "id": "e945caad-e6c7-41a5-a481-1510d5e84311",
   "metadata": {},
   "outputs": [
    {
     "ename": "AttributeError",
     "evalue": "module 'numpy' has no attribute 'twos'",
     "output_type": "error",
     "traceback": [
      "\u001b[1;31m---------------------------------------------------------------------------\u001b[0m",
      "\u001b[1;31mAttributeError\u001b[0m                            Traceback (most recent call last)",
      "Cell \u001b[1;32mIn[6], line 1\u001b[0m\n\u001b[1;32m----> 1\u001b[0m np\u001b[38;5;241m.\u001b[39mtwos(\u001b[38;5;241m2\u001b[39m)\n",
      "File \u001b[1;32m~\\anaconda3\\Lib\\site-packages\\numpy\\__init__.py:414\u001b[0m, in \u001b[0;36m__getattr__\u001b[1;34m(attr)\u001b[0m\n\u001b[0;32m    411\u001b[0m     \u001b[38;5;28;01mimport\u001b[39;00m\u001b[38;5;250m \u001b[39m\u001b[38;5;21;01mnumpy\u001b[39;00m\u001b[38;5;21;01m.\u001b[39;00m\u001b[38;5;21;01mchar\u001b[39;00m\u001b[38;5;250m \u001b[39m\u001b[38;5;28;01mas\u001b[39;00m\u001b[38;5;250m \u001b[39m\u001b[38;5;21;01mchar\u001b[39;00m\n\u001b[0;32m    412\u001b[0m     \u001b[38;5;28;01mreturn\u001b[39;00m char\u001b[38;5;241m.\u001b[39mchararray\n\u001b[1;32m--> 414\u001b[0m \u001b[38;5;28;01mraise\u001b[39;00m \u001b[38;5;167;01mAttributeError\u001b[39;00m(\u001b[38;5;124m\"\u001b[39m\u001b[38;5;124mmodule \u001b[39m\u001b[38;5;132;01m{!r}\u001b[39;00m\u001b[38;5;124m has no attribute \u001b[39m\u001b[38;5;124m\"\u001b[39m\n\u001b[0;32m    415\u001b[0m                      \u001b[38;5;124m\"\u001b[39m\u001b[38;5;132;01m{!r}\u001b[39;00m\u001b[38;5;124m\"\u001b[39m\u001b[38;5;241m.\u001b[39mformat(\u001b[38;5;18m__name__\u001b[39m, attr))\n",
      "\u001b[1;31mAttributeError\u001b[0m: module 'numpy' has no attribute 'twos'"
     ]
    }
   ],
   "source": [
    "np.twos(2)"
   ]
  },
  {
   "cell_type": "code",
   "execution_count": 7,
   "id": "642c35d8-2ccd-45a9-a76c-440bd2314705",
   "metadata": {},
   "outputs": [
    {
     "ename": "AttributeError",
     "evalue": "module 'numpy' has no attribute 'threes'",
     "output_type": "error",
     "traceback": [
      "\u001b[1;31m---------------------------------------------------------------------------\u001b[0m",
      "\u001b[1;31mAttributeError\u001b[0m                            Traceback (most recent call last)",
      "Cell \u001b[1;32mIn[7], line 1\u001b[0m\n\u001b[1;32m----> 1\u001b[0m np\u001b[38;5;241m.\u001b[39mthrees(\u001b[38;5;241m3\u001b[39m)\n",
      "File \u001b[1;32m~\\anaconda3\\Lib\\site-packages\\numpy\\__init__.py:414\u001b[0m, in \u001b[0;36m__getattr__\u001b[1;34m(attr)\u001b[0m\n\u001b[0;32m    411\u001b[0m     \u001b[38;5;28;01mimport\u001b[39;00m\u001b[38;5;250m \u001b[39m\u001b[38;5;21;01mnumpy\u001b[39;00m\u001b[38;5;21;01m.\u001b[39;00m\u001b[38;5;21;01mchar\u001b[39;00m\u001b[38;5;250m \u001b[39m\u001b[38;5;28;01mas\u001b[39;00m\u001b[38;5;250m \u001b[39m\u001b[38;5;21;01mchar\u001b[39;00m\n\u001b[0;32m    412\u001b[0m     \u001b[38;5;28;01mreturn\u001b[39;00m char\u001b[38;5;241m.\u001b[39mchararray\n\u001b[1;32m--> 414\u001b[0m \u001b[38;5;28;01mraise\u001b[39;00m \u001b[38;5;167;01mAttributeError\u001b[39;00m(\u001b[38;5;124m\"\u001b[39m\u001b[38;5;124mmodule \u001b[39m\u001b[38;5;132;01m{!r}\u001b[39;00m\u001b[38;5;124m has no attribute \u001b[39m\u001b[38;5;124m\"\u001b[39m\n\u001b[0;32m    415\u001b[0m                      \u001b[38;5;124m\"\u001b[39m\u001b[38;5;132;01m{!r}\u001b[39;00m\u001b[38;5;124m\"\u001b[39m\u001b[38;5;241m.\u001b[39mformat(\u001b[38;5;18m__name__\u001b[39m, attr))\n",
      "\u001b[1;31mAttributeError\u001b[0m: module 'numpy' has no attribute 'threes'"
     ]
    }
   ],
   "source": [
    "np.threes(3)"
   ]
  },
  {
   "cell_type": "code",
   "execution_count": 8,
   "id": "69ffd7f1-e40d-4535-a642-91cabae4111d",
   "metadata": {},
   "outputs": [
    {
     "ename": "NameError",
     "evalue": "name 'rand' is not defined",
     "output_type": "error",
     "traceback": [
      "\u001b[1;31m---------------------------------------------------------------------------\u001b[0m",
      "\u001b[1;31mNameError\u001b[0m                                 Traceback (most recent call last)",
      "Cell \u001b[1;32mIn[8], line 1\u001b[0m\n\u001b[1;32m----> 1\u001b[0m rand(\u001b[38;5;241m3\u001b[39m,\u001b[38;5;241m2\u001b[39m)\n",
      "\u001b[1;31mNameError\u001b[0m: name 'rand' is not defined"
     ]
    }
   ],
   "source": [
    "rand(3,2)"
   ]
  },
  {
   "cell_type": "code",
   "execution_count": 10,
   "id": "cea10ff7-1aed-4aae-a6c5-4da1047845e6",
   "metadata": {},
   "outputs": [
    {
     "ename": "NameError",
     "evalue": "name 'random' is not defined",
     "output_type": "error",
     "traceback": [
      "\u001b[1;31m---------------------------------------------------------------------------\u001b[0m",
      "\u001b[1;31mNameError\u001b[0m                                 Traceback (most recent call last)",
      "Cell \u001b[1;32mIn[10], line 1\u001b[0m\n\u001b[1;32m----> 1\u001b[0m random\u001b[38;5;241m.\u001b[39mrand(\u001b[38;5;241m3\u001b[39m,\u001b[38;5;241m2\u001b[39m)\n",
      "\u001b[1;31mNameError\u001b[0m: name 'random' is not defined"
     ]
    }
   ],
   "source": [
    "random.rand(3,2)"
   ]
  },
  {
   "cell_type": "code",
   "execution_count": 12,
   "id": "a6c627b0-6995-4ca4-b743-90263da80c32",
   "metadata": {},
   "outputs": [
    {
     "ename": "TypeError",
     "evalue": "rand() got an unexpected keyword argument 'dtype'",
     "output_type": "error",
     "traceback": [
      "\u001b[1;31m---------------------------------------------------------------------------\u001b[0m",
      "\u001b[1;31mTypeError\u001b[0m                                 Traceback (most recent call last)",
      "Cell \u001b[1;32mIn[12], line 1\u001b[0m\n\u001b[1;32m----> 1\u001b[0m np\u001b[38;5;241m.\u001b[39mrandom\u001b[38;5;241m.\u001b[39mrand((\u001b[38;5;241m3\u001b[39m,\u001b[38;5;241m2\u001b[39m), dtype\u001b[38;5;241m=\u001b[39m\u001b[38;5;28mint\u001b[39m)\n",
      "\u001b[1;31mTypeError\u001b[0m: rand() got an unexpected keyword argument 'dtype'"
     ]
    }
   ],
   "source": [
    "np.random.rand((3,2), dtype=int)"
   ]
  },
  {
   "cell_type": "code",
   "execution_count": 14,
   "id": "411b80df-2caa-4b95-8c48-933a93688e49",
   "metadata": {},
   "outputs": [
    {
     "data": {
      "text/plain": [
       "array([0.58043619, 0.15809745, 0.75586592, 0.78398977, 0.73829303])"
      ]
     },
     "execution_count": 14,
     "metadata": {},
     "output_type": "execute_result"
    }
   ],
   "source": [
    "np.random.rand(5)"
   ]
  },
  {
   "cell_type": "code",
   "execution_count": 15,
   "id": "e66293b7-4c90-4520-aa2c-284f42fafa2a",
   "metadata": {},
   "outputs": [
    {
     "data": {
      "text/plain": [
       "array([[0.19717115, 0.64302519, 0.46142508, 0.45245638, 0.41862856,\n",
       "        0.9941185 ],\n",
       "       [0.08166194, 0.53418802, 0.18242279, 0.33637701, 0.16976037,\n",
       "        0.74409692],\n",
       "       [0.17716686, 0.1629589 , 0.08895944, 0.64623025, 0.51457109,\n",
       "        0.41960091]])"
      ]
     },
     "execution_count": 15,
     "metadata": {},
     "output_type": "execute_result"
    }
   ],
   "source": [
    "np.random.rand(3,6)"
   ]
  },
  {
   "cell_type": "code",
   "execution_count": 20,
   "id": "90daaf75-3a05-430c-a194-20435e54b5f4",
   "metadata": {},
   "outputs": [
    {
     "data": {
      "text/plain": [
       "3"
      ]
     },
     "execution_count": 20,
     "metadata": {},
     "output_type": "execute_result"
    }
   ],
   "source": [
    "np.random.randint(1,6)"
   ]
  },
  {
   "cell_type": "code",
   "execution_count": 23,
   "id": "5fb33951-84da-4ce0-8c29-6289c78bba54",
   "metadata": {},
   "outputs": [
    {
     "data": {
      "text/plain": [
       "array([543433], dtype=int32)"
      ]
     },
     "execution_count": 23,
     "metadata": {},
     "output_type": "execute_result"
    }
   ],
   "source": [
    "np.random.randint(000000,999999,1) # for 6 digit otp"
   ]
  },
  {
   "cell_type": "code",
   "execution_count": 25,
   "id": "4723a657-cb4e-4d32-af81-246419fd077d",
   "metadata": {},
   "outputs": [
    {
     "data": {
      "text/plain": [
       "array([[22, 32, 21, 21, 38, 20, 25, 15, 10, 39],\n",
       "       [31, 20, 17, 24, 28, 27, 21, 14, 35, 14],\n",
       "       [24, 23, 23, 24, 26, 22, 37, 25, 22, 14],\n",
       "       [28, 20, 14, 33, 13, 21, 21, 15, 32, 15],\n",
       "       [21, 15, 19, 37, 19, 17, 39, 23, 35, 14],\n",
       "       [39, 28, 21, 39, 11, 15, 30, 22, 37, 34],\n",
       "       [12, 21, 27, 25, 20, 28, 32, 16, 14, 27],\n",
       "       [36, 25, 34, 12, 18, 17, 10, 29, 25, 37],\n",
       "       [31, 35, 17, 16, 16, 23, 39, 30, 11, 23],\n",
       "       [24, 21, 11, 33, 12, 36, 23, 12, 33, 13]], dtype=int32)"
      ]
     },
     "execution_count": 25,
     "metadata": {},
     "output_type": "execute_result"
    }
   ],
   "source": [
    "np.random.randint(10,40,(10,10)) #4*4 matrix"
   ]
  },
  {
   "cell_type": "code",
   "execution_count": 26,
   "id": "31086bd3-6961-4f40-9574-8f533bc219d7",
   "metadata": {},
   "outputs": [
    {
     "data": {
      "text/plain": [
       "array([[37, 22, 29, 26, 37, 37, 31, 37, 24, 25, 13, 18, 34, 17, 15, 16,\n",
       "        30, 32, 36, 35, 26, 32, 20, 33, 26, 37, 37, 33, 15, 32, 39, 13,\n",
       "        37, 22, 34, 18, 16, 15, 22, 20],\n",
       "       [23, 37, 14, 35, 22, 28, 19, 10, 24, 16, 24, 25, 30, 33, 17, 34,\n",
       "        35, 22, 24, 20, 20, 25, 31, 21, 23, 34, 37, 18, 15, 22, 37, 36,\n",
       "        11, 10, 24, 29, 23, 31, 34, 24],\n",
       "       [13, 32, 21, 14, 20, 23, 22, 16, 15, 14, 12, 15, 16, 25, 22, 14,\n",
       "        31, 39, 27, 18, 22, 11, 23, 37, 32, 11, 19, 21, 19, 38, 31, 21,\n",
       "        37, 24, 32, 28, 36, 20, 30, 39],\n",
       "       [20, 33, 38, 18, 20, 14, 22, 24, 36, 32, 38, 20, 17, 37, 18, 23,\n",
       "        16, 34, 29, 15, 29, 32, 38, 22, 24, 17, 19, 16, 27, 13, 27, 29,\n",
       "        15, 32, 15, 30, 20, 30, 35, 13],\n",
       "       [13, 12, 19, 25, 14, 17, 37, 31, 17, 17, 17, 25, 14, 18, 14, 17,\n",
       "        33, 22, 38, 38, 19, 29, 35, 26, 29, 33, 17, 19, 34, 27, 34, 25,\n",
       "        17, 17, 18, 37, 32, 17, 16, 20],\n",
       "       [17, 18, 15, 16, 12, 19, 16, 18, 28, 30, 33, 15, 20, 20, 33, 39,\n",
       "        31, 31, 39, 26, 14, 28, 14, 19, 30, 39, 24, 19, 38, 23, 37, 22,\n",
       "        25, 19, 20, 25, 29, 23, 23, 30],\n",
       "       [21, 21, 23, 22, 18, 20, 35, 17, 39, 38, 30, 23, 17, 23, 14, 39,\n",
       "        36, 23, 21, 16, 32, 29, 38, 29, 22, 24, 36, 23, 35, 10, 12, 19,\n",
       "        25, 12, 24, 16, 21, 34, 20, 38],\n",
       "       [14, 36, 38, 11, 11, 37, 28, 27, 14, 32, 24, 36, 38, 26, 31, 11,\n",
       "        32, 26, 37, 37, 29, 17, 31, 19, 35, 10, 15, 34, 14, 17, 24, 18,\n",
       "        34, 12, 12, 29, 22, 15, 21, 18],\n",
       "       [32, 36, 25, 12, 23, 21, 28, 34, 17, 11, 11, 16, 37, 23, 20, 23,\n",
       "        34, 19, 28, 39, 28, 36, 17, 14, 35, 11, 12, 20, 11, 14, 21, 12,\n",
       "        32, 31, 39, 15, 33, 30, 29, 25],\n",
       "       [17, 23, 17, 35, 29, 21, 19, 11, 14, 29, 20, 14, 26, 32, 35, 15,\n",
       "        13, 29, 14, 26, 39, 15, 22, 39, 39, 38, 22, 10, 33, 29, 10, 17,\n",
       "        18, 38, 24, 21, 17, 25, 11, 36]], dtype=int32)"
      ]
     },
     "execution_count": 26,
     "metadata": {},
     "output_type": "execute_result"
    }
   ],
   "source": [
    "np.random.randint(10,40,(10,40))"
   ]
  },
  {
   "cell_type": "code",
   "execution_count": 27,
   "id": "4d801c0d-2982-40b4-963f-968f0b69a3a5",
   "metadata": {},
   "outputs": [
    {
     "data": {
      "text/plain": [
       "array([ 1,  2,  3,  4,  5,  6,  7,  8,  9, 10, 11, 12])"
      ]
     },
     "execution_count": 27,
     "metadata": {},
     "output_type": "execute_result"
    }
   ],
   "source": [
    "np.arange(1,13)"
   ]
  },
  {
   "cell_type": "code",
   "execution_count": 32,
   "id": "6a050d77-5502-4a23-848e-4a40450345d5",
   "metadata": {},
   "outputs": [
    {
     "data": {
      "text/plain": [
       "array([[ 1,  2,  3,  4],\n",
       "       [ 5,  6,  7,  8],\n",
       "       [ 9, 10, 11, 12]])"
      ]
     },
     "execution_count": 32,
     "metadata": {},
     "output_type": "execute_result"
    }
   ],
   "source": [
    "np.arange(1,13).reshape(3,4)"
   ]
  },
  {
   "cell_type": "code",
   "execution_count": 33,
   "id": "a096ac30-611f-4033-b8c6-358ba83ea3b9",
   "metadata": {},
   "outputs": [
    {
     "data": {
      "text/plain": [
       "array([[ 1,  2,  3],\n",
       "       [ 4,  5,  6],\n",
       "       [ 7,  8,  9],\n",
       "       [10, 11, 12]])"
      ]
     },
     "execution_count": 33,
     "metadata": {},
     "output_type": "execute_result"
    }
   ],
   "source": [
    "np.arange(1,13).reshape(4,3)"
   ]
  },
  {
   "cell_type": "code",
   "execution_count": 35,
   "id": "de4fde29-9f1e-401d-883b-5298c56abb4d",
   "metadata": {},
   "outputs": [
    {
     "ename": "ValueError",
     "evalue": "cannot reshape array of size 12 into shape (5,4)",
     "output_type": "error",
     "traceback": [
      "\u001b[1;31m---------------------------------------------------------------------------\u001b[0m",
      "\u001b[1;31mValueError\u001b[0m                                Traceback (most recent call last)",
      "Cell \u001b[1;32mIn[35], line 1\u001b[0m\n\u001b[1;32m----> 1\u001b[0m np\u001b[38;5;241m.\u001b[39marange(\u001b[38;5;241m1\u001b[39m,\u001b[38;5;241m13\u001b[39m)\u001b[38;5;241m.\u001b[39mreshape(\u001b[38;5;241m5\u001b[39m,\u001b[38;5;241m4\u001b[39m)\n",
      "\u001b[1;31mValueError\u001b[0m: cannot reshape array of size 12 into shape (5,4)"
     ]
    }
   ],
   "source": [
    "np.arange(1,13).reshape(5,4) # from 1-13 it is a list of 12 numbers which cannot fit into a matrix of 20 numbers."
   ]
  },
  {
   "cell_type": "markdown",
   "id": "11b96c9a-4919-4502-8355-79255302f914",
   "metadata": {},
   "source": [
    "SLICING IN MATRIX"
   ]
  },
  {
   "cell_type": "code",
   "execution_count": 37,
   "id": "5add8eb5-c5ca-400e-abaf-c2580768105c",
   "metadata": {},
   "outputs": [
    {
     "data": {
      "text/plain": [
       "array([[10, 15, 11, 10],\n",
       "       [16, 17, 15, 17],\n",
       "       [12, 13, 13, 19],\n",
       "       [17, 11, 13, 19],\n",
       "       [18, 17, 17, 11]], dtype=int32)"
      ]
     },
     "execution_count": 37,
     "metadata": {},
     "output_type": "execute_result"
    }
   ],
   "source": [
    "b = np.random.randint(10,20, (5,4))\n",
    "b"
   ]
  },
  {
   "cell_type": "code",
   "execution_count": 38,
   "id": "474a868b-a059-4fef-a93a-ba0b8f12f19f",
   "metadata": {},
   "outputs": [
    {
     "data": {
      "text/plain": [
       "numpy.ndarray"
      ]
     },
     "execution_count": 38,
     "metadata": {},
     "output_type": "execute_result"
    }
   ],
   "source": [
    "type(b)"
   ]
  },
  {
   "cell_type": "code",
   "execution_count": 39,
   "id": "35bdf725-55ca-407e-889a-7625f7e276b1",
   "metadata": {},
   "outputs": [
    {
     "data": {
      "text/plain": [
       "array([[10, 15, 11, 10],\n",
       "       [16, 17, 15, 17],\n",
       "       [12, 13, 13, 19],\n",
       "       [17, 11, 13, 19],\n",
       "       [18, 17, 17, 11]], dtype=int32)"
      ]
     },
     "execution_count": 39,
     "metadata": {},
     "output_type": "execute_result"
    }
   ],
   "source": [
    "b"
   ]
  },
  {
   "cell_type": "code",
   "execution_count": 40,
   "id": "3c994816-b604-4c82-8407-3789641948b7",
   "metadata": {},
   "outputs": [
    {
     "data": {
      "text/plain": [
       "array([[10, 15, 11, 10],\n",
       "       [16, 17, 15, 17],\n",
       "       [12, 13, 13, 19],\n",
       "       [17, 11, 13, 19],\n",
       "       [18, 17, 17, 11]], dtype=int32)"
      ]
     },
     "execution_count": 40,
     "metadata": {},
     "output_type": "execute_result"
    }
   ],
   "source": [
    "b[:]"
   ]
  },
  {
   "cell_type": "code",
   "execution_count": 41,
   "id": "654512d0-408b-4992-ad9d-b46329202877",
   "metadata": {},
   "outputs": [
    {
     "data": {
      "text/plain": [
       "array([[16, 17, 15, 17],\n",
       "       [12, 13, 13, 19]], dtype=int32)"
      ]
     },
     "execution_count": 41,
     "metadata": {},
     "output_type": "execute_result"
    }
   ],
   "source": [
    "b[1:3]"
   ]
  },
  {
   "cell_type": "code",
   "execution_count": 42,
   "id": "f7d14618-a38d-4a10-89a5-3fbd06151f2c",
   "metadata": {},
   "outputs": [
    {
     "data": {
      "text/plain": [
       "array([[10, 15, 11, 10],\n",
       "       [16, 17, 15, 17],\n",
       "       [12, 13, 13, 19],\n",
       "       [17, 11, 13, 19],\n",
       "       [18, 17, 17, 11]], dtype=int32)"
      ]
     },
     "execution_count": 42,
     "metadata": {},
     "output_type": "execute_result"
    }
   ],
   "source": [
    "b"
   ]
  },
  {
   "cell_type": "code",
   "execution_count": 43,
   "id": "44eefdc4-aa21-4e19-97ec-9a60e8924fbf",
   "metadata": {},
   "outputs": [
    {
     "data": {
      "text/plain": [
       "np.int32(15)"
      ]
     },
     "execution_count": 43,
     "metadata": {},
     "output_type": "execute_result"
    }
   ],
   "source": [
    "b[1,2]"
   ]
  },
  {
   "cell_type": "code",
   "execution_count": 44,
   "id": "78a41abe-4240-4dd7-a1dd-38c6c8f2874d",
   "metadata": {},
   "outputs": [
    {
     "data": {
      "text/plain": [
       "np.int32(17)"
      ]
     },
     "execution_count": 44,
     "metadata": {},
     "output_type": "execute_result"
    }
   ],
   "source": [
    "b[1,3]"
   ]
  },
  {
   "cell_type": "code",
   "execution_count": 45,
   "id": "dde43f7f-8e21-40ba-9554-b4ca66038907",
   "metadata": {},
   "outputs": [
    {
     "data": {
      "text/plain": [
       "np.int32(17)"
      ]
     },
     "execution_count": 45,
     "metadata": {},
     "output_type": "execute_result"
    }
   ],
   "source": [
    "b[1,-1]"
   ]
  },
  {
   "cell_type": "code",
   "execution_count": 46,
   "id": "f3d9ba8d-3211-4b69-a542-a83b1568f910",
   "metadata": {},
   "outputs": [
    {
     "data": {
      "text/plain": [
       "array([[12, 13, 13, 19]], dtype=int32)"
      ]
     },
     "execution_count": 46,
     "metadata": {},
     "output_type": "execute_result"
    }
   ],
   "source": [
    "b[2:3]"
   ]
  },
  {
   "cell_type": "code",
   "execution_count": 47,
   "id": "26a58d2a-64c0-4770-b351-48e6fbd82101",
   "metadata": {},
   "outputs": [
    {
     "data": {
      "text/plain": [
       "array([[10, 15, 11, 10],\n",
       "       [16, 17, 15, 17],\n",
       "       [12, 13, 13, 19]], dtype=int32)"
      ]
     },
     "execution_count": 47,
     "metadata": {},
     "output_type": "execute_result"
    }
   ],
   "source": [
    "b[0:-2]"
   ]
  },
  {
   "cell_type": "markdown",
   "id": "9808e1f3-76c7-45c9-bed3-294193191192",
   "metadata": {},
   "source": [
    "NUMPY OPERATIONS"
   ]
  },
  {
   "cell_type": "code",
   "execution_count": 52,
   "id": "fe16b79c-a55f-4c7e-ac66-4af3475f7e03",
   "metadata": {},
   "outputs": [],
   "source": [
    "arr = np.random.randint(10,20,10)"
   ]
  },
  {
   "cell_type": "code",
   "execution_count": 53,
   "id": "d4768163-e950-4e52-bb19-9dbc2f3e071c",
   "metadata": {},
   "outputs": [
    {
     "data": {
      "text/plain": [
       "array([11, 12, 18, 13, 15, 18, 11, 18, 10, 14], dtype=int32)"
      ]
     },
     "execution_count": 53,
     "metadata": {},
     "output_type": "execute_result"
    }
   ],
   "source": [
    "arr"
   ]
  },
  {
   "cell_type": "code",
   "execution_count": 55,
   "id": "f14122c1-ca73-4b93-99fb-0c4c4d464784",
   "metadata": {},
   "outputs": [],
   "source": [
    "arr2 = np.random.randint(1,100,(10,10))"
   ]
  },
  {
   "cell_type": "code",
   "execution_count": 56,
   "id": "aec136d9-f4ea-4b48-be50-99969c0b854d",
   "metadata": {},
   "outputs": [
    {
     "data": {
      "text/plain": [
       "array([[11, 33, 52, 99, 34, 86, 53,  8,  7, 99],\n",
       "       [90, 98, 31, 85, 58, 23, 12, 53, 76, 35],\n",
       "       [97, 27, 23, 23, 68, 40, 11, 48,  8, 91],\n",
       "       [71,  1, 58,  8, 69, 32, 13, 95, 65,  4],\n",
       "       [91, 67, 63, 53, 40, 46, 14,  6,  6, 13],\n",
       "       [29,  5, 42, 54, 54, 44, 78, 18, 20, 33],\n",
       "       [68, 86, 33, 73,  7, 85, 39, 55, 42, 98],\n",
       "       [73, 15, 98, 35,  3, 93, 13, 73, 65, 11],\n",
       "       [40, 52,  2, 59, 68, 39, 45, 30, 66, 44],\n",
       "       [ 8, 72, 17, 79,  3, 48, 78, 62,  5, 22]], dtype=int32)"
      ]
     },
     "execution_count": 56,
     "metadata": {},
     "output_type": "execute_result"
    }
   ],
   "source": [
    "arr2"
   ]
  },
  {
   "cell_type": "code",
   "execution_count": 57,
   "id": "e4648c2f-1259-44c0-b80a-794a01bdfddc",
   "metadata": {},
   "outputs": [
    {
     "data": {
      "text/plain": [
       "array([11, 12, 18, 13], dtype=int32)"
      ]
     },
     "execution_count": 57,
     "metadata": {},
     "output_type": "execute_result"
    }
   ],
   "source": [
    "arr[:4]"
   ]
  },
  {
   "cell_type": "code",
   "execution_count": 58,
   "id": "769caf60-815c-41c5-a5f6-65402b98a060",
   "metadata": {},
   "outputs": [
    {
     "data": {
      "text/plain": [
       "array([[11, 33, 52, 99, 34, 86, 53,  8,  7, 99],\n",
       "       [90, 98, 31, 85, 58, 23, 12, 53, 76, 35],\n",
       "       [97, 27, 23, 23, 68, 40, 11, 48,  8, 91],\n",
       "       [71,  1, 58,  8, 69, 32, 13, 95, 65,  4]], dtype=int32)"
      ]
     },
     "execution_count": 58,
     "metadata": {},
     "output_type": "execute_result"
    }
   ],
   "source": [
    "arr2[:4]"
   ]
  },
  {
   "cell_type": "code",
   "execution_count": 59,
   "id": "b40bb8cf-0c98-4c98-82ec-88618ccf2c43",
   "metadata": {},
   "outputs": [
    {
     "data": {
      "text/plain": [
       "array([[ 8, 72, 17, 79,  3, 48, 78, 62,  5, 22],\n",
       "       [29,  5, 42, 54, 54, 44, 78, 18, 20, 33],\n",
       "       [90, 98, 31, 85, 58, 23, 12, 53, 76, 35]], dtype=int32)"
      ]
     },
     "execution_count": 59,
     "metadata": {},
     "output_type": "execute_result"
    }
   ],
   "source": [
    "arr2[::-4]"
   ]
  },
  {
   "cell_type": "code",
   "execution_count": 60,
   "id": "f1b0fffe-8bda-4b6f-9334-20eae1f746bd",
   "metadata": {},
   "outputs": [
    {
     "data": {
      "text/plain": [
       "array([[ 8, 72, 17, 79,  3, 48, 78, 62,  5, 22],\n",
       "       [40, 52,  2, 59, 68, 39, 45, 30, 66, 44],\n",
       "       [73, 15, 98, 35,  3, 93, 13, 73, 65, 11],\n",
       "       [68, 86, 33, 73,  7, 85, 39, 55, 42, 98],\n",
       "       [29,  5, 42, 54, 54, 44, 78, 18, 20, 33],\n",
       "       [91, 67, 63, 53, 40, 46, 14,  6,  6, 13],\n",
       "       [71,  1, 58,  8, 69, 32, 13, 95, 65,  4],\n",
       "       [97, 27, 23, 23, 68, 40, 11, 48,  8, 91],\n",
       "       [90, 98, 31, 85, 58, 23, 12, 53, 76, 35],\n",
       "       [11, 33, 52, 99, 34, 86, 53,  8,  7, 99]], dtype=int32)"
      ]
     },
     "execution_count": 60,
     "metadata": {},
     "output_type": "execute_result"
    }
   ],
   "source": [
    "arr2[::-1]"
   ]
  },
  {
   "cell_type": "code",
   "execution_count": 61,
   "id": "5e84d731-8ec6-4325-8487-c97e8801ad8e",
   "metadata": {},
   "outputs": [
    {
     "data": {
      "text/plain": [
       "array([[ 8, 72, 17, 79,  3, 48, 78, 62,  5, 22],\n",
       "       [73, 15, 98, 35,  3, 93, 13, 73, 65, 11],\n",
       "       [29,  5, 42, 54, 54, 44, 78, 18, 20, 33],\n",
       "       [71,  1, 58,  8, 69, 32, 13, 95, 65,  4],\n",
       "       [90, 98, 31, 85, 58, 23, 12, 53, 76, 35]], dtype=int32)"
      ]
     },
     "execution_count": 61,
     "metadata": {},
     "output_type": "execute_result"
    }
   ],
   "source": [
    "arr2[::-2]"
   ]
  },
  {
   "cell_type": "code",
   "execution_count": 62,
   "id": "96243bbe-fd11-43bd-8ff6-c7cb0231b7cb",
   "metadata": {},
   "outputs": [
    {
     "data": {
      "text/plain": [
       "array([[ 8, 72, 17, 79,  3, 48, 78, 62,  5, 22],\n",
       "       [68, 86, 33, 73,  7, 85, 39, 55, 42, 98],\n",
       "       [71,  1, 58,  8, 69, 32, 13, 95, 65,  4],\n",
       "       [11, 33, 52, 99, 34, 86, 53,  8,  7, 99]], dtype=int32)"
      ]
     },
     "execution_count": 62,
     "metadata": {},
     "output_type": "execute_result"
    }
   ],
   "source": [
    "arr2[::-3]"
   ]
  },
  {
   "cell_type": "code",
   "execution_count": 63,
   "id": "455d241b-5c43-4676-b6f8-095e4b563e52",
   "metadata": {},
   "outputs": [
    {
     "data": {
      "text/plain": [
       "array([[90, 98, 31, 85, 58, 23, 12, 53, 76, 35],\n",
       "       [91, 67, 63, 53, 40, 46, 14,  6,  6, 13],\n",
       "       [73, 15, 98, 35,  3, 93, 13, 73, 65, 11]], dtype=int32)"
      ]
     },
     "execution_count": 63,
     "metadata": {},
     "output_type": "execute_result"
    }
   ],
   "source": [
    "arr2[1:10:3]"
   ]
  },
  {
   "cell_type": "code",
   "execution_count": 64,
   "id": "2f8824c5-94f1-40c6-9b7f-3ce1e2f368ed",
   "metadata": {},
   "outputs": [
    {
     "data": {
      "text/plain": [
       "array([[11, 33, 52, 99, 34, 86, 53,  8,  7, 99],\n",
       "       [90, 98, 31, 85, 58, 23, 12, 53, 76, 35],\n",
       "       [97, 27, 23, 23, 68, 40, 11, 48,  8, 91],\n",
       "       [71,  1, 58,  8, 69, 32, 13, 95, 65,  4],\n",
       "       [91, 67, 63, 53, 40, 46, 14,  6,  6, 13],\n",
       "       [29,  5, 42, 54, 54, 44, 78, 18, 20, 33],\n",
       "       [68, 86, 33, 73,  7, 85, 39, 55, 42, 98],\n",
       "       [73, 15, 98, 35,  3, 93, 13, 73, 65, 11],\n",
       "       [40, 52,  2, 59, 68, 39, 45, 30, 66, 44],\n",
       "       [ 8, 72, 17, 79,  3, 48, 78, 62,  5, 22]], dtype=int32)"
      ]
     },
     "execution_count": 64,
     "metadata": {},
     "output_type": "execute_result"
    }
   ],
   "source": [
    "arr2"
   ]
  },
  {
   "cell_type": "code",
   "execution_count": 65,
   "id": "5bade590-884d-45f8-9c17-fa8e0cba1d88",
   "metadata": {},
   "outputs": [
    {
     "data": {
      "text/plain": [
       "array([[11, 33, 52, 99, 34, 86, 53,  8,  7, 99],\n",
       "       [71,  1, 58,  8, 69, 32, 13, 95, 65,  4],\n",
       "       [68, 86, 33, 73,  7, 85, 39, 55, 42, 98],\n",
       "       [ 8, 72, 17, 79,  3, 48, 78, 62,  5, 22]], dtype=int32)"
      ]
     },
     "execution_count": 65,
     "metadata": {},
     "output_type": "execute_result"
    }
   ],
   "source": [
    "arr2[0:10:3]"
   ]
  },
  {
   "cell_type": "code",
   "execution_count": 66,
   "id": "f7b033f2-7326-422e-9a45-36b23af4fe4c",
   "metadata": {},
   "outputs": [
    {
     "data": {
      "text/plain": [
       "array([11, 12, 18, 13, 15, 18, 11, 18, 10, 14], dtype=int32)"
      ]
     },
     "execution_count": 66,
     "metadata": {},
     "output_type": "execute_result"
    }
   ],
   "source": [
    "arr"
   ]
  },
  {
   "cell_type": "code",
   "execution_count": 67,
   "id": "a1fdbfc2-7d28-4029-898c-381a28b62802",
   "metadata": {},
   "outputs": [
    {
     "data": {
      "text/plain": [
       "np.int32(18)"
      ]
     },
     "execution_count": 67,
     "metadata": {},
     "output_type": "execute_result"
    }
   ],
   "source": [
    "arr.max()"
   ]
  },
  {
   "cell_type": "code",
   "execution_count": 68,
   "id": "12a34ec3-cca8-493a-bb10-867c57d253e9",
   "metadata": {},
   "outputs": [
    {
     "data": {
      "text/plain": [
       "np.int32(10)"
      ]
     },
     "execution_count": 68,
     "metadata": {},
     "output_type": "execute_result"
    }
   ],
   "source": [
    "arr.min()"
   ]
  },
  {
   "cell_type": "code",
   "execution_count": 69,
   "id": "7e607a0e-1c0c-4a8e-8704-241d3dd4f054",
   "metadata": {},
   "outputs": [
    {
     "data": {
      "text/plain": [
       "np.float64(14.0)"
      ]
     },
     "execution_count": 69,
     "metadata": {},
     "output_type": "execute_result"
    }
   ],
   "source": [
    "arr.mean()"
   ]
  },
  {
   "cell_type": "code",
   "execution_count": 70,
   "id": "d07bbd4f-951c-40a0-a25d-a228a49073c7",
   "metadata": {},
   "outputs": [
    {
     "ename": "AttributeError",
     "evalue": "'numpy.ndarray' object has no attribute 'median'",
     "output_type": "error",
     "traceback": [
      "\u001b[1;31m---------------------------------------------------------------------------\u001b[0m",
      "\u001b[1;31mAttributeError\u001b[0m                            Traceback (most recent call last)",
      "Cell \u001b[1;32mIn[70], line 1\u001b[0m\n\u001b[1;32m----> 1\u001b[0m arr\u001b[38;5;241m.\u001b[39mmedian()\n",
      "\u001b[1;31mAttributeError\u001b[0m: 'numpy.ndarray' object has no attribute 'median'"
     ]
    }
   ],
   "source": [
    "arr.median()"
   ]
  },
  {
   "cell_type": "code",
   "execution_count": 71,
   "id": "da1e2d3b-8c2a-48a1-9cce-fe55af05e9d3",
   "metadata": {},
   "outputs": [],
   "source": [
    "from numpy import *"
   ]
  },
  {
   "cell_type": "code",
   "execution_count": 72,
   "id": "1caa6e39-8c00-4a5d-8bf0-dd85172f15a4",
   "metadata": {},
   "outputs": [],
   "source": [
    "a = arr"
   ]
  },
  {
   "cell_type": "code",
   "execution_count": 73,
   "id": "31685de5-dd5b-4b1d-810e-efe80dabbadf",
   "metadata": {},
   "outputs": [
    {
     "data": {
      "text/plain": [
       "array([11, 12, 18, 13, 15, 18, 11, 18, 10, 14], dtype=int32)"
      ]
     },
     "execution_count": 73,
     "metadata": {},
     "output_type": "execute_result"
    }
   ],
   "source": [
    "a"
   ]
  },
  {
   "cell_type": "code",
   "execution_count": 74,
   "id": "bd824ab7-febc-4364-b22c-035bd447b8d7",
   "metadata": {},
   "outputs": [
    {
     "data": {
      "text/plain": [
       "np.float64(13.5)"
      ]
     },
     "execution_count": 74,
     "metadata": {},
     "output_type": "execute_result"
    }
   ],
   "source": [
    "median(a)"
   ]
  },
  {
   "cell_type": "markdown",
   "id": "7a56c1f8-22ad-4227-b604-0e685f0f288f",
   "metadata": {},
   "source": [
    "INDEXING"
   ]
  },
  {
   "cell_type": "code",
   "execution_count": 76,
   "id": "aff25fef-2b88-4617-96ce-c2c15f7a8849",
   "metadata": {},
   "outputs": [],
   "source": [
    "mat = np.arange(0,100).reshape(10,10)"
   ]
  },
  {
   "cell_type": "code",
   "execution_count": 77,
   "id": "5ad4caa8-0aa8-4318-8cf1-446e289952c4",
   "metadata": {},
   "outputs": [
    {
     "data": {
      "text/plain": [
       "array([[ 0,  1,  2,  3,  4,  5,  6,  7,  8,  9],\n",
       "       [10, 11, 12, 13, 14, 15, 16, 17, 18, 19],\n",
       "       [20, 21, 22, 23, 24, 25, 26, 27, 28, 29],\n",
       "       [30, 31, 32, 33, 34, 35, 36, 37, 38, 39],\n",
       "       [40, 41, 42, 43, 44, 45, 46, 47, 48, 49],\n",
       "       [50, 51, 52, 53, 54, 55, 56, 57, 58, 59],\n",
       "       [60, 61, 62, 63, 64, 65, 66, 67, 68, 69],\n",
       "       [70, 71, 72, 73, 74, 75, 76, 77, 78, 79],\n",
       "       [80, 81, 82, 83, 84, 85, 86, 87, 88, 89],\n",
       "       [90, 91, 92, 93, 94, 95, 96, 97, 98, 99]])"
      ]
     },
     "execution_count": 77,
     "metadata": {},
     "output_type": "execute_result"
    }
   ],
   "source": [
    "mat"
   ]
  },
  {
   "cell_type": "code",
   "execution_count": 78,
   "id": "a41513a8-31df-4cc6-b717-545ae04cc64a",
   "metadata": {},
   "outputs": [],
   "source": [
    "row = 5\n",
    "column = 5"
   ]
  },
  {
   "cell_type": "code",
   "execution_count": 79,
   "id": "3da98d81-6218-4862-804a-8aebd0cc2834",
   "metadata": {},
   "outputs": [
    {
     "data": {
      "text/plain": [
       "5"
      ]
     },
     "execution_count": 79,
     "metadata": {},
     "output_type": "execute_result"
    }
   ],
   "source": [
    "row"
   ]
  },
  {
   "cell_type": "code",
   "execution_count": 80,
   "id": "594acb06-6ead-47ed-b8a2-71ff47766e4d",
   "metadata": {},
   "outputs": [
    {
     "data": {
      "text/plain": [
       "5"
      ]
     },
     "execution_count": 80,
     "metadata": {},
     "output_type": "execute_result"
    }
   ],
   "source": [
    "column"
   ]
  },
  {
   "cell_type": "code",
   "execution_count": 81,
   "id": "f7f726c5-1b5e-4564-bd70-b02ef4c77ea6",
   "metadata": {},
   "outputs": [
    {
     "data": {
      "text/plain": [
       "np.int64(55)"
      ]
     },
     "execution_count": 81,
     "metadata": {},
     "output_type": "execute_result"
    }
   ],
   "source": [
    "mat[row,column]"
   ]
  },
  {
   "cell_type": "code",
   "execution_count": 82,
   "id": "eeab9b22-677c-4a70-9e7d-345dee97eac2",
   "metadata": {},
   "outputs": [],
   "source": [
    "col = 6"
   ]
  },
  {
   "cell_type": "code",
   "execution_count": 84,
   "id": "aeb84b1b-1a14-4e94-9ce8-2c1d6b4aa02f",
   "metadata": {},
   "outputs": [
    {
     "data": {
      "text/plain": [
       "array([ 6, 16, 26, 36, 46, 56, 66, 76, 86, 96])"
      ]
     },
     "execution_count": 84,
     "metadata": {},
     "output_type": "execute_result"
    }
   ],
   "source": [
    "mat[:,col]"
   ]
  },
  {
   "cell_type": "code",
   "execution_count": 85,
   "id": "f2f0117c-e87f-45f1-b6de-fc4d62a09809",
   "metadata": {},
   "outputs": [
    {
     "data": {
      "text/plain": [
       "array([50, 51, 52, 53, 54, 55, 56, 57, 58, 59])"
      ]
     },
     "execution_count": 85,
     "metadata": {},
     "output_type": "execute_result"
    }
   ],
   "source": [
    "mat[row,:]"
   ]
  },
  {
   "cell_type": "code",
   "execution_count": 86,
   "id": "7f179f87-18b4-4055-8470-45456cd95084",
   "metadata": {},
   "outputs": [
    {
     "data": {
      "text/plain": [
       "array([[ 0,  1,  2,  3,  4,  5,  6,  7,  8,  9],\n",
       "       [10, 11, 12, 13, 14, 15, 16, 17, 18, 19],\n",
       "       [20, 21, 22, 23, 24, 25, 26, 27, 28, 29],\n",
       "       [30, 31, 32, 33, 34, 35, 36, 37, 38, 39],\n",
       "       [40, 41, 42, 43, 44, 45, 46, 47, 48, 49],\n",
       "       [50, 51, 52, 53, 54, 55, 56, 57, 58, 59],\n",
       "       [60, 61, 62, 63, 64, 65, 66, 67, 68, 69],\n",
       "       [70, 71, 72, 73, 74, 75, 76, 77, 78, 79],\n",
       "       [80, 81, 82, 83, 84, 85, 86, 87, 88, 89],\n",
       "       [90, 91, 92, 93, 94, 95, 96, 97, 98, 99]])"
      ]
     },
     "execution_count": 86,
     "metadata": {},
     "output_type": "execute_result"
    }
   ],
   "source": [
    "mat"
   ]
  },
  {
   "cell_type": "code",
   "execution_count": 88,
   "id": "5e82f72c-d97c-49b2-a1b1-d9559c871a8f",
   "metadata": {},
   "outputs": [
    {
     "data": {
      "text/plain": [
       "array([[22, 23],\n",
       "       [32, 33],\n",
       "       [42, 43],\n",
       "       [52, 53]])"
      ]
     },
     "execution_count": 88,
     "metadata": {},
     "output_type": "execute_result"
    }
   ],
   "source": [
    "mat[2:6,2:4]"
   ]
  },
  {
   "cell_type": "code",
   "execution_count": 89,
   "id": "7ad66c13-6450-4249-b61a-55654f113a76",
   "metadata": {},
   "outputs": [
    {
     "data": {
      "text/plain": [
       "array([[22]])"
      ]
     },
     "execution_count": 89,
     "metadata": {},
     "output_type": "execute_result"
    }
   ],
   "source": [
    "mat[2:3,2:3]"
   ]
  },
  {
   "cell_type": "markdown",
   "id": "5aece684-e778-413e-b0ea-6f08ee8d6aca",
   "metadata": {},
   "source": [
    "MASKING"
   ]
  },
  {
   "cell_type": "code",
   "execution_count": 90,
   "id": "165d99c0-d756-4468-8a11-b9ac0ef99015",
   "metadata": {},
   "outputs": [
    {
     "data": {
      "text/plain": [
       "array([[ 0,  1,  2,  3,  4,  5,  6,  7,  8,  9],\n",
       "       [10, 11, 12, 13, 14, 15, 16, 17, 18, 19],\n",
       "       [20, 21, 22, 23, 24, 25, 26, 27, 28, 29],\n",
       "       [30, 31, 32, 33, 34, 35, 36, 37, 38, 39],\n",
       "       [40, 41, 42, 43, 44, 45, 46, 47, 48, 49],\n",
       "       [50, 51, 52, 53, 54, 55, 56, 57, 58, 59],\n",
       "       [60, 61, 62, 63, 64, 65, 66, 67, 68, 69],\n",
       "       [70, 71, 72, 73, 74, 75, 76, 77, 78, 79],\n",
       "       [80, 81, 82, 83, 84, 85, 86, 87, 88, 89],\n",
       "       [90, 91, 92, 93, 94, 95, 96, 97, 98, 99]])"
      ]
     },
     "execution_count": 90,
     "metadata": {},
     "output_type": "execute_result"
    }
   ],
   "source": [
    "mat"
   ]
  },
  {
   "cell_type": "code",
   "execution_count": 91,
   "id": "462b1551-b46a-4103-a345-0e4abe79bbae",
   "metadata": {},
   "outputs": [
    {
     "data": {
      "text/plain": [
       "2169953692400"
      ]
     },
     "execution_count": 91,
     "metadata": {},
     "output_type": "execute_result"
    }
   ],
   "source": [
    "id(mat)"
   ]
  },
  {
   "cell_type": "code",
   "execution_count": 92,
   "id": "ae942137-a832-45ee-997c-b2ec0214df7c",
   "metadata": {},
   "outputs": [
    {
     "data": {
      "text/plain": [
       "array([[False, False, False, False, False, False, False, False, False,\n",
       "        False],\n",
       "       [False, False, False, False, False, False, False, False, False,\n",
       "        False],\n",
       "       [False, False, False, False, False, False, False, False, False,\n",
       "        False],\n",
       "       [False, False, False, False, False, False, False, False, False,\n",
       "        False],\n",
       "       [False, False, False, False, False, False, False, False, False,\n",
       "        False],\n",
       "       [False,  True,  True,  True,  True,  True,  True,  True,  True,\n",
       "         True],\n",
       "       [ True,  True,  True,  True,  True,  True,  True,  True,  True,\n",
       "         True],\n",
       "       [ True,  True,  True,  True,  True,  True,  True,  True,  True,\n",
       "         True],\n",
       "       [ True,  True,  True,  True,  True,  True,  True,  True,  True,\n",
       "         True],\n",
       "       [ True,  True,  True,  True,  True,  True,  True,  True,  True,\n",
       "         True]])"
      ]
     },
     "execution_count": 92,
     "metadata": {},
     "output_type": "execute_result"
    }
   ],
   "source": [
    "mat > 50"
   ]
  },
  {
   "cell_type": "code",
   "execution_count": 93,
   "id": "8a7e71ab-e53c-4cde-9b8a-bb04a6cafdaf",
   "metadata": {},
   "outputs": [
    {
     "data": {
      "text/plain": [
       "array([[False, False, False, False, False, False, False, False, False,\n",
       "        False],\n",
       "       [False, False, False, False, False, False, False, False, False,\n",
       "        False],\n",
       "       [False, False, False, False, False, False, False, False, False,\n",
       "        False],\n",
       "       [False, False, False, False, False, False, False, False, False,\n",
       "        False],\n",
       "       [False, False, False, False, False, False, False, False, False,\n",
       "        False],\n",
       "       [ True, False, False, False, False, False, False, False, False,\n",
       "        False],\n",
       "       [False, False, False, False, False, False, False, False, False,\n",
       "        False],\n",
       "       [False, False, False, False, False, False, False, False, False,\n",
       "        False],\n",
       "       [False, False, False, False, False, False, False, False, False,\n",
       "        False],\n",
       "       [False, False, False, False, False, False, False, False, False,\n",
       "        False]])"
      ]
     },
     "execution_count": 93,
     "metadata": {},
     "output_type": "execute_result"
    }
   ],
   "source": [
    "mat == 50"
   ]
  },
  {
   "cell_type": "code",
   "execution_count": 94,
   "id": "4977a643-b7b5-4858-807d-5b62a851d82e",
   "metadata": {},
   "outputs": [
    {
     "data": {
      "text/plain": [
       "array([51, 52, 53, 54, 55, 56, 57, 58, 59, 60, 61, 62, 63, 64, 65, 66, 67,\n",
       "       68, 69, 70, 71, 72, 73, 74, 75, 76, 77, 78, 79, 80, 81, 82, 83, 84,\n",
       "       85, 86, 87, 88, 89, 90, 91, 92, 93, 94, 95, 96, 97, 98, 99])"
      ]
     },
     "execution_count": 94,
     "metadata": {},
     "output_type": "execute_result"
    }
   ],
   "source": [
    "mat[mat > 50]"
   ]
  },
  {
   "cell_type": "code",
   "execution_count": 95,
   "id": "e051acd4-7291-4134-b552-4caf88cd15f3",
   "metadata": {},
   "outputs": [
    {
     "data": {
      "text/plain": [
       "array([50])"
      ]
     },
     "execution_count": 95,
     "metadata": {},
     "output_type": "execute_result"
    }
   ],
   "source": [
    "mat[mat == 50]"
   ]
  },
  {
   "cell_type": "code",
   "execution_count": 96,
   "id": "a6d7f287-1c25-4941-b15f-c7c0aba4ca54",
   "metadata": {},
   "outputs": [
    {
     "data": {
      "text/plain": [
       "array([ 0,  1,  2,  3,  4,  5,  6,  7,  8,  9, 10, 11, 12, 13, 14, 15, 16,\n",
       "       17, 18, 19, 20, 21, 22, 23, 24, 25, 26, 27, 28, 29, 30, 31, 32, 33,\n",
       "       34, 35, 36, 37, 38, 39, 40, 41, 42, 43, 44, 45, 46, 47, 48, 49])"
      ]
     },
     "execution_count": 96,
     "metadata": {},
     "output_type": "execute_result"
    }
   ],
   "source": [
    "mat[mat<50]"
   ]
  }
 ],
 "metadata": {
  "kernelspec": {
   "display_name": "Python [conda env:base] *",
   "language": "python",
   "name": "conda-base-py"
  },
  "language_info": {
   "codemirror_mode": {
    "name": "ipython",
    "version": 3
   },
   "file_extension": ".py",
   "mimetype": "text/x-python",
   "name": "python",
   "nbconvert_exporter": "python",
   "pygments_lexer": "ipython3",
   "version": "3.13.5"
  }
 },
 "nbformat": 4,
 "nbformat_minor": 5
}
