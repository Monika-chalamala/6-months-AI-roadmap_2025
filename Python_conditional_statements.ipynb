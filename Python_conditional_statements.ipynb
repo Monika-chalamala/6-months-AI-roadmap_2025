{
 "cells": [
  {
   "cell_type": "markdown",
   "id": "0296936b-fb9f-4f6d-8584-9760b71d2c79",
   "metadata": {},
   "source": [
    "- if\n",
    "- if else\n",
    "- if elif else\n",
    "- nested if"
   ]
  },
  {
   "cell_type": "code",
   "execution_count": 6,
   "id": "33377f20-57bf-4865-8e6f-dbd902636ea9",
   "metadata": {},
   "outputs": [
    {
     "name": "stdout",
     "output_type": "stream",
     "text": [
      "data science\n"
     ]
    }
   ],
   "source": [
    "if True:\n",
    "    print(\"data science\")"
   ]
  },
  {
   "cell_type": "code",
   "execution_count": 7,
   "id": "dfbaf340-f914-4abc-b0fe-04e54e42b0f1",
   "metadata": {},
   "outputs": [
    {
     "name": "stdout",
     "output_type": "stream",
     "text": [
      "bye for now\n"
     ]
    }
   ],
   "source": [
    "if False:             \n",
    "    print(\"data science\")\n",
    "print(\"bye for now\")"
   ]
  },
  {
   "cell_type": "code",
   "execution_count": 8,
   "id": "e6563a6b-8ce0-4587-9a2f-00206b4cbf58",
   "metadata": {},
   "outputs": [
    {
     "name": "stdout",
     "output_type": "stream",
     "text": [
      "data science\n",
      "bye for now\n"
     ]
    }
   ],
   "source": [
    "if True:\n",
    "    print(\"data science\")\n",
    "print(\"bye for now\")"
   ]
  },
  {
   "cell_type": "code",
   "execution_count": 9,
   "id": "1320a32f-513a-4faf-bb97-6060f178fc85",
   "metadata": {},
   "outputs": [
    {
     "name": "stdout",
     "output_type": "stream",
     "text": [
      "data science\n"
     ]
    }
   ],
   "source": [
    "if True:\n",
    "    print(\"data science\")\n",
    "else:\n",
    "    \n",
    "    print(\"bye for now\")"
   ]
  },
  {
   "cell_type": "code",
   "execution_count": 15,
   "id": "e2fad5be-3aa2-477a-9b04-9fe5417a6f83",
   "metadata": {},
   "outputs": [
    {
     "name": "stdout",
     "output_type": "stream",
     "text": [
      "Even Number\n"
     ]
    }
   ],
   "source": [
    "# a program to check whether give number is even or odd\n",
    "\n",
    "x = 4\n",
    "\n",
    "r = x % 2\n",
    "\n",
    "if ( r == 0 ):\n",
    "    print(\"Even Number\")\n",
    "\n"
   ]
  },
  {
   "cell_type": "code",
   "execution_count": 17,
   "id": "9124c545-f53a-41f3-abeb-5ae728be105c",
   "metadata": {},
   "outputs": [
    {
     "name": "stdout",
     "output_type": "stream",
     "text": [
      "Odd Number\n"
     ]
    }
   ],
   "source": [
    "x = 5\n",
    "\n",
    "r = x % 2\n",
    "\n",
    "if ( r == 0 ):\n",
    "    print(\"Even Number\")\n",
    "\n",
    "if ( r == 1 ):\n",
    "    print(\"Odd Number\")"
   ]
  },
  {
   "cell_type": "code",
   "execution_count": 18,
   "id": "a7270e52-fef9-4314-9f2f-b775f5a98300",
   "metadata": {},
   "outputs": [
    {
     "name": "stdout",
     "output_type": "stream",
     "text": [
      "Odd Number\n"
     ]
    }
   ],
   "source": [
    "x = 5\n",
    "\n",
    "r = x % 2\n",
    "\n",
    "if ( r == 0 ):\n",
    "    print(\"Even Number\")\n",
    "\n",
    "else :\n",
    "    print(\"Odd Number\")"
   ]
  },
  {
   "cell_type": "code",
   "execution_count": 19,
   "id": "848cdc0b-af42-4e8f-955e-fa478345557a",
   "metadata": {},
   "outputs": [
    {
     "name": "stdout",
     "output_type": "stream",
     "text": [
      "Even Number\n"
     ]
    }
   ],
   "source": [
    "x = 4\n",
    "\n",
    "r = x % 2\n",
    "\n",
    "if ( r == 0 ):\n",
    "    print(\"Even Number\")\n",
    "\n",
    "else:\n",
    "    print(\"Odd Number\")"
   ]
  },
  {
   "cell_type": "code",
   "execution_count": 20,
   "id": "2239310f-a6d9-46ef-9d9a-a96386f41da8",
   "metadata": {},
   "outputs": [
    {
     "name": "stdout",
     "output_type": "stream",
     "text": [
      "Odd number\n"
     ]
    }
   ],
   "source": [
    "x = 3\n",
    "r = x % 2\n",
    "\n",
    "if ( r == 0 ):\n",
    "    print(\"Even number\")\n",
    "    if ( x>5 ):\n",
    "        print(\" Greater number\")\n",
    "\n",
    "else:\n",
    "    print(\"Odd number\")"
   ]
  },
  {
   "cell_type": "code",
   "execution_count": 21,
   "id": "ba10c070-6d1b-4b9c-a1e4-e72f5a75eee5",
   "metadata": {},
   "outputs": [
    {
     "name": "stdout",
     "output_type": "stream",
     "text": [
      "Even number\n",
      " Greater number\n"
     ]
    }
   ],
   "source": [
    "x = 6\n",
    "r = x % 2\n",
    "\n",
    "if ( r == 0 ):\n",
    "    print(\"Even number\")\n",
    "    if ( x>5 ):\n",
    "        print(\" Greater number\")\n",
    "\n",
    "else:\n",
    "    print(\"Odd number\")"
   ]
  },
  {
   "cell_type": "code",
   "execution_count": 22,
   "id": "483b1580-ae13-4ecd-b306-9b6a8dd75704",
   "metadata": {},
   "outputs": [
    {
     "name": "stdout",
     "output_type": "stream",
     "text": [
      "Even number\n"
     ]
    }
   ],
   "source": [
    "x = 4\n",
    "r = x % 2\n",
    "\n",
    "if ( r == 0 ):\n",
    "    print(\"Even number\")\n",
    "    if ( x>5 ):\n",
    "        print(\" Greater number\")\n",
    "\n",
    "else:\n",
    "    print(\"Odd number\")"
   ]
  },
  {
   "cell_type": "code",
   "execution_count": 24,
   "id": "ce94cabd-db37-48e4-aefd-6ab912f662a7",
   "metadata": {},
   "outputs": [
    {
     "name": "stdout",
     "output_type": "stream",
     "text": [
      "Even number\n",
      "Smaller number\n"
     ]
    }
   ],
   "source": [
    "x = 4\n",
    "r = x % 2\n",
    "\n",
    "if ( r == 0 ):\n",
    "    print(\"Even number\")\n",
    "    if ( x>5 ):\n",
    "        print(\" Greater number\")\n",
    "    else:\n",
    "        print(\"Smaller number\")\n",
    "\n",
    "else:\n",
    "    print(\"Odd number\")"
   ]
  },
  {
   "cell_type": "code",
   "execution_count": 25,
   "id": "a8c34c5c-a770-49e4-b7b9-ba32f1e18bce",
   "metadata": {},
   "outputs": [
    {
     "name": "stdout",
     "output_type": "stream",
     "text": [
      "One\n"
     ]
    }
   ],
   "source": [
    "x = 1\n",
    "\n",
    "if ( x == 1):\n",
    "    print(\"One\")\n",
    "if ( x == 2):\n",
    "    print(\"Two\")\n",
    "if ( x == 3):\n",
    "    print(\"Three\")\n",
    "if ( x == 4):\n",
    "    print(\"Four\")"
   ]
  },
  {
   "cell_type": "code",
   "execution_count": 26,
   "id": "171d0d6f-f6b8-48d8-bfbe-35ace958c47d",
   "metadata": {},
   "outputs": [
    {
     "name": "stdout",
     "output_type": "stream",
     "text": [
      "Two\n"
     ]
    }
   ],
   "source": [
    "x = 2\n",
    "\n",
    "if ( x == 1):\n",
    "    print(\"One\")\n",
    "if ( x == 2):\n",
    "    print(\"Two\")\n",
    "if ( x == 3):\n",
    "    print(\"Three\")\n",
    "if ( x == 4):\n",
    "    print(\"Four\")"
   ]
  },
  {
   "cell_type": "code",
   "execution_count": 27,
   "id": "f6a1a635-7162-4aec-bafc-328d903516b7",
   "metadata": {},
   "outputs": [
    {
     "name": "stdout",
     "output_type": "stream",
     "text": [
      "Three\n"
     ]
    }
   ],
   "source": [
    "x = 3\n",
    "\n",
    "if ( x == 1):\n",
    "    print(\"One\")\n",
    "if ( x == 2):\n",
    "    print(\"Two\")\n",
    "if ( x == 3):\n",
    "    print(\"Three\")\n",
    "if ( x == 4):\n",
    "    print(\"Four\")\n"
   ]
  },
  {
   "cell_type": "code",
   "execution_count": 28,
   "id": "b453b6dd-df5b-4a2e-bcc5-dc5826a4fc50",
   "metadata": {},
   "outputs": [
    {
     "name": "stdout",
     "output_type": "stream",
     "text": [
      "Four\n"
     ]
    }
   ],
   "source": [
    "x = 4\n",
    "\n",
    "if ( x == 1):\n",
    "    print(\"One\")\n",
    "if ( x == 2):\n",
    "    print(\"Two\")\n",
    "if ( x == 3):\n",
    "    print(\"Three\")\n",
    "if ( x == 4):\n",
    "    print(\"Four\")"
   ]
  },
  {
   "cell_type": "code",
   "execution_count": 29,
   "id": "83826465-e840-4fe4-849f-5442f1a1062c",
   "metadata": {},
   "outputs": [
    {
     "name": "stdout",
     "output_type": "stream",
     "text": [
      "One\n"
     ]
    }
   ],
   "source": [
    "x = 1\n",
    "\n",
    "if ( x == 1):\n",
    "    print(\"One\")\n",
    "elif ( x == 2):\n",
    "    print(\"Two\")\n",
    "elif ( x == 3):\n",
    "    print(\"Three\")\n",
    "elif ( x == 4):\n",
    "    print(\"Four\")\n",
    "else:\n",
    "    print(\"Number not found\")"
   ]
  },
  {
   "cell_type": "code",
   "execution_count": 30,
   "id": "ef5937db-6d9c-4ece-94b5-dc27085bc5d5",
   "metadata": {},
   "outputs": [
    {
     "name": "stdout",
     "output_type": "stream",
     "text": [
      "Number not found\n"
     ]
    }
   ],
   "source": [
    "x = 5\n",
    "\n",
    "if ( x == 1):\n",
    "    print(\"One\")\n",
    "elif ( x == 2):\n",
    "    print(\"Two\")\n",
    "elif ( x == 3):\n",
    "    print(\"Three\")\n",
    "elif ( x == 4):\n",
    "    print(\"Four\")\n",
    "else:\n",
    "    print(\"Number not found\")"
   ]
  },
  {
   "cell_type": "code",
   "execution_count": null,
   "id": "002a1f71-7ef2-4f2f-a53d-e5c869186421",
   "metadata": {},
   "outputs": [],
   "source": []
  }
 ],
 "metadata": {
  "kernelspec": {
   "display_name": "Python [conda env:base] *",
   "language": "python",
   "name": "conda-base-py"
  },
  "language_info": {
   "codemirror_mode": {
    "name": "ipython",
    "version": 3
   },
   "file_extension": ".py",
   "mimetype": "text/x-python",
   "name": "python",
   "nbconvert_exporter": "python",
   "pygments_lexer": "ipython3",
   "version": "3.13.5"
  }
 },
 "nbformat": 4,
 "nbformat_minor": 5
}
