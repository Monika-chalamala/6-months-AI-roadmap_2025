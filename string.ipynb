{
 "cells": [
  {
   "cell_type": "markdown",
   "id": "28bbe79c-9b79-4211-b780-92f0a26bac98",
   "metadata": {},
   "source": [
    "STRING"
   ]
  },
  {
   "cell_type": "code",
   "execution_count": 2,
   "id": "f5f5c3fb-4d6c-4d3c-ba6b-b88b0d1019eb",
   "metadata": {},
   "outputs": [],
   "source": [
    "letter = 'p' # a string can consist of single alphabet , a word, and a sentence."
   ]
  },
  {
   "cell_type": "code",
   "execution_count": 3,
   "id": "b8c04410-42b7-476f-9d67-9a8f67d4d7e1",
   "metadata": {},
   "outputs": [
    {
     "name": "stdout",
     "output_type": "stream",
     "text": [
      "p\n"
     ]
    }
   ],
   "source": [
    "print(letter)"
   ]
  },
  {
   "cell_type": "code",
   "execution_count": 4,
   "id": "7f178e7c-4d44-49ea-a59b-0aa1cc837cc3",
   "metadata": {},
   "outputs": [
    {
     "name": "stdout",
     "output_type": "stream",
     "text": [
      "1\n"
     ]
    }
   ],
   "source": [
    "print(len(letter)) # len() function gives us the output of the number of alphabets does the variable contains."
   ]
  },
  {
   "cell_type": "code",
   "execution_count": 6,
   "id": "7b3dbad1-0e25-452a-8f9d-579afff4a05b",
   "metadata": {},
   "outputs": [],
   "source": [
    "greeting = \"Hello, People!!!\""
   ]
  },
  {
   "cell_type": "code",
   "execution_count": 7,
   "id": "a05aac89-8914-48f5-875b-9edb29d638eb",
   "metadata": {},
   "outputs": [
    {
     "name": "stdout",
     "output_type": "stream",
     "text": [
      "Hello, People!!!\n"
     ]
    }
   ],
   "source": [
    "print(greeting)"
   ]
  },
  {
   "cell_type": "code",
   "execution_count": 8,
   "id": "4f526490-4959-4228-bfe2-f130eca66173",
   "metadata": {},
   "outputs": [
    {
     "name": "stdout",
     "output_type": "stream",
     "text": [
      "16\n"
     ]
    }
   ],
   "source": [
    "print(len(greeting))"
   ]
  },
  {
   "cell_type": "code",
   "execution_count": 9,
   "id": "57367df2-441d-4312-b7b9-ff7f605c6279",
   "metadata": {},
   "outputs": [],
   "source": [
    "sentence = \" I am an aspiring student who wants to build a career in data science.\""
   ]
  },
  {
   "cell_type": "code",
   "execution_count": 10,
   "id": "f85cd05c-64c8-44a7-ad77-de538c240998",
   "metadata": {},
   "outputs": [
    {
     "name": "stdout",
     "output_type": "stream",
     "text": [
      " I am an aspiring student who wants to build a career in data science.\n"
     ]
    }
   ],
   "source": [
    "print(sentence)"
   ]
  },
  {
   "cell_type": "code",
   "execution_count": 14,
   "id": "46542d5d-576b-487f-8b68-20e353ced740",
   "metadata": {},
   "outputs": [],
   "source": [
    "multiline_string = ''' I am so excited to start my journey in NARESH IT. \n",
    "and am so happy that I am able to gain knowledge from a thoughtful and friendly faculty -- Mr. Prakash Senapati Sir.'''"
   ]
  },
  {
   "cell_type": "code",
   "execution_count": 16,
   "id": "0e2c31ea-e2cf-44b2-99f0-f3d2a5d055c8",
   "metadata": {},
   "outputs": [
    {
     "name": "stdout",
     "output_type": "stream",
     "text": [
      " I am so excited to start my journey in NARESH IT. \n",
      "and am so happy that I am able to gain knowledge from a thoughtful and friendly faculty -- Mr. Prakash Senapati Sir.\n"
     ]
    }
   ],
   "source": [
    "print(multiline_string) # we should use three (''') single codes to write multiline strings. "
   ]
  },
  {
   "cell_type": "code",
   "execution_count": 17,
   "id": "d23edd6e-35e7-4af0-ae99-e0943b96821b",
   "metadata": {},
   "outputs": [],
   "source": [
    "multiline_string = \"\"\" I am so excited to start my journey in NARESH IT. \n",
    "and am so happy that I am able to gain knowledge from a thoughtful and friendly faculty -- Mr. Prakash Senapati Sir.\"\"\""
   ]
  },
  {
   "cell_type": "code",
   "execution_count": 18,
   "id": "43c332ad-2b17-4df4-a636-531cb0b82c99",
   "metadata": {},
   "outputs": [
    {
     "name": "stdout",
     "output_type": "stream",
     "text": [
      " I am so excited to start my journey in NARESH IT. \n",
      "and am so happy that I am able to gain knowledge from a thoughtful and friendly faculty -- Mr. Prakash Senapati Sir.\n"
     ]
    }
   ],
   "source": [
    "print(multiline_string) # we can also use three (\"\"\") double codes to write multiline string."
   ]
  },
  {
   "cell_type": "markdown",
   "id": "b29a1993-281f-45ae-8e9a-bf048fe57640",
   "metadata": {},
   "source": [
    "STRING CONCATENATION"
   ]
  },
  {
   "cell_type": "code",
   "execution_count": 19,
   "id": "6faa3f41-4386-43a1-840c-98114a35c35c",
   "metadata": {},
   "outputs": [],
   "source": [
    "first_name = 'Monika'"
   ]
  },
  {
   "cell_type": "code",
   "execution_count": 20,
   "id": "ef1c56ab-344c-4010-9db5-942b475ac03b",
   "metadata": {},
   "outputs": [],
   "source": [
    "last_name = 'Chalamala'"
   ]
  },
  {
   "cell_type": "code",
   "execution_count": 21,
   "id": "19a68413-025a-401c-97d7-a82f32553b47",
   "metadata": {},
   "outputs": [],
   "source": [
    "space = ' '"
   ]
  },
  {
   "cell_type": "code",
   "execution_count": 22,
   "id": "6d08f11f-4e5d-4baa-bbc3-9e18d00e4248",
   "metadata": {},
   "outputs": [],
   "source": [
    "full_name = first_name + space + last_name"
   ]
  },
  {
   "cell_type": "code",
   "execution_count": 23,
   "id": "618ed34a-5e30-4837-b48b-1e17340853e2",
   "metadata": {},
   "outputs": [
    {
     "name": "stdout",
     "output_type": "stream",
     "text": [
      "Monika Chalamala\n"
     ]
    }
   ],
   "source": [
    "print(full_name)"
   ]
  },
  {
   "cell_type": "code",
   "execution_count": 24,
   "id": "4ccf157f-91d1-41e0-b6a7-1ec273a1e4a8",
   "metadata": {},
   "outputs": [
    {
     "name": "stdout",
     "output_type": "stream",
     "text": [
      "6\n"
     ]
    }
   ],
   "source": [
    "print(len(first_name))"
   ]
  },
  {
   "cell_type": "code",
   "execution_count": 25,
   "id": "f33c3555-0ef2-4fa5-8a5e-f116fb5152dd",
   "metadata": {},
   "outputs": [
    {
     "name": "stdout",
     "output_type": "stream",
     "text": [
      "9\n"
     ]
    }
   ],
   "source": [
    "print(len(last_name))"
   ]
  },
  {
   "cell_type": "code",
   "execution_count": 26,
   "id": "5a7bd663-93e1-491b-a0e2-0cde46fd2e96",
   "metadata": {},
   "outputs": [
    {
     "name": "stdout",
     "output_type": "stream",
     "text": [
      "False\n"
     ]
    }
   ],
   "source": [
    "print(len(first_name)>len(last_name))"
   ]
  },
  {
   "cell_type": "code",
   "execution_count": 27,
   "id": "1adf29c1-8857-4598-91e8-2e148daeac1d",
   "metadata": {},
   "outputs": [
    {
     "name": "stdout",
     "output_type": "stream",
     "text": [
      "16\n"
     ]
    }
   ],
   "source": [
    "print(len(full_name))"
   ]
  },
  {
   "cell_type": "code",
   "execution_count": 28,
   "id": "cb1e46b5-2e81-4e61-8789-a08882d31bb6",
   "metadata": {},
   "outputs": [],
   "source": [
    "language = 'Monika'"
   ]
  },
  {
   "cell_type": "code",
   "execution_count": 29,
   "id": "1aa1fc41-575e-4e76-9faa-ce12ee7ba0a0",
   "metadata": {},
   "outputs": [],
   "source": [
    "a,b,c,d,e,f = language"
   ]
  },
  {
   "cell_type": "code",
   "execution_count": 30,
   "id": "c48372f1-4ce1-4760-b9b4-37940dcd42cd",
   "metadata": {},
   "outputs": [
    {
     "name": "stdout",
     "output_type": "stream",
     "text": [
      "M\n",
      "o\n",
      "n\n",
      "i\n",
      "k\n",
      "a\n"
     ]
    }
   ],
   "source": [
    "print(a)\n",
    "print(b)\n",
    "print(c)\n",
    "print(d)\n",
    "print(e)\n",
    "print(f)"
   ]
  },
  {
   "cell_type": "code",
   "execution_count": 31,
   "id": "67e999ec-d400-45a6-b3ca-cb0a8e430142",
   "metadata": {},
   "outputs": [],
   "source": [
    "first_letter = language[0]"
   ]
  },
  {
   "cell_type": "code",
   "execution_count": 32,
   "id": "8f8469ca-6b2e-4a72-98d3-1c64c230cd6e",
   "metadata": {},
   "outputs": [
    {
     "name": "stdout",
     "output_type": "stream",
     "text": [
      "M\n"
     ]
    }
   ],
   "source": [
    "print(first_letter)"
   ]
  },
  {
   "cell_type": "code",
   "execution_count": 33,
   "id": "cc2d1897-9d6d-46c3-b7aa-01b0f4086c51",
   "metadata": {},
   "outputs": [],
   "source": [
    "second_letter = language[1]"
   ]
  },
  {
   "cell_type": "code",
   "execution_count": 34,
   "id": "9851c217-133d-45af-b535-66a8f0329755",
   "metadata": {},
   "outputs": [
    {
     "name": "stdout",
     "output_type": "stream",
     "text": [
      "o\n"
     ]
    }
   ],
   "source": [
    "print(second_letter)"
   ]
  },
  {
   "cell_type": "code",
   "execution_count": 35,
   "id": "cbe06c0d-665a-46b5-aea2-cd401cd34f39",
   "metadata": {},
   "outputs": [],
   "source": [
    "last_index = len(language) - 1"
   ]
  },
  {
   "cell_type": "code",
   "execution_count": 36,
   "id": "234457d3-ea52-4450-b16a-e36a86aa4e13",
   "metadata": {},
   "outputs": [
    {
     "name": "stdout",
     "output_type": "stream",
     "text": [
      "5\n"
     ]
    }
   ],
   "source": [
    "print(last_index)"
   ]
  },
  {
   "cell_type": "code",
   "execution_count": 37,
   "id": "ff8e445e-bb51-407f-95c0-d1e88669a150",
   "metadata": {},
   "outputs": [],
   "source": [
    "last_letter = language[last_index]"
   ]
  },
  {
   "cell_type": "code",
   "execution_count": 38,
   "id": "dd03e352-768f-4baa-997a-401c872da673",
   "metadata": {},
   "outputs": [
    {
     "name": "stdout",
     "output_type": "stream",
     "text": [
      "a\n"
     ]
    }
   ],
   "source": [
    "print(last_letter)"
   ]
  },
  {
   "cell_type": "raw",
   "id": "07564c77-b73b-497b-9c1e-fe69106088a0",
   "metadata": {},
   "source": [
    "previous indexing was forward indexing and now we are goint to do backward indexing"
   ]
  },
  {
   "cell_type": "code",
   "execution_count": 39,
   "id": "ab2cfc34-a3da-4181-bb25-e9fd44a7428c",
   "metadata": {},
   "outputs": [],
   "source": [
    "last_letter = language[-1]"
   ]
  },
  {
   "cell_type": "code",
   "execution_count": 40,
   "id": "90fdfd83-009b-4469-be90-f305438ff54f",
   "metadata": {},
   "outputs": [
    {
     "name": "stdout",
     "output_type": "stream",
     "text": [
      "a\n"
     ]
    }
   ],
   "source": [
    "print(last_letter)"
   ]
  },
  {
   "cell_type": "code",
   "execution_count": 41,
   "id": "a59534b4-9e87-4372-93f1-eb34f762b56e",
   "metadata": {},
   "outputs": [],
   "source": [
    "last_second = language[-2]"
   ]
  },
  {
   "cell_type": "code",
   "execution_count": 42,
   "id": "7e988772-50d4-4f90-a5fa-ea5ba1361664",
   "metadata": {},
   "outputs": [
    {
     "name": "stdout",
     "output_type": "stream",
     "text": [
      "k\n"
     ]
    }
   ],
   "source": [
    "print(last_second)"
   ]
  },
  {
   "cell_type": "markdown",
   "id": "92cacd66-72b6-42ff-ac96-d1344723c5b1",
   "metadata": {},
   "source": [
    "SLICING"
   ]
  },
  {
   "cell_type": "code",
   "execution_count": 43,
   "id": "d9fe8f56-5db7-4be5-b5f0-ed62fb69ae4b",
   "metadata": {},
   "outputs": [],
   "source": [
    "first_three = language[0:3]"
   ]
  },
  {
   "cell_type": "code",
   "execution_count": 44,
   "id": "b19fec3b-173e-424a-9226-59b4acfb8b04",
   "metadata": {},
   "outputs": [],
   "source": [
    "last_three = language[3:6]"
   ]
  },
  {
   "cell_type": "code",
   "execution_count": 45,
   "id": "09212b95-78cb-4ebe-8d1c-c1697100835a",
   "metadata": {},
   "outputs": [
    {
     "name": "stdout",
     "output_type": "stream",
     "text": [
      "Mon\n",
      "ika\n"
     ]
    }
   ],
   "source": [
    "print(first_three)\n",
    "print(last_three)"
   ]
  },
  {
   "cell_type": "code",
   "execution_count": 46,
   "id": "356f38e8-d342-408b-b59c-1a9908b4dd7b",
   "metadata": {},
   "outputs": [],
   "source": [
    "first_three = language[-3:]\n",
    "last_three = language[-6:-3]"
   ]
  },
  {
   "cell_type": "code",
   "execution_count": 47,
   "id": "34d3bede-2ede-4cd3-91a7-c28ea7b8fde3",
   "metadata": {},
   "outputs": [
    {
     "name": "stdout",
     "output_type": "stream",
     "text": [
      "ika\n",
      "Mon\n"
     ]
    }
   ],
   "source": [
    "print(first_three)\n",
    "print(last_three)"
   ]
  },
  {
   "cell_type": "code",
   "execution_count": 48,
   "id": "a8324f86-22e0-4967-bf71-c63bb9aed8a8",
   "metadata": {},
   "outputs": [
    {
     "name": "stdout",
     "output_type": "stream",
     "text": [
      "Mnk\n"
     ]
    }
   ],
   "source": [
    "pto = language[0:6:2]\n",
    "print(pto)"
   ]
  },
  {
   "cell_type": "code",
   "execution_count": 50,
   "id": "2feae40e-0fe1-4c96-88f2-9ed0f1508e01",
   "metadata": {},
   "outputs": [
    {
     "name": "stdout",
     "output_type": "stream",
     "text": [
      "I am Btech final year student.\n",
      " Am I ?\n"
     ]
    }
   ],
   "source": [
    "print('I am Btech final year student.\\n Am I ?')"
   ]
  },
  {
   "cell_type": "code",
   "execution_count": 51,
   "id": "7df59d04-4348-4791-9a56-b4f1f2172c86",
   "metadata": {},
   "outputs": [
    {
     "name": "stdout",
     "output_type": "stream",
     "text": [
      "Days\tTopics\tExercises\n",
      "Day 1\t3\t5\n",
      "Day 2\t3\t5\n",
      "Day 3\t3\t5\n",
      "Day 4\t3\t5\n"
     ]
    }
   ],
   "source": [
    "print('Days\\tTopics\\tExercises')\n",
    "print('Day 1\\t3\\t5')\n",
    "print('Day 2\\t3\\t5')\n",
    "print('Day 3\\t3\\t5')\n",
    "print('Day 4\\t3\\t5')"
   ]
  },
  {
   "cell_type": "code",
   "execution_count": 52,
   "id": "fe718a0f-0537-4da0-a7ec-617406fef2a6",
   "metadata": {},
   "outputs": [
    {
     "name": "stdout",
     "output_type": "stream",
     "text": [
      "This is a back slash  symbol (\\)\n",
      "In every programming language it starts with \"Hello, World!\"\n"
     ]
    }
   ],
   "source": [
    "print('This is a back slash  symbol (\\\\)') # To write a back slash\n",
    "print('In every programming language it starts with \\\"Hello, World!\\\"')\n"
   ]
  },
  {
   "cell_type": "markdown",
   "id": "2d8400ec-f602-403d-af08-d84704f4dcd0",
   "metadata": {},
   "source": [
    "STRING METHODS"
   ]
  },
  {
   "cell_type": "code",
   "execution_count": 53,
   "id": "457fb3ca-90cd-40d5-9c32-154f6af167cb",
   "metadata": {},
   "outputs": [
    {
     "name": "stdout",
     "output_type": "stream",
     "text": [
      "Monika\n"
     ]
    }
   ],
   "source": [
    "name = 'monika'\n",
    "print(name.capitalize()) # capitalize() is a method that converts first letter of the string to capital."
   ]
  },
  {
   "cell_type": "code",
   "execution_count": 54,
   "id": "5ef80ac8-1fbd-4b7c-99df-a77555cc2e9a",
   "metadata": {},
   "outputs": [],
   "source": [
    "sentence = ' My name is Monika'"
   ]
  },
  {
   "cell_type": "code",
   "execution_count": 55,
   "id": "df98cc8a-cde8-4af5-8e02-910de37e6887",
   "metadata": {},
   "outputs": [
    {
     "name": "stdout",
     "output_type": "stream",
     "text": [
      "2\n"
     ]
    }
   ],
   "source": [
    "print(sentence.count('n'))"
   ]
  },
  {
   "cell_type": "code",
   "execution_count": 57,
   "id": "e55ea6b5-3e4f-42ad-9ba6-fe422cccd415",
   "metadata": {},
   "outputs": [
    {
     "name": "stdout",
     "output_type": "stream",
     "text": [
      "1\n"
     ]
    }
   ],
   "source": [
    "print(sentence.count('i',7,14))"
   ]
  },
  {
   "cell_type": "code",
   "execution_count": 59,
   "id": "560a093e-0876-4d34-9bd9-68c623c326dc",
   "metadata": {},
   "outputs": [
    {
     "name": "stdout",
     "output_type": "stream",
     "text": [
      "1\n"
     ]
    }
   ],
   "source": [
    "print(sentence.count('am'))"
   ]
  },
  {
   "cell_type": "code",
   "execution_count": 60,
   "id": "482e654e-9a7d-4ff5-8155-ea5c0595e077",
   "metadata": {},
   "outputs": [
    {
     "name": "stdout",
     "output_type": "stream",
     "text": [
      "True\n"
     ]
    }
   ],
   "source": [
    "print(sentence.endswith('ka'))"
   ]
  },
  {
   "cell_type": "code",
   "execution_count": 61,
   "id": "b4a96ffa-9f19-4056-9aed-8c257e5e4252",
   "metadata": {},
   "outputs": [
    {
     "name": "stdout",
     "output_type": "stream",
     "text": [
      "False\n"
     ]
    }
   ],
   "source": [
    "print(sentence.endswith('Mo'))"
   ]
  },
  {
   "cell_type": "code",
   "execution_count": 64,
   "id": "11979184-0158-42d7-94e1-8612044a1a6a",
   "metadata": {},
   "outputs": [],
   "source": [
    "sentence = 'My\\tname\\tis\\tMonika'"
   ]
  },
  {
   "cell_type": "code",
   "execution_count": 65,
   "id": "e85cd2fb-c5e1-4fbb-8fd2-a57c51048ee8",
   "metadata": {},
   "outputs": [
    {
     "name": "stdout",
     "output_type": "stream",
     "text": [
      "My        name      is        Monika\n"
     ]
    }
   ],
   "source": [
    "print(sentence.expandtabs(10))"
   ]
  },
  {
   "cell_type": "code",
   "execution_count": 66,
   "id": "928cb1f4-eebe-4604-83f1-b4834ad931ad",
   "metadata": {},
   "outputs": [],
   "source": [
    "sentence = 'My name is Monika'"
   ]
  },
  {
   "cell_type": "code",
   "execution_count": 68,
   "id": "5662c47b-802d-48c2-accd-8d794d83f095",
   "metadata": {},
   "outputs": [
    {
     "name": "stdout",
     "output_type": "stream",
     "text": [
      "8\n"
     ]
    }
   ],
   "source": [
    "print(sentence.find('i'))"
   ]
  },
  {
   "cell_type": "code",
   "execution_count": 69,
   "id": "2ee1ce95-b21b-4a39-bfae-9a5bcd0589fe",
   "metadata": {},
   "outputs": [],
   "source": [
    "job = 'Student'"
   ]
  },
  {
   "cell_type": "code",
   "execution_count": 70,
   "id": "316ec133-4c41-431a-93b1-5079db4b6a47",
   "metadata": {},
   "outputs": [],
   "source": [
    "country = 'Bharat'"
   ]
  },
  {
   "cell_type": "code",
   "execution_count": 71,
   "id": "7a3863fb-e774-4580-ba72-20548b3e81c4",
   "metadata": {},
   "outputs": [],
   "source": [
    "sentence2 = 'I am {} {}. I am a {}. I live in {}.' .format ( first_name, last_name, job, country)"
   ]
  },
  {
   "cell_type": "code",
   "execution_count": 72,
   "id": "6c8452ed-ccae-4ab5-a0c7-1fb17e09be87",
   "metadata": {},
   "outputs": [
    {
     "name": "stdout",
     "output_type": "stream",
     "text": [
      "I am Monika Chalamala. I am a Student. I live in Bharat.\n"
     ]
    }
   ],
   "source": [
    "print(sentence2)"
   ]
  },
  {
   "cell_type": "code",
   "execution_count": 73,
   "id": "7f373de8-087b-47b4-bcfd-ff86be89acd9",
   "metadata": {},
   "outputs": [],
   "source": [
    "radius = 21\n",
    "pi = 3.14\n",
    "area = pi\n",
    "result = 'The area of circle with {} is {}'.format(str(radius), str(area))"
   ]
  },
  {
   "cell_type": "code",
   "execution_count": 74,
   "id": "e865ed92-5481-411e-8723-77098c610fd9",
   "metadata": {},
   "outputs": [
    {
     "name": "stdout",
     "output_type": "stream",
     "text": [
      "The area of circle with 21 is 3.14\n"
     ]
    }
   ],
   "source": [
    "print(result)"
   ]
  },
  {
   "cell_type": "code",
   "execution_count": 75,
   "id": "a25e1ae1-5b01-4c7f-b474-b3126c072d3b",
   "metadata": {},
   "outputs": [
    {
     "name": "stdout",
     "output_type": "stream",
     "text": [
      "False\n"
     ]
    }
   ],
   "source": [
    "print(sentence.isalnum())"
   ]
  },
  {
   "cell_type": "code",
   "execution_count": 76,
   "id": "4f7492bb-c9a9-4851-870e-c5f745541f01",
   "metadata": {},
   "outputs": [],
   "source": [
    "challenge = 'Thirty'"
   ]
  },
  {
   "cell_type": "code",
   "execution_count": 77,
   "id": "068f1468-965a-4098-aec8-1f88600d6d91",
   "metadata": {},
   "outputs": [
    {
     "name": "stdout",
     "output_type": "stream",
     "text": [
      "False\n"
     ]
    }
   ],
   "source": [
    "print(challenge.isdigit())"
   ]
  },
  {
   "cell_type": "code",
   "execution_count": 78,
   "id": "1b9ea528-bacd-4cf6-aec9-7ec49e19d5a2",
   "metadata": {},
   "outputs": [],
   "source": [
    "challenge='10'"
   ]
  },
  {
   "cell_type": "code",
   "execution_count": 79,
   "id": "6fb4c905-c13f-4145-b799-47ac5c374929",
   "metadata": {},
   "outputs": [
    {
     "name": "stdout",
     "output_type": "stream",
     "text": [
      "True\n"
     ]
    }
   ],
   "source": [
    "print(challenge.isdigit())"
   ]
  },
  {
   "cell_type": "code",
   "execution_count": 80,
   "id": "9227cd37-ca45-4c98-9cd4-51d623a64a46",
   "metadata": {},
   "outputs": [
    {
     "name": "stdout",
     "output_type": "stream",
     "text": [
      "True\n"
     ]
    }
   ],
   "source": [
    "print(challenge.isdecimal())"
   ]
  },
  {
   "cell_type": "code",
   "execution_count": 81,
   "id": "c1aab724-20d0-455e-a4c0-8071ae96c6c9",
   "metadata": {},
   "outputs": [],
   "source": [
    "sentence='My_name_is_Monika'"
   ]
  },
  {
   "cell_type": "code",
   "execution_count": 82,
   "id": "8e0e2020-1447-4f37-8233-41002581e4b3",
   "metadata": {},
   "outputs": [
    {
     "name": "stdout",
     "output_type": "stream",
     "text": [
      "True\n"
     ]
    }
   ],
   "source": [
    "print(sentence.isidentifier())"
   ]
  },
  {
   "cell_type": "code",
   "execution_count": 85,
   "id": "7ab0ba08-c7a2-4620-9c4c-2242efb6aada",
   "metadata": {},
   "outputs": [],
   "source": [
    "challenge =  'thirty days of python'"
   ]
  },
  {
   "cell_type": "code",
   "execution_count": 87,
   "id": "0880ef1d-4aee-4cf5-b515-e66b810beb16",
   "metadata": {},
   "outputs": [
    {
     "name": "stdout",
     "output_type": "stream",
     "text": [
      "False\n"
     ]
    }
   ],
   "source": [
    "print(challenge.isupper())"
   ]
  },
  {
   "cell_type": "code",
   "execution_count": 88,
   "id": "35da150e-56ed-434d-bc71-2db333ea44eb",
   "metadata": {},
   "outputs": [],
   "source": [
    "num = '10'"
   ]
  },
  {
   "cell_type": "code",
   "execution_count": 89,
   "id": "6d69584f-4b7e-421f-8f94-eb4b40e35e76",
   "metadata": {},
   "outputs": [
    {
     "name": "stdout",
     "output_type": "stream",
     "text": [
      "True\n"
     ]
    }
   ],
   "source": [
    "print(num.isnumeric())"
   ]
  },
  {
   "cell_type": "code",
   "execution_count": 92,
   "id": "3516e0ab-fa4d-4e33-8fe3-5e74e7ac0b87",
   "metadata": {},
   "outputs": [],
   "source": [
    "web_tech=['HTML','CSS','JavaScript','React']\n",
    "result = ' #, '.join(web_tech)"
   ]
  },
  {
   "cell_type": "code",
   "execution_count": 93,
   "id": "751edea4-2cd0-4b04-a55c-3dbc18399feb",
   "metadata": {},
   "outputs": [
    {
     "name": "stdout",
     "output_type": "stream",
     "text": [
      "HTML #, CSS #, JavaScript #, React\n"
     ]
    }
   ],
   "source": [
    "print(result)"
   ]
  },
  {
   "cell_type": "code",
   "execution_count": 94,
   "id": "c686e205-be44-4569-8a2a-0306c8d0001c",
   "metadata": {},
   "outputs": [
    {
     "name": "stdout",
     "output_type": "stream",
     "text": [
      "My_name_is_Monika\n"
     ]
    }
   ],
   "source": [
    "print(sentence)"
   ]
  },
  {
   "cell_type": "code",
   "execution_count": 96,
   "id": "3bb5a33f-9b86-48a4-b913-c0ef86e8a3ef",
   "metadata": {},
   "outputs": [
    {
     "name": "stdout",
     "output_type": "stream",
     "text": [
      "My_name_is_Siri\n"
     ]
    }
   ],
   "source": [
    "print(sentence.replace('Monika', 'Siri'))"
   ]
  },
  {
   "cell_type": "code",
   "execution_count": 97,
   "id": "ec26d3d4-fb05-4696-af69-9aba339f6816",
   "metadata": {},
   "outputs": [
    {
     "name": "stdout",
     "output_type": "stream",
     "text": [
      "['My_name_is_Monika']\n"
     ]
    }
   ],
   "source": [
    "print(sentence.split())"
   ]
  },
  {
   "cell_type": "code",
   "execution_count": null,
   "id": "00196602-3b39-4f95-8cc5-25d0f740fd9e",
   "metadata": {},
   "outputs": [],
   "source": [
    "print(sentence.title())"
   ]
  },
  {
   "cell_type": "code",
   "execution_count": 2,
   "id": "5087ec77-ef02-4c85-a3c8-daf6b1927d12",
   "metadata": {},
   "outputs": [],
   "source": [
    "sentence = 'thirty days of python'"
   ]
  },
  {
   "cell_type": "code",
   "execution_count": 3,
   "id": "2c6e976f-62f1-49a7-b132-9a1a98eebe2d",
   "metadata": {},
   "outputs": [
    {
     "name": "stdout",
     "output_type": "stream",
     "text": [
      "THIRTY DAYS OF PYTHON\n"
     ]
    }
   ],
   "source": [
    "print(sentence.swapcase())"
   ]
  },
  {
   "cell_type": "code",
   "execution_count": 5,
   "id": "02382106-147d-4b62-b2eb-ac9ed0da3e87",
   "metadata": {},
   "outputs": [
    {
     "name": "stdout",
     "output_type": "stream",
     "text": [
      "True\n"
     ]
    }
   ],
   "source": [
    "print(sentence.startswith('thirty'))"
   ]
  }
 ],
 "metadata": {
  "kernelspec": {
   "display_name": "Python 3 (ipykernel)",
   "language": "python",
   "name": "python3"
  },
  "language_info": {
   "codemirror_mode": {
    "name": "ipython",
    "version": 3
   },
   "file_extension": ".py",
   "mimetype": "text/x-python",
   "name": "python",
   "nbconvert_exporter": "python",
   "pygments_lexer": "ipython3",
   "version": "3.12.7"
  }
 },
 "nbformat": 4,
 "nbformat_minor": 5
}
