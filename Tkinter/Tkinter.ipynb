{
 "cells": [
  {
   "cell_type": "code",
   "execution_count": 1,
   "id": "610c4508-7b7d-43dd-93ce-18efb630a5b5",
   "metadata": {},
   "outputs": [],
   "source": [
    "import tkinter as tk"
   ]
  },
  {
   "cell_type": "code",
   "execution_count": 7,
   "id": "b6e9bf19-58e6-4aae-a343-4a85542185a4",
   "metadata": {},
   "outputs": [
    {
     "name": "stdout",
     "output_type": "stream",
     "text": [
      "Hello, World!\n",
      "good bye\n",
      "Hello, World!\n",
      "good bye\n",
      "Hello, World!\n",
      "good bye\n"
     ]
    }
   ],
   "source": [
    "# create the main application window\n",
    "import tkinter as tk  # Added import statement for tkinter\n",
    "\n",
    "root = tk.Tk()\n",
    "root.title(\"Simple Tkinter App\")\n",
    "root.geometry(\"200x100\")  # Changed '*' to 'x' for proper geometry specification\n",
    "\n",
    "# Function to print \"Hello, World!\" in the console\n",
    "def say_hello():\n",
    "    print(\"Hello, World!\")\n",
    "    print('good bye')\n",
    "\n",
    "# Create a button that triggers the say_hello function\n",
    "hello_button = tk.Button(root, text=\"Click Me\", command=say_hello)\n",
    "hello_button.pack(pady=20)  # Pack the button into the window\n",
    "\n",
    "# Start the Tkinter event loop\n",
    "root.mainloop()"
   ]
  },
  {
   "cell_type": "code",
   "execution_count": null,
   "id": "397e44e3-9a40-45fb-810d-f2a03476cf1e",
   "metadata": {},
   "outputs": [],
   "source": []
  }
 ],
 "metadata": {
  "kernelspec": {
   "display_name": "Python [conda env:base] *",
   "language": "python",
   "name": "conda-base-py"
  },
  "language_info": {
   "codemirror_mode": {
    "name": "ipython",
    "version": 3
   },
   "file_extension": ".py",
   "mimetype": "text/x-python",
   "name": "python",
   "nbconvert_exporter": "python",
   "pygments_lexer": "ipython3",
   "version": "3.13.5"
  }
 },
 "nbformat": 4,
 "nbformat_minor": 5
}
