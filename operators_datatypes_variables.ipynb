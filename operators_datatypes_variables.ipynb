{
 "cells": [
  {
   "cell_type": "code",
   "execution_count": 5,
   "id": "2081bcad-d4ce-4e07-9ef8-8ffed45e3731",
   "metadata": {},
   "outputs": [],
   "source": [
    "a=6 # i have assigned value 6 to variable a"
   ]
  },
  {
   "cell_type": "code",
   "execution_count": 2,
   "id": "ec3c6422-3c7d-406f-adc2-faf87694dbea",
   "metadata": {},
   "outputs": [
    {
     "data": {
      "text/plain": [
       "12"
      ]
     },
     "execution_count": 2,
     "metadata": {},
     "output_type": "execute_result"
    }
   ],
   "source": [
    "a+a # first arithmetic operator ADDITION"
   ]
  },
  {
   "cell_type": "code",
   "execution_count": 3,
   "id": "f5ab632a-bd00-4ceb-b128-ac5a082c1004",
   "metadata": {},
   "outputs": [
    {
     "data": {
      "text/plain": [
       "0"
      ]
     },
     "execution_count": 3,
     "metadata": {},
     "output_type": "execute_result"
    }
   ],
   "source": [
    "a-a # second arithmetic operator SUBTRACTION "
   ]
  },
  {
   "cell_type": "code",
   "execution_count": 4,
   "id": "74c9d7d7-d35e-4f33-8ef7-d6c18c5dd2a5",
   "metadata": {},
   "outputs": [
    {
     "data": {
      "text/plain": [
       "36"
      ]
     },
     "execution_count": 4,
     "metadata": {},
     "output_type": "execute_result"
    }
   ],
   "source": [
    "a*a # third arithmetic operator MULTIPLICATION "
   ]
  },
  {
   "cell_type": "code",
   "execution_count": 6,
   "id": "37db0709-08e9-4a7e-bf09-a3d3f80a6a01",
   "metadata": {},
   "outputs": [
    {
     "data": {
      "text/plain": [
       "46656"
      ]
     },
     "execution_count": 6,
     "metadata": {},
     "output_type": "execute_result"
    }
   ],
   "source": [
    "a**a # fourth arithmetic operator TO THE POWER "
   ]
  },
  {
   "cell_type": "code",
   "execution_count": 7,
   "id": "58c08ab6-1a8e-4926-951d-b669e1799413",
   "metadata": {},
   "outputs": [
    {
     "data": {
      "text/plain": [
       "1.0"
      ]
     },
     "execution_count": 7,
     "metadata": {},
     "output_type": "execute_result"
    }
   ],
   "source": [
    "a/a # fifth arithmetic operator FLOAT DIVISION"
   ]
  },
  {
   "cell_type": "code",
   "execution_count": 8,
   "id": "855405a3-20aa-4bdc-9494-e1d29ae818f0",
   "metadata": {},
   "outputs": [
    {
     "data": {
      "text/plain": [
       "1"
      ]
     },
     "execution_count": 8,
     "metadata": {},
     "output_type": "execute_result"
    }
   ],
   "source": [
    "a//a # sixth arithmetic operator INT DIVISION"
   ]
  },
  {
   "cell_type": "code",
   "execution_count": 9,
   "id": "161cd2bd-f7a2-42c6-b8a9-9fe8455d4e24",
   "metadata": {},
   "outputs": [
    {
     "data": {
      "text/plain": [
       "0"
      ]
     },
     "execution_count": 9,
     "metadata": {},
     "output_type": "execute_result"
    }
   ],
   "source": [
    "a%a # seventh arithmetic operator MODULUS"
   ]
  },
  {
   "cell_type": "markdown",
   "id": "7893476c-20ed-4798-93f1-bb520c2eaa77",
   "metadata": {},
   "source": [
    "ASSIGNMENT OPERATOR"
   ]
  },
  {
   "cell_type": "code",
   "execution_count": 32,
   "id": "96597a31-c1f7-4d4b-884e-75f52631f04e",
   "metadata": {},
   "outputs": [],
   "source": [
    "a = 8 # a is the variable and the value assigned to a is 8"
   ]
  },
  {
   "cell_type": "code",
   "execution_count": 33,
   "id": "311ca8fa-5db6-4217-ae1c-cfaa85405865",
   "metadata": {},
   "outputs": [
    {
     "data": {
      "text/plain": [
       "8"
      ]
     },
     "execution_count": 33,
     "metadata": {},
     "output_type": "execute_result"
    }
   ],
   "source": [
    "a"
   ]
  },
  {
   "cell_type": "code",
   "execution_count": 34,
   "id": "d1c3d1a3-449d-408e-9a8a-9b706364e8e8",
   "metadata": {},
   "outputs": [
    {
     "data": {
      "text/plain": [
       "10"
      ]
     },
     "execution_count": 34,
     "metadata": {},
     "output_type": "execute_result"
    }
   ],
   "source": [
    "a + 2"
   ]
  },
  {
   "cell_type": "code",
   "execution_count": 38,
   "id": "9712f53a-f32a-4ed2-8ea5-06a45b118939",
   "metadata": {},
   "outputs": [
    {
     "data": {
      "text/plain": [
       "12"
      ]
     },
     "execution_count": 38,
     "metadata": {},
     "output_type": "execute_result"
    }
   ],
   "source": [
    "a += 2\n",
    "a"
   ]
  },
  {
   "cell_type": "code",
   "execution_count": 42,
   "id": "208edc93-2db2-47a1-b4a1-6aa8907667c2",
   "metadata": {},
   "outputs": [
    {
     "data": {
      "text/plain": [
       "20"
      ]
     },
     "execution_count": 42,
     "metadata": {},
     "output_type": "execute_result"
    }
   ],
   "source": [
    "a += 2 # it is an assignment operator it adds the value on the left to the value that is held by the variable on the right previously.Here the value just went up from 12 to 20 because i have executed the same statement for 4 times, just to understand this better.\n",
    "a"
   ]
  },
  {
   "cell_type": "code",
   "execution_count": 43,
   "id": "95e0f21b-c6b4-4c6a-832b-0ce2f91d78a0",
   "metadata": {},
   "outputs": [
    {
     "data": {
      "text/plain": [
       "18"
      ]
     },
     "execution_count": 43,
     "metadata": {},
     "output_type": "execute_result"
    }
   ],
   "source": [
    "a -= 2\n",
    "a"
   ]
  },
  {
   "cell_type": "code",
   "execution_count": 44,
   "id": "347d358a-2d31-4e30-af80-3697333e9ad4",
   "metadata": {},
   "outputs": [
    {
     "data": {
      "text/plain": [
       "16"
      ]
     },
     "execution_count": 44,
     "metadata": {},
     "output_type": "execute_result"
    }
   ],
   "source": [
    "a -= 2 # this is the assignment operator which does the opposite of the operator before that is this operator decrements the value on the left from the value assigned to the variable initially. As we can see the value of variable a is decremented from 20 to 18 and now from 18 to 16 because the same operator is executed twice.\n",
    "a"
   ]
  },
  {
   "cell_type": "code",
   "execution_count": 45,
   "id": "5211371a-af66-462f-8fa4-fb77a1d32c67",
   "metadata": {},
   "outputs": [
    {
     "data": {
      "text/plain": [
       "32"
      ]
     },
     "execution_count": 45,
     "metadata": {},
     "output_type": "execute_result"
    }
   ],
   "source": [
    "a *= 2\n",
    "a"
   ]
  },
  {
   "cell_type": "code",
   "execution_count": 46,
   "id": "6c509037-7d9d-43e1-8fe1-e5ff09faa9fd",
   "metadata": {},
   "outputs": [
    {
     "data": {
      "text/plain": [
       "64"
      ]
     },
     "execution_count": 46,
     "metadata": {},
     "output_type": "execute_result"
    }
   ],
   "source": [
    "a *= 2 # As we have learned before that the asterisk is the symbol for multiplication. Hence this operator multiplies the value on the left to the current value of the variable.\n",
    "a"
   ]
  },
  {
   "cell_type": "code",
   "execution_count": 47,
   "id": "a15bd88a-481d-4536-bac9-be25cf69d931",
   "metadata": {},
   "outputs": [
    {
     "data": {
      "text/plain": [
       "32.0"
      ]
     },
     "execution_count": 47,
     "metadata": {},
     "output_type": "execute_result"
    }
   ],
   "source": [
    "a /= 2 # this operator has float division operator, so it performs the same function as the standard float division.\n",
    "a"
   ]
  },
  {
   "cell_type": "code",
   "execution_count": 48,
   "id": "652a82dc-8eb1-4d62-aedb-2fef32461b49",
   "metadata": {},
   "outputs": [
    {
     "name": "stdout",
     "output_type": "stream",
     "text": [
      "7\n",
      "-7\n"
     ]
    }
   ],
   "source": [
    "a = 7\n",
    "b = -7 \n",
    "print(a)\n",
    "print(b)"
   ]
  },
  {
   "cell_type": "markdown",
   "id": "737368a4-1239-4ad2-b1de-8f94bf0f1829",
   "metadata": {},
   "source": [
    "VARIABLES"
   ]
  },
  {
   "cell_type": "code",
   "execution_count": 49,
   "id": "5feb850e-d22d-4c54-96c3-7f54a5bb4cbe",
   "metadata": {},
   "outputs": [
    {
     "ename": "SyntaxError",
     "evalue": "invalid decimal literal (965994033.py, line 1)",
     "output_type": "error",
     "traceback": [
      "\u001b[1;36m  Cell \u001b[1;32mIn[49], line 1\u001b[1;36m\u001b[0m\n\u001b[1;33m    1monu = 6 # a variable can never start with a number or digit\u001b[0m\n\u001b[1;37m    ^\u001b[0m\n\u001b[1;31mSyntaxError\u001b[0m\u001b[1;31m:\u001b[0m invalid decimal literal\n"
     ]
    }
   ],
   "source": [
    "1monu = 6 # a variable can never start with a number or digit"
   ]
  },
  {
   "cell_type": "code",
   "execution_count": 50,
   "id": "010dbcc3-18e1-4458-9fd9-6d8b1d2e4cf9",
   "metadata": {},
   "outputs": [
    {
     "data": {
      "text/plain": [
       "6"
      ]
     },
     "execution_count": 50,
     "metadata": {},
     "output_type": "execute_result"
    }
   ],
   "source": [
    "monu1 = 6 # FIRST RULE variable should always start with alphabets.\n",
    "monu1"
   ]
  },
  {
   "cell_type": "code",
   "execution_count": 51,
   "id": "0e996023-b095-4250-992b-a1129a2f5171",
   "metadata": {},
   "outputs": [
    {
     "ename": "SyntaxError",
     "evalue": "invalid syntax (3153024125.py, line 1)",
     "output_type": "error",
     "traceback": [
      "\u001b[1;36m  Cell \u001b[1;32mIn[51], line 1\u001b[1;36m\u001b[0m\n\u001b[1;33m    monu@ = 6 # a variable can never contain a special character\u001b[0m\n\u001b[1;37m          ^\u001b[0m\n\u001b[1;31mSyntaxError\u001b[0m\u001b[1;31m:\u001b[0m invalid syntax\n"
     ]
    }
   ],
   "source": [
    "monu@ = 6 # a variable can never contain a special character"
   ]
  },
  {
   "cell_type": "code",
   "execution_count": 52,
   "id": "9d697e51-5f5f-4e28-aae6-2811065971ca",
   "metadata": {},
   "outputs": [
    {
     "data": {
      "text/plain": [
       "6"
      ]
     },
     "execution_count": 52,
     "metadata": {},
     "output_type": "execute_result"
    }
   ],
   "source": [
    "monu_ = 6 # underscore \"_\" has the special previlege it can be included while naming the variable.\n",
    "monu_"
   ]
  },
  {
   "cell_type": "code",
   "execution_count": 53,
   "id": "0c99d3a4-5969-4f83-9deb-65018bb1e112",
   "metadata": {},
   "outputs": [
    {
     "ename": "SyntaxError",
     "evalue": "invalid syntax (754765764.py, line 1)",
     "output_type": "error",
     "traceback": [
      "\u001b[1;36m  Cell \u001b[1;32mIn[53], line 1\u001b[1;36m\u001b[0m\n\u001b[1;33m    if = 6\u001b[0m\n\u001b[1;37m       ^\u001b[0m\n\u001b[1;31mSyntaxError\u001b[0m\u001b[1;31m:\u001b[0m invalid syntax\n"
     ]
    }
   ],
   "source": [
    "if = 6\n",
    "if"
   ]
  },
  {
   "cell_type": "code",
   "execution_count": 54,
   "id": "9302b45f-2608-4a1e-81e1-96dcb921ea93",
   "metadata": {},
   "outputs": [
    {
     "data": {
      "text/plain": [
       "['False',\n",
       " 'None',\n",
       " 'True',\n",
       " 'and',\n",
       " 'as',\n",
       " 'assert',\n",
       " 'async',\n",
       " 'await',\n",
       " 'break',\n",
       " 'class',\n",
       " 'continue',\n",
       " 'def',\n",
       " 'del',\n",
       " 'elif',\n",
       " 'else',\n",
       " 'except',\n",
       " 'finally',\n",
       " 'for',\n",
       " 'from',\n",
       " 'global',\n",
       " 'if',\n",
       " 'import',\n",
       " 'in',\n",
       " 'is',\n",
       " 'lambda',\n",
       " 'nonlocal',\n",
       " 'not',\n",
       " 'or',\n",
       " 'pass',\n",
       " 'raise',\n",
       " 'return',\n",
       " 'try',\n",
       " 'while',\n",
       " 'with',\n",
       " 'yield']"
      ]
     },
     "execution_count": 54,
     "metadata": {},
     "output_type": "execute_result"
    }
   ],
   "source": [
    "import keyword # a keyword can never be used as variable name.\n",
    "keyword.kwlist # here is the list of keywords which can never be used as variable names."
   ]
  },
  {
   "cell_type": "code",
   "execution_count": 55,
   "id": "dbea8ef0-7956-4798-b5e1-18e0c439d261",
   "metadata": {},
   "outputs": [
    {
     "data": {
      "text/plain": [
       "35"
      ]
     },
     "execution_count": 55,
     "metadata": {},
     "output_type": "execute_result"
    }
   ],
   "source": [
    "len(keyword.kwlist) # len() is a function that tells us the number items in a set/list."
   ]
  },
  {
   "cell_type": "code",
   "execution_count": 56,
   "id": "3403719e-08ca-44ae-afc2-5d7303bcbf64",
   "metadata": {},
   "outputs": [
    {
     "data": {
      "text/plain": [
       "'3.12.7 | packaged by Anaconda, Inc. | (main, Oct  4 2024, 13:17:27) [MSC v.1929 64 bit (AMD64)]'"
      ]
     },
     "execution_count": 56,
     "metadata": {},
     "output_type": "execute_result"
    }
   ],
   "source": [
    "import sys # code to check the system version.\n",
    "sys.version"
   ]
  },
  {
   "cell_type": "markdown",
   "id": "d82937e8-0c38-4644-aa0b-2bd02f1dbf3e",
   "metadata": {},
   "source": [
    "DATA TYPES"
   ]
  },
  {
   "cell_type": "code",
   "execution_count": 57,
   "id": "07d2921f-1d5c-4a42-9dfd-09395cffab33",
   "metadata": {},
   "outputs": [
    {
     "name": "stdout",
     "output_type": "stream",
     "text": [
      "21\n",
      "<class 'int'>\n"
     ]
    }
   ],
   "source": [
    "i = 21 # variable assignment\n",
    "print(i) # print()-- function that is used to print a variable's value.\n",
    "print(type(i)) #type()--tells the datatype of the value assigned to the given variable."
   ]
  },
  {
   "cell_type": "code",
   "execution_count": 58,
   "id": "0123f662-46d9-4e8a-aa17-4a3d63e1eb79",
   "metadata": {},
   "outputs": [
    {
     "ename": "TypeError",
     "evalue": "cannot unpack non-iterable int object",
     "output_type": "error",
     "traceback": [
      "\u001b[1;31m---------------------------------------------------------------------------\u001b[0m",
      "\u001b[1;31mTypeError\u001b[0m                                 Traceback (most recent call last)",
      "Cell \u001b[1;32mIn[58], line 1\u001b[0m\n\u001b[1;32m----> 1\u001b[0m i1, i2 \u001b[38;5;241m=\u001b[39m \u001b[38;5;241m10\u001b[39m\n",
      "\u001b[1;31mTypeError\u001b[0m: cannot unpack non-iterable int object"
     ]
    }
   ],
   "source": [
    "i1, i2 = 10 # single value can't be assigned to two variables."
   ]
  },
  {
   "cell_type": "code",
   "execution_count": 59,
   "id": "c82bca53-017f-4c62-9ec5-5b81b2132a0c",
   "metadata": {},
   "outputs": [
    {
     "name": "stdout",
     "output_type": "stream",
     "text": [
      "10\n",
      "20\n",
      "30\n",
      "-10\n",
      "200\n",
      "0.5\n"
     ]
    }
   ],
   "source": [
    "i1, i2 = 10,20 # python has feature to assign many values to the same number of variables at the same time that is in the same line of code.\n",
    "print(i1) \n",
    "print(i2) # we are writing two different print() functions for i1 & i2 because if we won't write that way the value for the last variable in the code will only be printed as output leaving the rest behind.\n",
    "print(i1 + i2)\n",
    "print(i1 - i2)\n",
    "print(i1 * i2)\n",
    "print(i1 / i2)"
   ]
  },
  {
   "cell_type": "code",
   "execution_count": 60,
   "id": "2f543762-da1f-48c2-81a2-b0fb6398ac3d",
   "metadata": {},
   "outputs": [
    {
     "data": {
      "text/plain": [
       "110.63"
      ]
     },
     "execution_count": 60,
     "metadata": {},
     "output_type": "execute_result"
    }
   ],
   "source": [
    "ginger = 110.63 # the data type with a decimal in it is called FLOAT\n",
    "ginger"
   ]
  },
  {
   "cell_type": "code",
   "execution_count": 61,
   "id": "c25cbd9d-1931-4c29-b080-9e110df95d8f",
   "metadata": {},
   "outputs": [
    {
     "data": {
      "text/plain": [
       "float"
      ]
     },
     "execution_count": 61,
     "metadata": {},
     "output_type": "execute_result"
    }
   ],
   "source": [
    "type(ginger)"
   ]
  },
  {
   "cell_type": "code",
   "execution_count": 63,
   "id": "30779265-ff13-4a66-8969-dca0984fe926",
   "metadata": {},
   "outputs": [
    {
     "ename": "NameError",
     "evalue": "name 'Monika' is not defined",
     "output_type": "error",
     "traceback": [
      "\u001b[1;31m---------------------------------------------------------------------------\u001b[0m",
      "\u001b[1;31mNameError\u001b[0m                                 Traceback (most recent call last)",
      "Cell \u001b[1;32mIn[63], line 1\u001b[0m\n\u001b[1;32m----> 1\u001b[0m s \u001b[38;5;241m=\u001b[39m Monika \u001b[38;5;66;03m# it leaves an error message because text should always be written between single'',double\"\" or triple \"'\"' codes\u001b[39;00m\n\u001b[0;32m      2\u001b[0m s\n",
      "\u001b[1;31mNameError\u001b[0m: name 'Monika' is not defined"
     ]
    }
   ],
   "source": [
    "s = Monika # it leaves an error message because text should always be written between single'',double\"\" or triple \"'\"' codes\n",
    "s"
   ]
  },
  {
   "cell_type": "code",
   "execution_count": 64,
   "id": "83564a3d-cc54-4c6b-8740-cb276c9158c7",
   "metadata": {},
   "outputs": [
    {
     "data": {
      "text/plain": [
       "'Monika'"
      ]
     },
     "execution_count": 64,
     "metadata": {},
     "output_type": "execute_result"
    }
   ],
   "source": [
    "s = 'Monika'\n",
    "s"
   ]
  },
  {
   "cell_type": "code",
   "execution_count": 65,
   "id": "c1e209cf-a796-4cb4-8f3c-adc3f2aabcb5",
   "metadata": {},
   "outputs": [
    {
     "data": {
      "text/plain": [
       "str"
      ]
     },
     "execution_count": 65,
     "metadata": {},
     "output_type": "execute_result"
    }
   ],
   "source": [
    "type(s)"
   ]
  },
  {
   "cell_type": "code",
   "execution_count": 66,
   "id": "832a32bb-fc8f-42b5-b418-661d59076560",
   "metadata": {},
   "outputs": [
    {
     "data": {
      "text/plain": [
       "'Monika'"
      ]
     },
     "execution_count": 66,
     "metadata": {},
     "output_type": "execute_result"
    }
   ],
   "source": [
    "s = \"Monika\" # a sinle line of text can be written in single and double codes.\n",
    "s"
   ]
  },
  {
   "cell_type": "code",
   "execution_count": 67,
   "id": "98d8f44e-e852-4967-ae60-1c0caa5a0025",
   "metadata": {},
   "outputs": [
    {
     "data": {
      "text/plain": [
       "' Monika, a student of naresh it. \\n                learning full stack datascience with ai '"
      ]
     },
     "execution_count": 67,
     "metadata": {},
     "output_type": "execute_result"
    }
   ],
   "source": [
    "s1 = ''' Monika, a student of naresh it. \n",
    "                learning full stack datascience with ai '''\n",
    "s1"
   ]
  },
  {
   "cell_type": "code",
   "execution_count": 68,
   "id": "284f4177-65a3-4123-a24e-c2628df9d0e1",
   "metadata": {},
   "outputs": [
    {
     "data": {
      "text/plain": [
       "'Monika'"
      ]
     },
     "execution_count": 68,
     "metadata": {},
     "output_type": "execute_result"
    }
   ],
   "source": [
    "s"
   ]
  },
  {
   "cell_type": "code",
   "execution_count": 69,
   "id": "a90accad-0807-49af-ae2d-b681441649eb",
   "metadata": {},
   "outputs": [
    {
     "name": "stdout",
     "output_type": "stream",
     "text": [
      "M\n",
      "a\n",
      "i\n"
     ]
    }
   ],
   "source": [
    "print(s[0]) # print the element with 0 index. (forward indexing starts from 0)\n",
    "print(s[-1])# print the element with -1 index. (backward indexing starts from -1)\n",
    "print(s[3])"
   ]
  },
  {
   "cell_type": "code",
   "execution_count": 71,
   "id": "5af261b9-e8fd-4596-b84a-79d5419e0796",
   "metadata": {},
   "outputs": [
    {
     "data": {
      "text/plain": [
       "'Monika'"
      ]
     },
     "execution_count": 71,
     "metadata": {},
     "output_type": "execute_result"
    }
   ],
   "source": [
    "s[:] # the colon\":\" represents slicing method where the output is generally depended on the index numbers which are on left and right of colon \":\". Here there are no numbers so whole string is goint to be the output."
   ]
  },
  {
   "cell_type": "code",
   "execution_count": 72,
   "id": "9614f152-6c98-46db-bfba-eaaa1ed8be2c",
   "metadata": {},
   "outputs": [
    {
     "data": {
      "text/plain": [
       "'nik'"
      ]
     },
     "execution_count": 72,
     "metadata": {},
     "output_type": "execute_result"
    }
   ],
   "source": [
    "s[2:5] #so as we see that the index number to the left is 2 so the value in the string with the index 2 is n, and to the rigth we have 5 the value with index 5 is a. So the output should be \"nika\" but the output we got is \"nik\" because of the rule that we have to know is WHEN IT COMES TO THE RIGHT INDEX \"n-1\" IS THE FORMULAE TO BE FOLLOWED that is we need to decrease the index value on the right with 1."
   ]
  },
  {
   "cell_type": "code",
   "execution_count": 73,
   "id": "1ea80579-7fc8-4d5f-8933-428dcbb3ebc2",
   "metadata": {},
   "outputs": [
    {
     "ename": "NameError",
     "evalue": "name 'true' is not defined",
     "output_type": "error",
     "traceback": [
      "\u001b[1;31m---------------------------------------------------------------------------\u001b[0m",
      "\u001b[1;31mNameError\u001b[0m                                 Traceback (most recent call last)",
      "Cell \u001b[1;32mIn[73], line 1\u001b[0m\n\u001b[1;32m----> 1\u001b[0m true\n",
      "\u001b[1;31mNameError\u001b[0m: name 'true' is not defined"
     ]
    }
   ],
   "source": [
    "true # here comes the boolean data type where we only have two values that is TRUE AND FALSE but both should start with the capital letter. otherwise it leaves an error."
   ]
  },
  {
   "cell_type": "code",
   "execution_count": 74,
   "id": "f024a003-e3f4-4cef-baa3-7359ebd9acbf",
   "metadata": {},
   "outputs": [
    {
     "data": {
      "text/plain": [
       "True"
      ]
     },
     "execution_count": 74,
     "metadata": {},
     "output_type": "execute_result"
    }
   ],
   "source": [
    "True"
   ]
  },
  {
   "cell_type": "code",
   "execution_count": 75,
   "id": "1aff074b-b89c-4a6b-9224-e5415f4f58e6",
   "metadata": {},
   "outputs": [
    {
     "data": {
      "text/plain": [
       "False"
      ]
     },
     "execution_count": 75,
     "metadata": {},
     "output_type": "execute_result"
    }
   ],
   "source": [
    "False"
   ]
  },
  {
   "cell_type": "code",
   "execution_count": 76,
   "id": "c4b84d6a-1f1f-4304-85ad-d68360ca8039",
   "metadata": {},
   "outputs": [
    {
     "data": {
      "text/plain": [
       "True"
      ]
     },
     "execution_count": 76,
     "metadata": {},
     "output_type": "execute_result"
    }
   ],
   "source": [
    "b = True\n",
    "b1 = False\n",
    "b"
   ]
  },
  {
   "cell_type": "code",
   "execution_count": 77,
   "id": "f33b68a3-c034-4ade-b9ad-c669a7dbfd7a",
   "metadata": {},
   "outputs": [
    {
     "data": {
      "text/plain": [
       "False"
      ]
     },
     "execution_count": 77,
     "metadata": {},
     "output_type": "execute_result"
    }
   ],
   "source": [
    "b1"
   ]
  },
  {
   "cell_type": "code",
   "execution_count": 78,
   "id": "ed438a3c-1781-4616-954a-ade65f1b7fe7",
   "metadata": {},
   "outputs": [
    {
     "data": {
      "text/plain": [
       "1"
      ]
     },
     "execution_count": 78,
     "metadata": {},
     "output_type": "execute_result"
    }
   ],
   "source": [
    "b + b1 # True indicates 1 and False indicates 0. So, the output is 1+0=1. "
   ]
  },
  {
   "cell_type": "code",
   "execution_count": 80,
   "id": "097b5e2e-4aef-4aa1-8ec1-5f32e47bae6e",
   "metadata": {},
   "outputs": [
    {
     "name": "stdout",
     "output_type": "stream",
     "text": [
      "1\n",
      "0\n",
      "0.0\n",
      "0\n"
     ]
    }
   ],
   "source": [
    "print(b-b1) # the systems can understand boolean language because it is binary.\n",
    "print(b*b1)\n",
    "print(b1/b)\n",
    "print(b1//b)"
   ]
  },
  {
   "cell_type": "code",
   "execution_count": 82,
   "id": "cacda5b5-c4fb-48cd-9679-f50157811e2c",
   "metadata": {},
   "outputs": [
    {
     "data": {
      "text/plain": [
       "bool"
      ]
     },
     "execution_count": 82,
     "metadata": {},
     "output_type": "execute_result"
    }
   ],
   "source": [
    "type(b)"
   ]
  },
  {
   "cell_type": "code",
   "execution_count": 84,
   "id": "7396a6ea-844d-486e-87cb-08c7a4cb343d",
   "metadata": {},
   "outputs": [
    {
     "data": {
      "text/plain": [
       "(10+20j)"
      ]
     },
     "execution_count": 84,
     "metadata": {},
     "output_type": "execute_result"
    }
   ],
   "source": [
    "c1 = 10 + 20j # this is complex data type where there are three parts 10 (the real part), 20 ( the imaginary part) and j(the square root of -1)\n",
    "c1"
   ]
  },
  {
   "cell_type": "code",
   "execution_count": 85,
   "id": "263c9fea-d83e-4e6f-bb9c-195d00adacfa",
   "metadata": {},
   "outputs": [
    {
     "data": {
      "text/plain": [
       "complex"
      ]
     },
     "execution_count": 85,
     "metadata": {},
     "output_type": "execute_result"
    }
   ],
   "source": [
    "type(c1)"
   ]
  },
  {
   "cell_type": "code",
   "execution_count": 86,
   "id": "3e7877bd-f1e6-4993-b672-cbafc624192f",
   "metadata": {},
   "outputs": [
    {
     "data": {
      "text/plain": [
       "10.0"
      ]
     },
     "execution_count": 86,
     "metadata": {},
     "output_type": "execute_result"
    }
   ],
   "source": [
    "c1.real # gives real part as output"
   ]
  },
  {
   "cell_type": "code",
   "execution_count": 87,
   "id": "ef82e93b-f453-4cca-ac15-cbcdca0d0d9d",
   "metadata": {},
   "outputs": [
    {
     "data": {
      "text/plain": [
       "20.0"
      ]
     },
     "execution_count": 87,
     "metadata": {},
     "output_type": "execute_result"
    }
   ],
   "source": [
    "c1.imag # gives imaginary part as output"
   ]
  },
  {
   "cell_type": "code",
   "execution_count": 88,
   "id": "28e66fb9-0982-43a6-af63-034cbcae18bc",
   "metadata": {},
   "outputs": [],
   "source": [
    "c2 = 3 + 5j"
   ]
  },
  {
   "cell_type": "code",
   "execution_count": 90,
   "id": "382c5033-2b27-4606-9378-18f7e0a2d198",
   "metadata": {},
   "outputs": [
    {
     "data": {
      "text/plain": [
       "(13+25j)"
      ]
     },
     "execution_count": 90,
     "metadata": {},
     "output_type": "execute_result"
    }
   ],
   "source": [
    "c1 + c2 # in complex data type the arithmetic operators works seperately on real and imaginary parts"
   ]
  },
  {
   "cell_type": "markdown",
   "id": "30100cb0-16a5-4533-a289-20990c545638",
   "metadata": {},
   "source": [
    "TYPE CASTING"
   ]
  },
  {
   "cell_type": "code",
   "execution_count": 91,
   "id": "08946c8f-58fa-417e-8e5c-bb06fa172a98",
   "metadata": {},
   "outputs": [
    {
     "data": {
      "text/plain": [
       "3"
      ]
     },
     "execution_count": 91,
     "metadata": {},
     "output_type": "execute_result"
    }
   ],
   "source": [
    "int(3.4) # converts float to int"
   ]
  },
  {
   "cell_type": "code",
   "execution_count": 92,
   "id": "a609a89e-baea-4161-b81f-48b9f880ca7d",
   "metadata": {},
   "outputs": [
    {
     "ename": "TypeError",
     "evalue": "'float' object cannot be interpreted as an integer",
     "output_type": "error",
     "traceback": [
      "\u001b[1;31m---------------------------------------------------------------------------\u001b[0m",
      "\u001b[1;31mTypeError\u001b[0m                                 Traceback (most recent call last)",
      "Cell \u001b[1;32mIn[92], line 1\u001b[0m\n\u001b[1;32m----> 1\u001b[0m \u001b[38;5;28mint\u001b[39m(\u001b[38;5;241m2.3\u001b[39m,\u001b[38;5;241m4.5\u001b[39m)\n",
      "\u001b[1;31mTypeError\u001b[0m: 'float' object cannot be interpreted as an integer"
     ]
    }
   ],
   "source": [
    "int(2.3,4.5) # does'nt accept more that one argument."
   ]
  },
  {
   "cell_type": "code",
   "execution_count": 94,
   "id": "d8a67607-1204-4358-b30e-835ae65690ce",
   "metadata": {},
   "outputs": [
    {
     "data": {
      "text/plain": [
       "1"
      ]
     },
     "execution_count": 94,
     "metadata": {},
     "output_type": "execute_result"
    }
   ],
   "source": [
    "int(True) # boolean to int"
   ]
  },
  {
   "cell_type": "code",
   "execution_count": 95,
   "id": "08596c2f-5417-4387-9c9f-1080156f7a55",
   "metadata": {},
   "outputs": [
    {
     "ename": "ValueError",
     "evalue": "invalid literal for int() with base 10: 'Monika'",
     "output_type": "error",
     "traceback": [
      "\u001b[1;31m---------------------------------------------------------------------------\u001b[0m",
      "\u001b[1;31mValueError\u001b[0m                                Traceback (most recent call last)",
      "Cell \u001b[1;32mIn[95], line 1\u001b[0m\n\u001b[1;32m----> 1\u001b[0m \u001b[38;5;28mint\u001b[39m(\u001b[38;5;124m\"\u001b[39m\u001b[38;5;124mMonika\u001b[39m\u001b[38;5;124m\"\u001b[39m)\n",
      "\u001b[1;31mValueError\u001b[0m: invalid literal for int() with base 10: 'Monika'"
     ]
    }
   ],
   "source": [
    "int(\"Monika\") # can't convert string with text to int."
   ]
  },
  {
   "cell_type": "code",
   "execution_count": 96,
   "id": "eb4100a5-2bab-4cb6-86a0-537ea09eaad2",
   "metadata": {},
   "outputs": [
    {
     "data": {
      "text/plain": [
       "21"
      ]
     },
     "execution_count": 96,
     "metadata": {},
     "output_type": "execute_result"
    }
   ],
   "source": [
    "int('21') # string with digits to int"
   ]
  },
  {
   "cell_type": "code",
   "execution_count": null,
   "id": "c5c48cde-bee0-4a20-9bb6-c4b09321cb5c",
   "metadata": {},
   "outputs": [],
   "source": [
    "int(10+2j) # can't convert complex to int"
   ]
  }
 ],
 "metadata": {
  "kernelspec": {
   "display_name": "Python 3 (ipykernel)",
   "language": "python",
   "name": "python3"
  },
  "language_info": {
   "codemirror_mode": {
    "name": "ipython",
    "version": 3
   },
   "file_extension": ".py",
   "mimetype": "text/x-python",
   "name": "python",
   "nbconvert_exporter": "python",
   "pygments_lexer": "ipython3",
   "version": "3.12.7"
  }
 },
 "nbformat": 4,
 "nbformat_minor": 5
}
